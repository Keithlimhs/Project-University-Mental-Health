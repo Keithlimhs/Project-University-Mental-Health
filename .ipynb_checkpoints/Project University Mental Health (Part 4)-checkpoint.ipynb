{
 "cells": [
  {
   "cell_type": "markdown",
   "id": "ca23064e",
   "metadata": {},
   "source": [
    "# Project University Mental Health"
   ]
  },
  {
   "cell_type": "markdown",
   "id": "0cce5c89",
   "metadata": {},
   "source": [
    "## Part 4: Machine learning model training"
   ]
  },
  {
   "cell_type": "code",
   "execution_count": 1,
   "id": "01a80a3a",
   "metadata": {},
   "outputs": [],
   "source": [
    "# Step 1: Import your machine learning libraries\n",
    "import pandas as pd\n",
    "import numpy as np"
   ]
  },
  {
   "cell_type": "code",
   "execution_count": 2,
   "id": "70140086",
   "metadata": {},
   "outputs": [],
   "source": [
    "# Step 2: Read your CSV (don't forget to preview and check)\n",
    "df_float = pd.read_csv('data_cleaned_floats.csv')\n",
    "df_objects = pd.read_csv('data_cleaned_object_dummified.csv')\n",
    "df_full = pd.read_csv('data_cleaned_full.csv')"
   ]
  },
  {
   "cell_type": "code",
   "execution_count": 3,
   "id": "9c48675b",
   "metadata": {},
   "outputs": [
    {
     "data": {
      "text/html": [
       "<div>\n",
       "<style scoped>\n",
       "    .dataframe tbody tr th:only-of-type {\n",
       "        vertical-align: middle;\n",
       "    }\n",
       "\n",
       "    .dataframe tbody tr th {\n",
       "        vertical-align: top;\n",
       "    }\n",
       "\n",
       "    .dataframe thead th {\n",
       "        text-align: right;\n",
       "    }\n",
       "</style>\n",
       "<table border=\"1\" class=\"dataframe\">\n",
       "  <thead>\n",
       "    <tr style=\"text-align: right;\">\n",
       "      <th></th>\n",
       "      <th>Age</th>\n",
       "      <th>Age_cate</th>\n",
       "      <th>Stay</th>\n",
       "      <th>Japanese</th>\n",
       "      <th>English</th>\n",
       "      <th>ToDep</th>\n",
       "      <th>ToSC</th>\n",
       "      <th>APD</th>\n",
       "      <th>AHome</th>\n",
       "      <th>APH</th>\n",
       "      <th>...</th>\n",
       "      <th>Friends</th>\n",
       "      <th>Parents</th>\n",
       "      <th>Relative</th>\n",
       "      <th>Profess</th>\n",
       "      <th>Phone</th>\n",
       "      <th>Doctor</th>\n",
       "      <th>Reli</th>\n",
       "      <th>Alone</th>\n",
       "      <th>Others</th>\n",
       "      <th>Internet</th>\n",
       "    </tr>\n",
       "  </thead>\n",
       "  <tbody>\n",
       "    <tr>\n",
       "      <th>0</th>\n",
       "      <td>24.0</td>\n",
       "      <td>4.0</td>\n",
       "      <td>5.0</td>\n",
       "      <td>3.0</td>\n",
       "      <td>5.0</td>\n",
       "      <td>0.0</td>\n",
       "      <td>34.0</td>\n",
       "      <td>23.0</td>\n",
       "      <td>9.0</td>\n",
       "      <td>11.0</td>\n",
       "      <td>...</td>\n",
       "      <td>5.0</td>\n",
       "      <td>6.0</td>\n",
       "      <td>3.0</td>\n",
       "      <td>2.0</td>\n",
       "      <td>1.0</td>\n",
       "      <td>4.0</td>\n",
       "      <td>1.0</td>\n",
       "      <td>3.0</td>\n",
       "      <td>4.0</td>\n",
       "      <td>3.0</td>\n",
       "    </tr>\n",
       "    <tr>\n",
       "      <th>1</th>\n",
       "      <td>28.0</td>\n",
       "      <td>5.0</td>\n",
       "      <td>1.0</td>\n",
       "      <td>4.0</td>\n",
       "      <td>4.0</td>\n",
       "      <td>2.0</td>\n",
       "      <td>48.0</td>\n",
       "      <td>8.0</td>\n",
       "      <td>7.0</td>\n",
       "      <td>5.0</td>\n",
       "      <td>...</td>\n",
       "      <td>7.0</td>\n",
       "      <td>7.0</td>\n",
       "      <td>4.0</td>\n",
       "      <td>4.0</td>\n",
       "      <td>4.0</td>\n",
       "      <td>4.0</td>\n",
       "      <td>1.0</td>\n",
       "      <td>1.0</td>\n",
       "      <td>1.0</td>\n",
       "      <td>3.0</td>\n",
       "    </tr>\n",
       "    <tr>\n",
       "      <th>2</th>\n",
       "      <td>25.0</td>\n",
       "      <td>4.0</td>\n",
       "      <td>6.0</td>\n",
       "      <td>4.0</td>\n",
       "      <td>4.0</td>\n",
       "      <td>2.0</td>\n",
       "      <td>41.0</td>\n",
       "      <td>13.0</td>\n",
       "      <td>4.0</td>\n",
       "      <td>7.0</td>\n",
       "      <td>...</td>\n",
       "      <td>3.0</td>\n",
       "      <td>3.0</td>\n",
       "      <td>1.0</td>\n",
       "      <td>1.0</td>\n",
       "      <td>2.0</td>\n",
       "      <td>1.0</td>\n",
       "      <td>1.0</td>\n",
       "      <td>1.0</td>\n",
       "      <td>1.0</td>\n",
       "      <td>3.0</td>\n",
       "    </tr>\n",
       "    <tr>\n",
       "      <th>3</th>\n",
       "      <td>29.0</td>\n",
       "      <td>5.0</td>\n",
       "      <td>1.0</td>\n",
       "      <td>2.0</td>\n",
       "      <td>3.0</td>\n",
       "      <td>3.0</td>\n",
       "      <td>37.0</td>\n",
       "      <td>16.0</td>\n",
       "      <td>10.0</td>\n",
       "      <td>10.0</td>\n",
       "      <td>...</td>\n",
       "      <td>5.0</td>\n",
       "      <td>5.0</td>\n",
       "      <td>5.0</td>\n",
       "      <td>5.0</td>\n",
       "      <td>2.0</td>\n",
       "      <td>2.0</td>\n",
       "      <td>2.0</td>\n",
       "      <td>4.0</td>\n",
       "      <td>4.0</td>\n",
       "      <td>3.0</td>\n",
       "    </tr>\n",
       "    <tr>\n",
       "      <th>4</th>\n",
       "      <td>28.0</td>\n",
       "      <td>5.0</td>\n",
       "      <td>1.0</td>\n",
       "      <td>1.0</td>\n",
       "      <td>3.0</td>\n",
       "      <td>3.0</td>\n",
       "      <td>37.0</td>\n",
       "      <td>15.0</td>\n",
       "      <td>12.0</td>\n",
       "      <td>5.0</td>\n",
       "      <td>...</td>\n",
       "      <td>5.0</td>\n",
       "      <td>5.0</td>\n",
       "      <td>2.0</td>\n",
       "      <td>5.0</td>\n",
       "      <td>2.0</td>\n",
       "      <td>5.0</td>\n",
       "      <td>5.0</td>\n",
       "      <td>4.0</td>\n",
       "      <td>4.0</td>\n",
       "      <td>3.0</td>\n",
       "    </tr>\n",
       "    <tr>\n",
       "      <th>...</th>\n",
       "      <td>...</td>\n",
       "      <td>...</td>\n",
       "      <td>...</td>\n",
       "      <td>...</td>\n",
       "      <td>...</td>\n",
       "      <td>...</td>\n",
       "      <td>...</td>\n",
       "      <td>...</td>\n",
       "      <td>...</td>\n",
       "      <td>...</td>\n",
       "      <td>...</td>\n",
       "      <td>...</td>\n",
       "      <td>...</td>\n",
       "      <td>...</td>\n",
       "      <td>...</td>\n",
       "      <td>...</td>\n",
       "      <td>...</td>\n",
       "      <td>...</td>\n",
       "      <td>...</td>\n",
       "      <td>...</td>\n",
       "      <td>...</td>\n",
       "    </tr>\n",
       "    <tr>\n",
       "      <th>263</th>\n",
       "      <td>21.0</td>\n",
       "      <td>3.0</td>\n",
       "      <td>4.0</td>\n",
       "      <td>5.0</td>\n",
       "      <td>4.0</td>\n",
       "      <td>8.0</td>\n",
       "      <td>27.0</td>\n",
       "      <td>16.0</td>\n",
       "      <td>9.0</td>\n",
       "      <td>10.0</td>\n",
       "      <td>...</td>\n",
       "      <td>7.0</td>\n",
       "      <td>5.0</td>\n",
       "      <td>1.0</td>\n",
       "      <td>3.0</td>\n",
       "      <td>3.0</td>\n",
       "      <td>3.0</td>\n",
       "      <td>1.0</td>\n",
       "      <td>1.0</td>\n",
       "      <td>1.0</td>\n",
       "      <td>6.0</td>\n",
       "    </tr>\n",
       "    <tr>\n",
       "      <th>264</th>\n",
       "      <td>22.0</td>\n",
       "      <td>3.0</td>\n",
       "      <td>3.0</td>\n",
       "      <td>3.0</td>\n",
       "      <td>4.0</td>\n",
       "      <td>2.0</td>\n",
       "      <td>48.0</td>\n",
       "      <td>8.0</td>\n",
       "      <td>10.0</td>\n",
       "      <td>5.0</td>\n",
       "      <td>...</td>\n",
       "      <td>7.0</td>\n",
       "      <td>7.0</td>\n",
       "      <td>7.0</td>\n",
       "      <td>2.0</td>\n",
       "      <td>2.0</td>\n",
       "      <td>2.0</td>\n",
       "      <td>2.0</td>\n",
       "      <td>2.0</td>\n",
       "      <td>1.0</td>\n",
       "      <td>3.0</td>\n",
       "    </tr>\n",
       "    <tr>\n",
       "      <th>265</th>\n",
       "      <td>19.0</td>\n",
       "      <td>2.0</td>\n",
       "      <td>1.0</td>\n",
       "      <td>5.0</td>\n",
       "      <td>3.0</td>\n",
       "      <td>9.0</td>\n",
       "      <td>47.0</td>\n",
       "      <td>8.0</td>\n",
       "      <td>7.0</td>\n",
       "      <td>5.0</td>\n",
       "      <td>...</td>\n",
       "      <td>7.0</td>\n",
       "      <td>7.0</td>\n",
       "      <td>6.0</td>\n",
       "      <td>7.0</td>\n",
       "      <td>7.0</td>\n",
       "      <td>7.0</td>\n",
       "      <td>1.0</td>\n",
       "      <td>1.0</td>\n",
       "      <td>1.0</td>\n",
       "      <td>2.0</td>\n",
       "    </tr>\n",
       "    <tr>\n",
       "      <th>266</th>\n",
       "      <td>19.0</td>\n",
       "      <td>2.0</td>\n",
       "      <td>1.0</td>\n",
       "      <td>5.0</td>\n",
       "      <td>3.0</td>\n",
       "      <td>1.0</td>\n",
       "      <td>43.0</td>\n",
       "      <td>8.0</td>\n",
       "      <td>12.0</td>\n",
       "      <td>5.0</td>\n",
       "      <td>...</td>\n",
       "      <td>5.0</td>\n",
       "      <td>7.0</td>\n",
       "      <td>5.0</td>\n",
       "      <td>5.0</td>\n",
       "      <td>5.0</td>\n",
       "      <td>5.0</td>\n",
       "      <td>4.0</td>\n",
       "      <td>4.0</td>\n",
       "      <td>4.0</td>\n",
       "      <td>2.0</td>\n",
       "    </tr>\n",
       "    <tr>\n",
       "      <th>267</th>\n",
       "      <td>20.0</td>\n",
       "      <td>2.0</td>\n",
       "      <td>2.0</td>\n",
       "      <td>5.0</td>\n",
       "      <td>3.0</td>\n",
       "      <td>7.0</td>\n",
       "      <td>41.0</td>\n",
       "      <td>14.0</td>\n",
       "      <td>4.0</td>\n",
       "      <td>10.0</td>\n",
       "      <td>...</td>\n",
       "      <td>6.0</td>\n",
       "      <td>4.0</td>\n",
       "      <td>4.0</td>\n",
       "      <td>4.0</td>\n",
       "      <td>4.0</td>\n",
       "      <td>4.0</td>\n",
       "      <td>4.0</td>\n",
       "      <td>6.0</td>\n",
       "      <td>1.0</td>\n",
       "      <td>3.0</td>\n",
       "    </tr>\n",
       "  </tbody>\n",
       "</table>\n",
       "<p>268 rows × 26 columns</p>\n",
       "</div>"
      ],
      "text/plain": [
       "      Age  Age_cate  Stay  Japanese  English  ToDep  ToSC   APD  AHome   APH  \\\n",
       "0    24.0       4.0   5.0       3.0      5.0    0.0  34.0  23.0    9.0  11.0   \n",
       "1    28.0       5.0   1.0       4.0      4.0    2.0  48.0   8.0    7.0   5.0   \n",
       "2    25.0       4.0   6.0       4.0      4.0    2.0  41.0  13.0    4.0   7.0   \n",
       "3    29.0       5.0   1.0       2.0      3.0    3.0  37.0  16.0   10.0  10.0   \n",
       "4    28.0       5.0   1.0       1.0      3.0    3.0  37.0  15.0   12.0   5.0   \n",
       "..    ...       ...   ...       ...      ...    ...   ...   ...    ...   ...   \n",
       "263  21.0       3.0   4.0       5.0      4.0    8.0  27.0  16.0    9.0  10.0   \n",
       "264  22.0       3.0   3.0       3.0      4.0    2.0  48.0   8.0   10.0   5.0   \n",
       "265  19.0       2.0   1.0       5.0      3.0    9.0  47.0   8.0    7.0   5.0   \n",
       "266  19.0       2.0   1.0       5.0      3.0    1.0  43.0   8.0   12.0   5.0   \n",
       "267  20.0       2.0   2.0       5.0      3.0    7.0  41.0  14.0    4.0  10.0   \n",
       "\n",
       "     ...  Friends  Parents  Relative  Profess   Phone  Doctor  Reli  Alone  \\\n",
       "0    ...      5.0      6.0       3.0      2.0     1.0     4.0   1.0    3.0   \n",
       "1    ...      7.0      7.0       4.0      4.0     4.0     4.0   1.0    1.0   \n",
       "2    ...      3.0      3.0       1.0      1.0     2.0     1.0   1.0    1.0   \n",
       "3    ...      5.0      5.0       5.0      5.0     2.0     2.0   2.0    4.0   \n",
       "4    ...      5.0      5.0       2.0      5.0     2.0     5.0   5.0    4.0   \n",
       "..   ...      ...      ...       ...      ...     ...     ...   ...    ...   \n",
       "263  ...      7.0      5.0       1.0      3.0     3.0     3.0   1.0    1.0   \n",
       "264  ...      7.0      7.0       7.0      2.0     2.0     2.0   2.0    2.0   \n",
       "265  ...      7.0      7.0       6.0      7.0     7.0     7.0   1.0    1.0   \n",
       "266  ...      5.0      7.0       5.0      5.0     5.0     5.0   4.0    4.0   \n",
       "267  ...      6.0      4.0       4.0      4.0     4.0     4.0   4.0    6.0   \n",
       "\n",
       "     Others  Internet  \n",
       "0       4.0       3.0  \n",
       "1       1.0       3.0  \n",
       "2       1.0       3.0  \n",
       "3       4.0       3.0  \n",
       "4       4.0       3.0  \n",
       "..      ...       ...  \n",
       "263     1.0       6.0  \n",
       "264     1.0       3.0  \n",
       "265     1.0       2.0  \n",
       "266     4.0       2.0  \n",
       "267     1.0       3.0  \n",
       "\n",
       "[268 rows x 26 columns]"
      ]
     },
     "execution_count": 3,
     "metadata": {},
     "output_type": "execute_result"
    }
   ],
   "source": [
    "df_float"
   ]
  },
  {
   "cell_type": "code",
   "execution_count": 4,
   "id": "426d7b69",
   "metadata": {},
   "outputs": [
    {
     "data": {
      "text/html": [
       "<div>\n",
       "<style scoped>\n",
       "    .dataframe tbody tr th:only-of-type {\n",
       "        vertical-align: middle;\n",
       "    }\n",
       "\n",
       "    .dataframe tbody tr th {\n",
       "        vertical-align: top;\n",
       "    }\n",
       "\n",
       "    .dataframe thead th {\n",
       "        text-align: right;\n",
       "    }\n",
       "</style>\n",
       "<table border=\"1\" class=\"dataframe\">\n",
       "  <thead>\n",
       "    <tr style=\"text-align: right;\">\n",
       "      <th></th>\n",
       "      <th>inter_dom_Inter</th>\n",
       "      <th>Region_JAP</th>\n",
       "      <th>Region_Others</th>\n",
       "      <th>Region_SA</th>\n",
       "      <th>Region_SEA</th>\n",
       "      <th>Gender_Male</th>\n",
       "      <th>Academic_Under</th>\n",
       "      <th>Stay_Cate_Medium</th>\n",
       "      <th>Stay_Cate_Short</th>\n",
       "      <th>Japanese_cate_High</th>\n",
       "      <th>...</th>\n",
       "      <th>Friends_bi_Yes</th>\n",
       "      <th>Parents_bi_Yes</th>\n",
       "      <th>Relative_bi_Yes</th>\n",
       "      <th>Professional_bi_Yes</th>\n",
       "      <th>Phone_bi_Yes</th>\n",
       "      <th>Doctor_bi_Yes</th>\n",
       "      <th>religion_bi_Yes</th>\n",
       "      <th>Alone_bi_Yes</th>\n",
       "      <th>Others_bi_Yes</th>\n",
       "      <th>Internet_bi_Yes</th>\n",
       "    </tr>\n",
       "  </thead>\n",
       "  <tbody>\n",
       "    <tr>\n",
       "      <th>0</th>\n",
       "      <td>1</td>\n",
       "      <td>0</td>\n",
       "      <td>0</td>\n",
       "      <td>0</td>\n",
       "      <td>1</td>\n",
       "      <td>1</td>\n",
       "      <td>0</td>\n",
       "      <td>0</td>\n",
       "      <td>0</td>\n",
       "      <td>0</td>\n",
       "      <td>...</td>\n",
       "      <td>1</td>\n",
       "      <td>1</td>\n",
       "      <td>0</td>\n",
       "      <td>0</td>\n",
       "      <td>0</td>\n",
       "      <td>0</td>\n",
       "      <td>0</td>\n",
       "      <td>0</td>\n",
       "      <td>0</td>\n",
       "      <td>0</td>\n",
       "    </tr>\n",
       "    <tr>\n",
       "      <th>1</th>\n",
       "      <td>1</td>\n",
       "      <td>0</td>\n",
       "      <td>0</td>\n",
       "      <td>0</td>\n",
       "      <td>1</td>\n",
       "      <td>1</td>\n",
       "      <td>0</td>\n",
       "      <td>0</td>\n",
       "      <td>1</td>\n",
       "      <td>1</td>\n",
       "      <td>...</td>\n",
       "      <td>1</td>\n",
       "      <td>1</td>\n",
       "      <td>0</td>\n",
       "      <td>0</td>\n",
       "      <td>0</td>\n",
       "      <td>0</td>\n",
       "      <td>0</td>\n",
       "      <td>0</td>\n",
       "      <td>0</td>\n",
       "      <td>0</td>\n",
       "    </tr>\n",
       "    <tr>\n",
       "      <th>2</th>\n",
       "      <td>1</td>\n",
       "      <td>0</td>\n",
       "      <td>0</td>\n",
       "      <td>0</td>\n",
       "      <td>1</td>\n",
       "      <td>1</td>\n",
       "      <td>0</td>\n",
       "      <td>0</td>\n",
       "      <td>0</td>\n",
       "      <td>1</td>\n",
       "      <td>...</td>\n",
       "      <td>0</td>\n",
       "      <td>0</td>\n",
       "      <td>0</td>\n",
       "      <td>0</td>\n",
       "      <td>0</td>\n",
       "      <td>0</td>\n",
       "      <td>0</td>\n",
       "      <td>0</td>\n",
       "      <td>0</td>\n",
       "      <td>0</td>\n",
       "    </tr>\n",
       "    <tr>\n",
       "      <th>3</th>\n",
       "      <td>1</td>\n",
       "      <td>0</td>\n",
       "      <td>0</td>\n",
       "      <td>0</td>\n",
       "      <td>0</td>\n",
       "      <td>0</td>\n",
       "      <td>0</td>\n",
       "      <td>0</td>\n",
       "      <td>1</td>\n",
       "      <td>0</td>\n",
       "      <td>...</td>\n",
       "      <td>1</td>\n",
       "      <td>1</td>\n",
       "      <td>1</td>\n",
       "      <td>1</td>\n",
       "      <td>0</td>\n",
       "      <td>0</td>\n",
       "      <td>0</td>\n",
       "      <td>0</td>\n",
       "      <td>0</td>\n",
       "      <td>0</td>\n",
       "    </tr>\n",
       "    <tr>\n",
       "      <th>4</th>\n",
       "      <td>1</td>\n",
       "      <td>0</td>\n",
       "      <td>0</td>\n",
       "      <td>0</td>\n",
       "      <td>0</td>\n",
       "      <td>0</td>\n",
       "      <td>0</td>\n",
       "      <td>0</td>\n",
       "      <td>1</td>\n",
       "      <td>0</td>\n",
       "      <td>...</td>\n",
       "      <td>1</td>\n",
       "      <td>1</td>\n",
       "      <td>0</td>\n",
       "      <td>1</td>\n",
       "      <td>0</td>\n",
       "      <td>1</td>\n",
       "      <td>1</td>\n",
       "      <td>0</td>\n",
       "      <td>0</td>\n",
       "      <td>0</td>\n",
       "    </tr>\n",
       "    <tr>\n",
       "      <th>...</th>\n",
       "      <td>...</td>\n",
       "      <td>...</td>\n",
       "      <td>...</td>\n",
       "      <td>...</td>\n",
       "      <td>...</td>\n",
       "      <td>...</td>\n",
       "      <td>...</td>\n",
       "      <td>...</td>\n",
       "      <td>...</td>\n",
       "      <td>...</td>\n",
       "      <td>...</td>\n",
       "      <td>...</td>\n",
       "      <td>...</td>\n",
       "      <td>...</td>\n",
       "      <td>...</td>\n",
       "      <td>...</td>\n",
       "      <td>...</td>\n",
       "      <td>...</td>\n",
       "      <td>...</td>\n",
       "      <td>...</td>\n",
       "      <td>...</td>\n",
       "    </tr>\n",
       "    <tr>\n",
       "      <th>263</th>\n",
       "      <td>0</td>\n",
       "      <td>1</td>\n",
       "      <td>0</td>\n",
       "      <td>0</td>\n",
       "      <td>0</td>\n",
       "      <td>0</td>\n",
       "      <td>1</td>\n",
       "      <td>0</td>\n",
       "      <td>0</td>\n",
       "      <td>1</td>\n",
       "      <td>...</td>\n",
       "      <td>1</td>\n",
       "      <td>1</td>\n",
       "      <td>0</td>\n",
       "      <td>0</td>\n",
       "      <td>0</td>\n",
       "      <td>0</td>\n",
       "      <td>0</td>\n",
       "      <td>0</td>\n",
       "      <td>0</td>\n",
       "      <td>1</td>\n",
       "    </tr>\n",
       "    <tr>\n",
       "      <th>264</th>\n",
       "      <td>0</td>\n",
       "      <td>1</td>\n",
       "      <td>0</td>\n",
       "      <td>0</td>\n",
       "      <td>0</td>\n",
       "      <td>0</td>\n",
       "      <td>1</td>\n",
       "      <td>1</td>\n",
       "      <td>0</td>\n",
       "      <td>0</td>\n",
       "      <td>...</td>\n",
       "      <td>1</td>\n",
       "      <td>1</td>\n",
       "      <td>1</td>\n",
       "      <td>0</td>\n",
       "      <td>0</td>\n",
       "      <td>0</td>\n",
       "      <td>0</td>\n",
       "      <td>0</td>\n",
       "      <td>0</td>\n",
       "      <td>0</td>\n",
       "    </tr>\n",
       "    <tr>\n",
       "      <th>265</th>\n",
       "      <td>0</td>\n",
       "      <td>1</td>\n",
       "      <td>0</td>\n",
       "      <td>0</td>\n",
       "      <td>0</td>\n",
       "      <td>0</td>\n",
       "      <td>1</td>\n",
       "      <td>0</td>\n",
       "      <td>1</td>\n",
       "      <td>1</td>\n",
       "      <td>...</td>\n",
       "      <td>1</td>\n",
       "      <td>1</td>\n",
       "      <td>1</td>\n",
       "      <td>1</td>\n",
       "      <td>1</td>\n",
       "      <td>1</td>\n",
       "      <td>0</td>\n",
       "      <td>0</td>\n",
       "      <td>0</td>\n",
       "      <td>0</td>\n",
       "    </tr>\n",
       "    <tr>\n",
       "      <th>266</th>\n",
       "      <td>0</td>\n",
       "      <td>1</td>\n",
       "      <td>0</td>\n",
       "      <td>0</td>\n",
       "      <td>0</td>\n",
       "      <td>1</td>\n",
       "      <td>1</td>\n",
       "      <td>0</td>\n",
       "      <td>1</td>\n",
       "      <td>1</td>\n",
       "      <td>...</td>\n",
       "      <td>1</td>\n",
       "      <td>1</td>\n",
       "      <td>1</td>\n",
       "      <td>1</td>\n",
       "      <td>1</td>\n",
       "      <td>1</td>\n",
       "      <td>0</td>\n",
       "      <td>0</td>\n",
       "      <td>0</td>\n",
       "      <td>0</td>\n",
       "    </tr>\n",
       "    <tr>\n",
       "      <th>267</th>\n",
       "      <td>0</td>\n",
       "      <td>1</td>\n",
       "      <td>0</td>\n",
       "      <td>0</td>\n",
       "      <td>0</td>\n",
       "      <td>1</td>\n",
       "      <td>1</td>\n",
       "      <td>1</td>\n",
       "      <td>0</td>\n",
       "      <td>1</td>\n",
       "      <td>...</td>\n",
       "      <td>1</td>\n",
       "      <td>0</td>\n",
       "      <td>0</td>\n",
       "      <td>0</td>\n",
       "      <td>0</td>\n",
       "      <td>0</td>\n",
       "      <td>0</td>\n",
       "      <td>1</td>\n",
       "      <td>0</td>\n",
       "      <td>0</td>\n",
       "    </tr>\n",
       "  </tbody>\n",
       "</table>\n",
       "<p>268 rows × 34 columns</p>\n",
       "</div>"
      ],
      "text/plain": [
       "     inter_dom_Inter  Region_JAP  Region_Others  Region_SA  Region_SEA  \\\n",
       "0                  1           0              0          0           1   \n",
       "1                  1           0              0          0           1   \n",
       "2                  1           0              0          0           1   \n",
       "3                  1           0              0          0           0   \n",
       "4                  1           0              0          0           0   \n",
       "..               ...         ...            ...        ...         ...   \n",
       "263                0           1              0          0           0   \n",
       "264                0           1              0          0           0   \n",
       "265                0           1              0          0           0   \n",
       "266                0           1              0          0           0   \n",
       "267                0           1              0          0           0   \n",
       "\n",
       "     Gender_Male  Academic_Under  Stay_Cate_Medium  Stay_Cate_Short  \\\n",
       "0              1               0                 0                0   \n",
       "1              1               0                 0                1   \n",
       "2              1               0                 0                0   \n",
       "3              0               0                 0                1   \n",
       "4              0               0                 0                1   \n",
       "..           ...             ...               ...              ...   \n",
       "263            0               1                 0                0   \n",
       "264            0               1                 1                0   \n",
       "265            0               1                 0                1   \n",
       "266            1               1                 0                1   \n",
       "267            1               1                 1                0   \n",
       "\n",
       "     Japanese_cate_High  ...  Friends_bi_Yes  Parents_bi_Yes  Relative_bi_Yes  \\\n",
       "0                     0  ...               1               1                0   \n",
       "1                     1  ...               1               1                0   \n",
       "2                     1  ...               0               0                0   \n",
       "3                     0  ...               1               1                1   \n",
       "4                     0  ...               1               1                0   \n",
       "..                  ...  ...             ...             ...              ...   \n",
       "263                   1  ...               1               1                0   \n",
       "264                   0  ...               1               1                1   \n",
       "265                   1  ...               1               1                1   \n",
       "266                   1  ...               1               1                1   \n",
       "267                   1  ...               1               0                0   \n",
       "\n",
       "     Professional_bi_Yes  Phone_bi_Yes  Doctor_bi_Yes  religion_bi_Yes  \\\n",
       "0                      0             0              0                0   \n",
       "1                      0             0              0                0   \n",
       "2                      0             0              0                0   \n",
       "3                      1             0              0                0   \n",
       "4                      1             0              1                1   \n",
       "..                   ...           ...            ...              ...   \n",
       "263                    0             0              0                0   \n",
       "264                    0             0              0                0   \n",
       "265                    1             1              1                0   \n",
       "266                    1             1              1                0   \n",
       "267                    0             0              0                0   \n",
       "\n",
       "     Alone_bi_Yes  Others_bi_Yes  Internet_bi_Yes  \n",
       "0               0              0                0  \n",
       "1               0              0                0  \n",
       "2               0              0                0  \n",
       "3               0              0                0  \n",
       "4               0              0                0  \n",
       "..            ...            ...              ...  \n",
       "263             0              0                1  \n",
       "264             0              0                0  \n",
       "265             0              0                0  \n",
       "266             0              0                0  \n",
       "267             1              0                0  \n",
       "\n",
       "[268 rows x 34 columns]"
      ]
     },
     "execution_count": 4,
     "metadata": {},
     "output_type": "execute_result"
    }
   ],
   "source": [
    "df_objects"
   ]
  },
  {
   "cell_type": "code",
   "execution_count": 5,
   "id": "6a2c936e",
   "metadata": {},
   "outputs": [
    {
     "data": {
      "text/html": [
       "<div>\n",
       "<style scoped>\n",
       "    .dataframe tbody tr th:only-of-type {\n",
       "        vertical-align: middle;\n",
       "    }\n",
       "\n",
       "    .dataframe tbody tr th {\n",
       "        vertical-align: top;\n",
       "    }\n",
       "\n",
       "    .dataframe thead th {\n",
       "        text-align: right;\n",
       "    }\n",
       "</style>\n",
       "<table border=\"1\" class=\"dataframe\">\n",
       "  <thead>\n",
       "    <tr style=\"text-align: right;\">\n",
       "      <th></th>\n",
       "      <th>Age</th>\n",
       "      <th>Age_cate</th>\n",
       "      <th>Stay</th>\n",
       "      <th>Japanese</th>\n",
       "      <th>English</th>\n",
       "      <th>ToDep</th>\n",
       "      <th>ToSC</th>\n",
       "      <th>APD</th>\n",
       "      <th>AHome</th>\n",
       "      <th>APH</th>\n",
       "      <th>...</th>\n",
       "      <th>Friends_bi_Yes</th>\n",
       "      <th>Parents_bi_Yes</th>\n",
       "      <th>Relative_bi_Yes</th>\n",
       "      <th>Professional_bi_Yes</th>\n",
       "      <th>Phone_bi_Yes</th>\n",
       "      <th>Doctor_bi_Yes</th>\n",
       "      <th>religion_bi_Yes</th>\n",
       "      <th>Alone_bi_Yes</th>\n",
       "      <th>Others_bi_Yes</th>\n",
       "      <th>Internet_bi_Yes</th>\n",
       "    </tr>\n",
       "  </thead>\n",
       "  <tbody>\n",
       "    <tr>\n",
       "      <th>0</th>\n",
       "      <td>24.0</td>\n",
       "      <td>4.0</td>\n",
       "      <td>5.0</td>\n",
       "      <td>3.0</td>\n",
       "      <td>5.0</td>\n",
       "      <td>0.0</td>\n",
       "      <td>34.0</td>\n",
       "      <td>23.0</td>\n",
       "      <td>9.0</td>\n",
       "      <td>11.0</td>\n",
       "      <td>...</td>\n",
       "      <td>1</td>\n",
       "      <td>1</td>\n",
       "      <td>0</td>\n",
       "      <td>0</td>\n",
       "      <td>0</td>\n",
       "      <td>0</td>\n",
       "      <td>0</td>\n",
       "      <td>0</td>\n",
       "      <td>0</td>\n",
       "      <td>0</td>\n",
       "    </tr>\n",
       "    <tr>\n",
       "      <th>1</th>\n",
       "      <td>28.0</td>\n",
       "      <td>5.0</td>\n",
       "      <td>1.0</td>\n",
       "      <td>4.0</td>\n",
       "      <td>4.0</td>\n",
       "      <td>2.0</td>\n",
       "      <td>48.0</td>\n",
       "      <td>8.0</td>\n",
       "      <td>7.0</td>\n",
       "      <td>5.0</td>\n",
       "      <td>...</td>\n",
       "      <td>1</td>\n",
       "      <td>1</td>\n",
       "      <td>0</td>\n",
       "      <td>0</td>\n",
       "      <td>0</td>\n",
       "      <td>0</td>\n",
       "      <td>0</td>\n",
       "      <td>0</td>\n",
       "      <td>0</td>\n",
       "      <td>0</td>\n",
       "    </tr>\n",
       "    <tr>\n",
       "      <th>2</th>\n",
       "      <td>25.0</td>\n",
       "      <td>4.0</td>\n",
       "      <td>6.0</td>\n",
       "      <td>4.0</td>\n",
       "      <td>4.0</td>\n",
       "      <td>2.0</td>\n",
       "      <td>41.0</td>\n",
       "      <td>13.0</td>\n",
       "      <td>4.0</td>\n",
       "      <td>7.0</td>\n",
       "      <td>...</td>\n",
       "      <td>0</td>\n",
       "      <td>0</td>\n",
       "      <td>0</td>\n",
       "      <td>0</td>\n",
       "      <td>0</td>\n",
       "      <td>0</td>\n",
       "      <td>0</td>\n",
       "      <td>0</td>\n",
       "      <td>0</td>\n",
       "      <td>0</td>\n",
       "    </tr>\n",
       "    <tr>\n",
       "      <th>3</th>\n",
       "      <td>29.0</td>\n",
       "      <td>5.0</td>\n",
       "      <td>1.0</td>\n",
       "      <td>2.0</td>\n",
       "      <td>3.0</td>\n",
       "      <td>3.0</td>\n",
       "      <td>37.0</td>\n",
       "      <td>16.0</td>\n",
       "      <td>10.0</td>\n",
       "      <td>10.0</td>\n",
       "      <td>...</td>\n",
       "      <td>1</td>\n",
       "      <td>1</td>\n",
       "      <td>1</td>\n",
       "      <td>1</td>\n",
       "      <td>0</td>\n",
       "      <td>0</td>\n",
       "      <td>0</td>\n",
       "      <td>0</td>\n",
       "      <td>0</td>\n",
       "      <td>0</td>\n",
       "    </tr>\n",
       "    <tr>\n",
       "      <th>4</th>\n",
       "      <td>28.0</td>\n",
       "      <td>5.0</td>\n",
       "      <td>1.0</td>\n",
       "      <td>1.0</td>\n",
       "      <td>3.0</td>\n",
       "      <td>3.0</td>\n",
       "      <td>37.0</td>\n",
       "      <td>15.0</td>\n",
       "      <td>12.0</td>\n",
       "      <td>5.0</td>\n",
       "      <td>...</td>\n",
       "      <td>1</td>\n",
       "      <td>1</td>\n",
       "      <td>0</td>\n",
       "      <td>1</td>\n",
       "      <td>0</td>\n",
       "      <td>1</td>\n",
       "      <td>1</td>\n",
       "      <td>0</td>\n",
       "      <td>0</td>\n",
       "      <td>0</td>\n",
       "    </tr>\n",
       "    <tr>\n",
       "      <th>...</th>\n",
       "      <td>...</td>\n",
       "      <td>...</td>\n",
       "      <td>...</td>\n",
       "      <td>...</td>\n",
       "      <td>...</td>\n",
       "      <td>...</td>\n",
       "      <td>...</td>\n",
       "      <td>...</td>\n",
       "      <td>...</td>\n",
       "      <td>...</td>\n",
       "      <td>...</td>\n",
       "      <td>...</td>\n",
       "      <td>...</td>\n",
       "      <td>...</td>\n",
       "      <td>...</td>\n",
       "      <td>...</td>\n",
       "      <td>...</td>\n",
       "      <td>...</td>\n",
       "      <td>...</td>\n",
       "      <td>...</td>\n",
       "      <td>...</td>\n",
       "    </tr>\n",
       "    <tr>\n",
       "      <th>263</th>\n",
       "      <td>21.0</td>\n",
       "      <td>3.0</td>\n",
       "      <td>4.0</td>\n",
       "      <td>5.0</td>\n",
       "      <td>4.0</td>\n",
       "      <td>8.0</td>\n",
       "      <td>27.0</td>\n",
       "      <td>16.0</td>\n",
       "      <td>9.0</td>\n",
       "      <td>10.0</td>\n",
       "      <td>...</td>\n",
       "      <td>1</td>\n",
       "      <td>1</td>\n",
       "      <td>0</td>\n",
       "      <td>0</td>\n",
       "      <td>0</td>\n",
       "      <td>0</td>\n",
       "      <td>0</td>\n",
       "      <td>0</td>\n",
       "      <td>0</td>\n",
       "      <td>1</td>\n",
       "    </tr>\n",
       "    <tr>\n",
       "      <th>264</th>\n",
       "      <td>22.0</td>\n",
       "      <td>3.0</td>\n",
       "      <td>3.0</td>\n",
       "      <td>3.0</td>\n",
       "      <td>4.0</td>\n",
       "      <td>2.0</td>\n",
       "      <td>48.0</td>\n",
       "      <td>8.0</td>\n",
       "      <td>10.0</td>\n",
       "      <td>5.0</td>\n",
       "      <td>...</td>\n",
       "      <td>1</td>\n",
       "      <td>1</td>\n",
       "      <td>1</td>\n",
       "      <td>0</td>\n",
       "      <td>0</td>\n",
       "      <td>0</td>\n",
       "      <td>0</td>\n",
       "      <td>0</td>\n",
       "      <td>0</td>\n",
       "      <td>0</td>\n",
       "    </tr>\n",
       "    <tr>\n",
       "      <th>265</th>\n",
       "      <td>19.0</td>\n",
       "      <td>2.0</td>\n",
       "      <td>1.0</td>\n",
       "      <td>5.0</td>\n",
       "      <td>3.0</td>\n",
       "      <td>9.0</td>\n",
       "      <td>47.0</td>\n",
       "      <td>8.0</td>\n",
       "      <td>7.0</td>\n",
       "      <td>5.0</td>\n",
       "      <td>...</td>\n",
       "      <td>1</td>\n",
       "      <td>1</td>\n",
       "      <td>1</td>\n",
       "      <td>1</td>\n",
       "      <td>1</td>\n",
       "      <td>1</td>\n",
       "      <td>0</td>\n",
       "      <td>0</td>\n",
       "      <td>0</td>\n",
       "      <td>0</td>\n",
       "    </tr>\n",
       "    <tr>\n",
       "      <th>266</th>\n",
       "      <td>19.0</td>\n",
       "      <td>2.0</td>\n",
       "      <td>1.0</td>\n",
       "      <td>5.0</td>\n",
       "      <td>3.0</td>\n",
       "      <td>1.0</td>\n",
       "      <td>43.0</td>\n",
       "      <td>8.0</td>\n",
       "      <td>12.0</td>\n",
       "      <td>5.0</td>\n",
       "      <td>...</td>\n",
       "      <td>1</td>\n",
       "      <td>1</td>\n",
       "      <td>1</td>\n",
       "      <td>1</td>\n",
       "      <td>1</td>\n",
       "      <td>1</td>\n",
       "      <td>0</td>\n",
       "      <td>0</td>\n",
       "      <td>0</td>\n",
       "      <td>0</td>\n",
       "    </tr>\n",
       "    <tr>\n",
       "      <th>267</th>\n",
       "      <td>20.0</td>\n",
       "      <td>2.0</td>\n",
       "      <td>2.0</td>\n",
       "      <td>5.0</td>\n",
       "      <td>3.0</td>\n",
       "      <td>7.0</td>\n",
       "      <td>41.0</td>\n",
       "      <td>14.0</td>\n",
       "      <td>4.0</td>\n",
       "      <td>10.0</td>\n",
       "      <td>...</td>\n",
       "      <td>1</td>\n",
       "      <td>0</td>\n",
       "      <td>0</td>\n",
       "      <td>0</td>\n",
       "      <td>0</td>\n",
       "      <td>0</td>\n",
       "      <td>0</td>\n",
       "      <td>1</td>\n",
       "      <td>0</td>\n",
       "      <td>0</td>\n",
       "    </tr>\n",
       "  </tbody>\n",
       "</table>\n",
       "<p>268 rows × 60 columns</p>\n",
       "</div>"
      ],
      "text/plain": [
       "      Age  Age_cate  Stay  Japanese  English  ToDep  ToSC   APD  AHome   APH  \\\n",
       "0    24.0       4.0   5.0       3.0      5.0    0.0  34.0  23.0    9.0  11.0   \n",
       "1    28.0       5.0   1.0       4.0      4.0    2.0  48.0   8.0    7.0   5.0   \n",
       "2    25.0       4.0   6.0       4.0      4.0    2.0  41.0  13.0    4.0   7.0   \n",
       "3    29.0       5.0   1.0       2.0      3.0    3.0  37.0  16.0   10.0  10.0   \n",
       "4    28.0       5.0   1.0       1.0      3.0    3.0  37.0  15.0   12.0   5.0   \n",
       "..    ...       ...   ...       ...      ...    ...   ...   ...    ...   ...   \n",
       "263  21.0       3.0   4.0       5.0      4.0    8.0  27.0  16.0    9.0  10.0   \n",
       "264  22.0       3.0   3.0       3.0      4.0    2.0  48.0   8.0   10.0   5.0   \n",
       "265  19.0       2.0   1.0       5.0      3.0    9.0  47.0   8.0    7.0   5.0   \n",
       "266  19.0       2.0   1.0       5.0      3.0    1.0  43.0   8.0   12.0   5.0   \n",
       "267  20.0       2.0   2.0       5.0      3.0    7.0  41.0  14.0    4.0  10.0   \n",
       "\n",
       "     ...  Friends_bi_Yes  Parents_bi_Yes  Relative_bi_Yes  \\\n",
       "0    ...               1               1                0   \n",
       "1    ...               1               1                0   \n",
       "2    ...               0               0                0   \n",
       "3    ...               1               1                1   \n",
       "4    ...               1               1                0   \n",
       "..   ...             ...             ...              ...   \n",
       "263  ...               1               1                0   \n",
       "264  ...               1               1                1   \n",
       "265  ...               1               1                1   \n",
       "266  ...               1               1                1   \n",
       "267  ...               1               0                0   \n",
       "\n",
       "     Professional_bi_Yes  Phone_bi_Yes  Doctor_bi_Yes  religion_bi_Yes  \\\n",
       "0                      0             0              0                0   \n",
       "1                      0             0              0                0   \n",
       "2                      0             0              0                0   \n",
       "3                      1             0              0                0   \n",
       "4                      1             0              1                1   \n",
       "..                   ...           ...            ...              ...   \n",
       "263                    0             0              0                0   \n",
       "264                    0             0              0                0   \n",
       "265                    1             1              1                0   \n",
       "266                    1             1              1                0   \n",
       "267                    0             0              0                0   \n",
       "\n",
       "     Alone_bi_Yes  Others_bi_Yes  Internet_bi_Yes  \n",
       "0               0              0                0  \n",
       "1               0              0                0  \n",
       "2               0              0                0  \n",
       "3               0              0                0  \n",
       "4               0              0                0  \n",
       "..            ...            ...              ...  \n",
       "263             0              0                1  \n",
       "264             0              0                0  \n",
       "265             0              0                0  \n",
       "266             0              0                0  \n",
       "267             1              0                0  \n",
       "\n",
       "[268 rows x 60 columns]"
      ]
     },
     "execution_count": 5,
     "metadata": {},
     "output_type": "execute_result"
    }
   ],
   "source": [
    "df_full"
   ]
  },
  {
   "cell_type": "code",
   "execution_count": 6,
   "id": "175422c1",
   "metadata": {},
   "outputs": [],
   "source": [
    "# Step 3: Import the machine learning libraries\n",
    "from sklearn.model_selection import train_test_split\n",
    "from sklearn.dummy import DummyRegressor\n",
    "from sklearn.linear_model import LinearRegression\n",
    "from sklearn.tree import DecisionTreeRegressor\n",
    "from sklearn.ensemble import RandomForestRegressor\n",
    "from sklearn.metrics import mean_squared_error\n",
    "import matplotlib.pyplot as plt"
   ]
  },
  {
   "cell_type": "markdown",
   "id": "ff6e1f42",
   "metadata": {},
   "source": [
    "## Machine learning modelling (Regression)\n",
    "The author of the research used a linear regression to predict the logarithm of ToDep (Total score of depression measured by PHQ-9) based on ToAS (Total score of Acculturative Stress) and ToSC (Total social connectedness measured by SCS). \n",
    "\n",
    "Sure we can do better? Let's use ML instead to predict our ToDep score. \n",
    "\n",
    "### Step 4: Prepare the independent and dependent variables\n",
    "First off, <font color = 'red'>let's use our numerical DataFrame first for our model training.</font>\n",
    "\n",
    "- Independent variables: Declare a variable, and assign your numerical DataFrame with 'ToDep' and 'Age_Cate' dropped (we don't need Age_Cate and it's an extra column)\n",
    "\n",
    "- Dependent variable: Declare a variable and assign the column values of 'ToDep' "
   ]
  },
  {
   "cell_type": "code",
   "execution_count": 7,
   "id": "cbf8daf9",
   "metadata": {},
   "outputs": [],
   "source": [
    "# Step 4: Prepare the independent and dependent variables\n",
    "X = df_float.drop(['ToDep', 'Age_cate'], axis = 1)\n",
    "y = df_float['ToDep']"
   ]
  },
  {
   "cell_type": "code",
   "execution_count": 8,
   "id": "93a35941",
   "metadata": {},
   "outputs": [],
   "source": [
    "# Step 5: Split your variables into train and test sets\n",
    "X_train, X_test, y_train, y_test = train_test_split(X, y, test_size=0.2, random_state=42)"
   ]
  },
  {
   "cell_type": "code",
   "execution_count": 9,
   "id": "45b23be9",
   "metadata": {},
   "outputs": [],
   "source": [
    "# Step 6a: Declare a variable to store the model (DummyRegressor)\n",
    "dummy = DummyRegressor()\n",
    "\n",
    "# Step 6b: Fit your train dataset\n",
    "dummy.fit(X_train, y_train)\n",
    "# Step 6c: Declare a variable and store your predictions that you make with your model using X test data\n",
    "y_hat_dummy = dummy.predict(X_test)"
   ]
  },
  {
   "cell_type": "code",
   "execution_count": 10,
   "id": "6a77853c",
   "metadata": {},
   "outputs": [
    {
     "name": "stdout",
     "output_type": "stream",
     "text": [
      "24.691167431734296\n"
     ]
    },
    {
     "data": {
      "text/plain": [
       "<matplotlib.collections.PathCollection at 0x167d0052790>"
      ]
     },
     "execution_count": 10,
     "metadata": {},
     "output_type": "execute_result"
    },
    {
     "data": {
      "image/png": "[encoded data removed]",
      "text/plain": [
       "<Figure size 1152x576 with 1 Axes>"
      ]
     },
     "metadata": {
      "needs_background": "light"
     },
     "output_type": "display_data"
    }
   ],
   "source": [
    "# Step 7a: Print the square root of mean_squared_error of your test and dummy prediction\n",
    "print(mean_squared_error(y_test, y_hat_dummy))\n",
    "# Step 7b: Plot a scatterplot between test and prediction values\n",
    "plt.figure(figsize = (16,8))\n",
    "plt.scatter(y_test, y_hat_dummy)"
   ]
  },
  {
   "cell_type": "code",
   "execution_count": 11,
   "id": "28e197bc",
   "metadata": {},
   "outputs": [
    {
     "name": "stdout",
     "output_type": "stream",
     "text": [
      "20.163141438724182\n"
     ]
    },
    {
     "data": {
      "text/plain": [
       "<matplotlib.collections.PathCollection at 0x167e0e0ef40>"
      ]
     },
     "execution_count": 11,
     "metadata": {},
     "output_type": "execute_result"
    },
    {
     "data": {
      "image/png": "[encoded data removed]",
      "text/plain": [
       "<Figure size 1152x576 with 1 Axes>"
      ]
     },
     "metadata": {
      "needs_background": "light"
     },
     "output_type": "display_data"
    }
   ],
   "source": [
    "# Step 8a: Declare a variable to store the LinearRegression model\n",
    "lr = LinearRegression()\n",
    "# Step 8b: Fit your train dataset\n",
    "lr.fit(X_train, y_train)\n",
    "# Step 8c: Declare a variable and store your predictions that you make with your model using X test data\n",
    "y_hat_lr = lr.predict(X_test)\n",
    "# Step 8d: Print the RMSE for y test and the predictions\n",
    "print(mean_squared_error(y_test, y_hat_lr))\n",
    "# Step 8e: Plot a scatterplot between test and prediction values\n",
    "plt.figure(figsize = (16,8))\n",
    "plt.scatter(y_test, y_hat_lr)"
   ]
  },
  {
   "cell_type": "code",
   "execution_count": 12,
   "id": "7bdd5f79",
   "metadata": {},
   "outputs": [
    {
     "name": "stdout",
     "output_type": "stream",
     "text": [
      "32.129629629629626\n"
     ]
    },
    {
     "data": {
      "text/plain": [
       "<matplotlib.collections.PathCollection at 0x167e3c9ccd0>"
      ]
     },
     "execution_count": 12,
     "metadata": {},
     "output_type": "execute_result"
    },
    {
     "data": {
      "image/png": "[encoded data removed]",
      "text/plain": [
       "<Figure size 1152x576 with 1 Axes>"
      ]
     },
     "metadata": {
      "needs_background": "light"
     },
     "output_type": "display_data"
    }
   ],
   "source": [
    "# Step 9a: Declare a variable to store the DecisionTreeRegressor\n",
    "tree = DecisionTreeRegressor()\n",
    "# Step 9b: Fit your train dataset\n",
    "tree.fit(X_train, y_train)\n",
    "# Step 9c: Declare a variable and store your predictions that you make with your model using X test data\n",
    "y_hat_tree = tree.predict(X_test)\n",
    "# Step 9d: Print the RMSE for y test and the predictions\n",
    "print(mean_squared_error(y_test, y_hat_tree))\n",
    "# Step 9e: Plot a scatterplot between test and prediction values\n",
    "plt.figure(figsize = (16,8))\n",
    "plt.scatter(y_test, y_hat_tree)"
   ]
  },
  {
   "cell_type": "code",
   "execution_count": 13,
   "id": "2fbcc674",
   "metadata": {},
   "outputs": [
    {
     "name": "stdout",
     "output_type": "stream",
     "text": [
      "22.765218518518523\n"
     ]
    },
    {
     "data": {
      "text/plain": [
       "<matplotlib.collections.PathCollection at 0x167e5ce7f70>"
      ]
     },
     "execution_count": 13,
     "metadata": {},
     "output_type": "execute_result"
    },
    {
     "data": {
      "image/png": "[encoded data removed]",
      "text/plain": [
       "<Figure size 1152x576 with 1 Axes>"
      ]
     },
     "metadata": {
      "needs_background": "light"
     },
     "output_type": "display_data"
    }
   ],
   "source": [
    "# Step 10a: Declare a variable to store the RandomForestRegressor\n",
    "forest = RandomForestRegressor()\n",
    "# Step 10b: Fit your train dataset\n",
    "forest.fit(X_train, y_train)\n",
    "# Step 10c: Declare a variable and store your predictions that you make with your model using X test data\n",
    "y_hat_forest = forest.predict(X_test)\n",
    "# Step 10d: Print the RMSE for y test and the predictions\n",
    "print(mean_squared_error(y_test, y_hat_forest))\n",
    "# Step 10e: Plot a scatterplot between test and prediction values\n",
    "plt.figure(figsize = (16,8))\n",
    "plt.scatter(y_test, y_hat_forest)"
   ]
  },
  {
   "cell_type": "markdown",
   "id": "efaeb7d6",
   "metadata": {},
   "source": [
    "### Step 11: Use the dummified category DataFrame as training data\n",
    "Earlier, we used the numerical DataFrame as training data. Next, we'll try to see if our dummified categorical data is more useful in predicting ToDep.\n",
    "\n",
    "Here, repeat Step 4. Don't drop anything and assign your categorical DataFrame as the independent variables.\n",
    "\n",
    "We don't need to change the dependent variable since we're still predicting for 'ToDep'."
   ]
  },
  {
   "cell_type": "code",
   "execution_count": 14,
   "id": "f2db2fcf",
   "metadata": {},
   "outputs": [],
   "source": [
    "# Step 11: Assign the categorical DataFrame to a variable\n",
    "X = df_objects"
   ]
  },
  {
   "cell_type": "code",
   "execution_count": 15,
   "id": "196196af",
   "metadata": {},
   "outputs": [],
   "source": [
    "# Step 12: Split your variables into train and test sets\n",
    "X_train, X_test, y_train, y_test = train_test_split(X, y, test_size=0.2, random_state=42)"
   ]
  },
  {
   "cell_type": "code",
   "execution_count": 16,
   "id": "1577a18e",
   "metadata": {},
   "outputs": [
    {
     "name": "stdout",
     "output_type": "stream",
     "text": [
      "2.00553542563552\n"
     ]
    },
    {
     "data": {
      "text/plain": [
       "<matplotlib.collections.PathCollection at 0x167e5d51a60>"
      ]
     },
     "execution_count": 16,
     "metadata": {},
     "output_type": "execute_result"
    },
    {
     "data": {
      "image/png": "[encoded data removed]",
      "text/plain": [
       "<Figure size 1152x576 with 1 Axes>"
      ]
     },
     "metadata": {
      "needs_background": "light"
     },
     "output_type": "display_data"
    }
   ],
   "source": [
    "# Step 13a: Declare a variable to store the LinearRegression model\n",
    "lr = LinearRegression()\n",
    "# Step 13b: Fit your train dataset\n",
    "lr.fit(X_train, y_train)\n",
    "# Step 13c: Declare a variable and store your predictions that you make with your model using X test data\n",
    "y_hat_lr = lr.predict(X_test)\n",
    "# Step 13d: Print the RMSE for y test and the predictions\n",
    "print(mean_squared_error(y_test, y_hat_lr))\n",
    "# Step 13e: Plot a scatterplot between test and prediction values\n",
    "plt.figure(figsize = (16,8))\n",
    "plt.scatter(y_test, y_hat_lr)"
   ]
  },
  {
   "cell_type": "markdown",
   "id": "c367fb2f",
   "metadata": {},
   "source": [
    "You might be impressed by your LinearRegression results. In fact, you gave RandomForest a try you'd be equally astounded because it's even better.\n",
    "\n",
    "However, the reason why you're getting such good results is because when you prepared the dummified categorical variables, there was 'DepSev', which was related to 'ToDep'. We have Dep_Yes and DepType_Other and DepType_No which are also related to ToDep.\n",
    "\n",
    "As such, there was 'peeking' involved since we used features that were derived from the dependent variable.\n",
    "\n",
    "We will need to drop the following columns:\n",
    "1. DepSev_Min\n",
    "2. DepSev_Mod\n",
    "3. DepSev_ModSev\n",
    "4. DepSev_Sev\n",
    "5. Dep_Yes\n",
    "6. DepType_Other\n",
    "7. DepType_No\n",
    "\n",
    "Prepare the independent variables again."
   ]
  },
  {
   "cell_type": "code",
   "execution_count": 17,
   "id": "ce60e576",
   "metadata": {},
   "outputs": [],
   "source": [
    "# Step 15: Prepare the independent variables again\n",
    "X = df_objects.drop(['DepSev_Min', 'DepSev_Mod', 'DepSev_ModSev', 'DepSev_Sev', 'Dep_Yes', 'DepType_Other', 'DepType_No'], axis = 1)"
   ]
  },
  {
   "cell_type": "code",
   "execution_count": 18,
   "id": "d798fbba",
   "metadata": {},
   "outputs": [
    {
     "name": "stdout",
     "output_type": "stream",
     "text": [
      "20.470071198384105\n"
     ]
    },
    {
     "data": {
      "text/plain": [
       "<matplotlib.collections.PathCollection at 0x167e5f70cd0>"
      ]
     },
     "execution_count": 18,
     "metadata": {},
     "output_type": "execute_result"
    },
    {
     "data": {
      "image/png": "[encoded data removed]",
      "text/plain": [
       "<Figure size 1152x576 with 1 Axes>"
      ]
     },
     "metadata": {
      "needs_background": "light"
     },
     "output_type": "display_data"
    }
   ],
   "source": [
    "# Step 16a: Split your independent and dependent variables into train and test \n",
    "X_train, X_test, y_train, y_test = train_test_split(X, y, test_size=0.2, random_state=42)\n",
    "# Step 16b: Declare a variable to store the LinearRegression model\n",
    "lr = LinearRegression()\n",
    "# Step 16c: Fit your train dataset\n",
    "lr.fit(X_train, y_train)\n",
    "# Step 16d: Declare a variable and store your predictions that you make with your model using X test data\n",
    "y_hat_lr = lr.predict(X_test)\n",
    "# Step 16e: Print the RMSE for y test and the predictions\n",
    "print(mean_squared_error(y_test, y_hat_lr))\n",
    "# Step 16f: Plot a scatterplot between test and prediction values\n",
    "plt.figure(figsize = (16,8))\n",
    "plt.scatter(y_test, y_hat_lr)"
   ]
  },
  {
   "cell_type": "code",
   "execution_count": 19,
   "id": "31434dbe",
   "metadata": {},
   "outputs": [
    {
     "name": "stdout",
     "output_type": "stream",
     "text": [
      "37.65277777777778\n"
     ]
    },
    {
     "data": {
      "text/plain": [
       "<matplotlib.collections.PathCollection at 0x167e61bc220>"
      ]
     },
     "execution_count": 19,
     "metadata": {},
     "output_type": "execute_result"
    },
    {
     "data": {
      "image/png": "[encoded data removed]",
      "text/plain": [
       "<Figure size 1152x576 with 1 Axes>"
      ]
     },
     "metadata": {
      "needs_background": "light"
     },
     "output_type": "display_data"
    }
   ],
   "source": [
    "# Step 17a: Declare a variable to store the DecisionTreeRegressor\n",
    "tree = DecisionTreeRegressor()\n",
    "# Step 17b: Fit your train dataset\n",
    "tree.fit(X_train, y_train)\n",
    "# Step 17c: Declare a variable and store your predictions that you make with your model using X test data\n",
    "y_hat_tree = tree.predict(X_test)\n",
    "# Step 17d: Print the RMSE for y test and the predictions\n",
    "print(mean_squared_error(y_test, y_hat_tree))\n",
    "# Step 17e: Plot a scatterplot between test and prediction values\n",
    "plt.figure(figsize = (16,8))\n",
    "plt.scatter(y_test, y_hat_tree)"
   ]
  },
  {
   "cell_type": "code",
   "execution_count": 20,
   "id": "f6314c7b",
   "metadata": {},
   "outputs": [
    {
     "name": "stdout",
     "output_type": "stream",
     "text": [
      "22.25559051206223\n"
     ]
    },
    {
     "data": {
      "text/plain": [
       "<matplotlib.collections.PathCollection at 0x167e63dd1c0>"
      ]
     },
     "execution_count": 20,
     "metadata": {},
     "output_type": "execute_result"
    },
    {
     "data": {
      "image/png": "[encoded data removed]",
      "text/plain": [
       "<Figure size 1152x576 with 1 Axes>"
      ]
     },
     "metadata": {
      "needs_background": "light"
     },
     "output_type": "display_data"
    }
   ],
   "source": [
    "# Step 18a: Declare a variable to store the RandomForestRegressor\n",
    "forest = RandomForestRegressor()\n",
    "# Step 18b: Fit your train dataset\n",
    "forest.fit(X_train, y_train)\n",
    "# Step 18c: Declare a variable and store your predictions that you make with your model using X test data\n",
    "y_hat_forest = forest.predict(X_test)\n",
    "# Step 18d: Print the RMSE for y test and the predictions\n",
    "print(mean_squared_error(y_test, y_hat_forest))\n",
    "# Step 18e: Plot a scatterplot between test and prediction values\n",
    "plt.figure(figsize = (16,8))\n",
    "plt.scatter(y_test, y_hat_forest)"
   ]
  },
  {
   "cell_type": "markdown",
   "id": "57be3198",
   "metadata": {},
   "source": [
    "### Step 19: Use the full DataFrame with mix of numerical and dummified categorical variables\n",
    "Seems like using the dummified variables by themselves didn't lead to a model that's too good.\n",
    "\n",
    "Time to use the entire dataset, i.e. CSV with both numerical and dummified categorical variables.\n",
    "\n",
    "Don't forget to drop:\n",
    "1. DepSev_Min\n",
    "2. DepSev_Mod\n",
    "3. DepSev_ModSev\n",
    "4. DepSev_Sev\n",
    "5. Dep_Yes\n",
    "6. DepType_Other\n",
    "7. DepType_No\n",
    "8. ToDep\n",
    "9. Age_cate"
   ]
  },
  {
   "cell_type": "code",
   "execution_count": 21,
   "id": "1e76afce",
   "metadata": {},
   "outputs": [
    {
     "name": "stdout",
     "output_type": "stream",
     "text": [
      "21.175238510958533\n"
     ]
    },
    {
     "data": {
      "text/plain": [
       "<matplotlib.collections.PathCollection at 0x167e66183a0>"
      ]
     },
     "execution_count": 21,
     "metadata": {},
     "output_type": "execute_result"
    },
    {
     "data": {
      "image/png": "[encoded data removed]",
      "text/plain": [
       "<Figure size 1152x576 with 1 Axes>"
      ]
     },
     "metadata": {
      "needs_background": "light"
     },
     "output_type": "display_data"
    }
   ],
   "source": [
    "# Step 19a: Prepare the independent variables again with the nine columns dropped\n",
    "X = df_full.drop(['DepSev_Min', 'DepSev_Mod', 'DepSev_ModSev', 'DepSev_Sev', 'Dep_Yes', 'DepType_Other', 'DepType_No', 'ToDep', 'Age_cate'], axis = 1)\n",
    "# Step 19b: Split your independent and dependent variables into train and test \n",
    "X_train, X_test, y_train, y_test = train_test_split(X, y, test_size=0.2, random_state=42)\n",
    "# Step 19c: Declare a variable to store the LinearRegression model\n",
    "lr = LinearRegression()\n",
    "# Step 19d: Fit your train dataset\n",
    "lr.fit(X_train, y_train)\n",
    "# Step 19e: Declare a variable and store your predictions that you make with your model using X test data\n",
    "y_hat_lr = lr.predict(X_test)\n",
    "# Step 19f: Print the RMSE for y test and the predictions\n",
    "print(mean_squared_error(y_test, y_hat_lr))\n",
    "# Step 19g: Plot a scatterplot between test and prediction values\n",
    "plt.figure(figsize = (16,8))\n",
    "plt.scatter(y_test, y_hat_lr)"
   ]
  },
  {
   "cell_type": "code",
   "execution_count": 22,
   "id": "809e8910",
   "metadata": {},
   "outputs": [
    {
     "name": "stdout",
     "output_type": "stream",
     "text": [
      "35.370370370370374\n"
     ]
    },
    {
     "data": {
      "text/plain": [
       "<matplotlib.collections.PathCollection at 0x167e6671520>"
      ]
     },
     "execution_count": 22,
     "metadata": {},
     "output_type": "execute_result"
    },
    {
     "data": {
      "image/png": "[encoded data removed]",
      "text/plain": [
       "<Figure size 1152x576 with 1 Axes>"
      ]
     },
     "metadata": {
      "needs_background": "light"
     },
     "output_type": "display_data"
    }
   ],
   "source": [
    "# Step 20: Repeat the process with other models\n",
    "\n",
    "tree = DecisionTreeRegressor()\n",
    "\n",
    "tree.fit(X_train, y_train)\n",
    "\n",
    "y_hat_tree = tree.predict(X_test)\n",
    "\n",
    "print(mean_squared_error(y_test, y_hat_tree))\n",
    "\n",
    "plt.figure(figsize = (16,8))\n",
    "plt.scatter(y_test, y_hat_tree)"
   ]
  },
  {
   "cell_type": "code",
   "execution_count": 23,
   "id": "c45319cd",
   "metadata": {},
   "outputs": [
    {
     "name": "stdout",
     "output_type": "stream",
     "text": [
      "19.08443888888889\n"
     ]
    },
    {
     "data": {
      "text/plain": [
       "<matplotlib.collections.PathCollection at 0x167e6a6bee0>"
      ]
     },
     "execution_count": 23,
     "metadata": {},
     "output_type": "execute_result"
    },
    {
     "data": {
      "image/png": "[encoded data removed]",
      "text/plain": [
       "<Figure size 1152x576 with 1 Axes>"
      ]
     },
     "metadata": {
      "needs_background": "light"
     },
     "output_type": "display_data"
    }
   ],
   "source": [
    "forest = RandomForestRegressor()\n",
    "\n",
    "forest.fit(X_train, y_train)\n",
    "\n",
    "y_hat_forest = forest.predict(X_test)\n",
    "\n",
    "print(mean_squared_error(y_test, y_hat_forest))\n",
    "\n",
    "plt.figure(figsize = (16,8))\n",
    "plt.scatter(y_test, y_hat_forest)"
   ]
  },
  {
   "cell_type": "markdown",
   "id": "1619a475",
   "metadata": {},
   "source": [
    "## Machine learning modelling (Classification)\n",
    "As you work through the dataset, you might be wondering what you're predicting for exactly. \n",
    "\n",
    "Sure, we were predicting for ToDep, which was the total score of depression that a student has. However, are we predicting for the right thing?\n",
    "\n",
    "Let's reframe the question a little and look at another important feature - 'Suicide'. \n",
    "\n",
    "'Suicide' is a binary category that refers to whether a student has had suicide ideation in the past 2 weeks. This is important since if we can predict for this we can stop students from potentially acting on the ideation. \n",
    "\n",
    "In this part, we will <strong>not</strong> predict for ToDep, and see how we can predict for 'Suicide_Yes' - the dummified column for the original feature.\n",
    "\n",
    "### Step 21: Import machine learning libraries for classification\n",
    "Let's import the libraries and methods required for classification.\n",
    "1. DummyClassifier - sklearn.dummy\n",
    "2. DecisionTreeClassifier - sklearn.tree\n",
    "3. RandomForestClassifier - sklearn.ensemble\n",
    "4. f1_score - sklearn.metrics\n",
    "5. confusion_matrix - sklearn.metrics\n",
    "\n",
    "We'll be using the f1_score and confusion_matrix to evaluation our classification. The higher the f1_score the better performing our classifier is. "
   ]
  },
  {
   "cell_type": "code",
   "execution_count": 24,
   "id": "84a3e57c",
   "metadata": {},
   "outputs": [],
   "source": [
    "# Step 21: Import the machine learning libraries and methods\n",
    "from sklearn.dummy import DummyClassifier\n",
    "from sklearn.tree import DecisionTreeClassifier\n",
    "from sklearn.ensemble import RandomForestClassifier\n",
    "from sklearn.metrics import f1_score\n",
    "from sklearn.metrics import confusion_matrix"
   ]
  },
  {
   "cell_type": "markdown",
   "id": "d403ddcc",
   "metadata": {},
   "source": [
    "### Step 22: Prepare the independent and dependent variables\n",
    "Let's assume the following:\n",
    "1. You can only get general information about the student without taking extensive tests - no ToAS, ToDP, and other test results\n",
    "2. We'll be predicting for Suicide_Yes, i.e. the dependent variable\n",
    "\n",
    "Consideration 1 is important because we want to see if we can catch a student who's had suicide ideation without getting him/her to do too many tests. \n",
    "\n",
    "For independent variables, let's take everything except the following:\n",
    "1. Age_cate\n",
    "2. ToDep\n",
    "3. ToSC\n",
    "4. ToAS\n",
    "5. Suicide_Yes\n",
    "\n",
    "For dependent variable, let's use 'Suicide_Yes'"
   ]
  },
  {
   "cell_type": "code",
   "execution_count": 25,
   "id": "b7b39880",
   "metadata": {},
   "outputs": [],
   "source": [
    "# Step 22: Prepare the independent and dependent variables\n",
    "X = df_full.drop(['Age_cate', 'ToDep', 'ToSC', 'ToAS', 'Suicide_Yes'], axis = 1)\n",
    "y = df_full['Suicide_Yes']"
   ]
  },
  {
   "cell_type": "code",
   "execution_count": 26,
   "id": "6aa76cbb",
   "metadata": {},
   "outputs": [],
   "source": [
    "# Step 23: Split your data\n",
    "X_train, X_test, y_train, y_test = train_test_split(X, y, test_size=0.2, random_state=42, stratify=y)"
   ]
  },
  {
   "cell_type": "code",
   "execution_count": 27,
   "id": "e0799a67",
   "metadata": {},
   "outputs": [
    {
     "name": "stdout",
     "output_type": "stream",
     "text": [
      "0.4714045207910317\n"
     ]
    },
    {
     "data": {
      "text/plain": [
       "<matplotlib.collections.PathCollection at 0x167e6c8ba90>"
      ]
     },
     "execution_count": 27,
     "metadata": {},
     "output_type": "execute_result"
    },
    {
     "data": {
      "image/png": "[encoded data removed]",
      "text/plain": [
       "<Figure size 1152x576 with 1 Axes>"
      ]
     },
     "metadata": {
      "needs_background": "light"
     },
     "output_type": "display_data"
    }
   ],
   "source": [
    "# Step 24a: Declare a variable to store the DummyClassifier model\n",
    "dummy = DummyClassifier()\n",
    "# Step 24b: Fit your train dataset\n",
    "dummy.fit(X_train, y_train)\n",
    "# Step 24c: Declare a variable and store your predictions that you make with your model using X test data\n",
    "y_hat_dummy = dummy.predict(X_test)\n",
    "# Step 24d: Print the RMSE for y test and the predictions\n",
    "print(np.sqrt(mean_squared_error(y_test, y_hat_dummy)))\n",
    "# Step 24e: Plot a scatterplot between test and prediction values\n",
    "plt.figure(figsize = (16,8))\n",
    "plt.scatter(y_test, y_hat_dummy)"
   ]
  },
  {
   "cell_type": "code",
   "execution_count": 28,
   "id": "eae23a77",
   "metadata": {},
   "outputs": [
    {
     "name": "stdout",
     "output_type": "stream",
     "text": [
      "0.0\n",
      "[[42  0]\n",
      " [12  0]]\n"
     ]
    }
   ],
   "source": [
    "print(f1_score(y_test, y_hat_dummy))\n",
    "print(confusion_matrix(y_test, y_hat_dummy))"
   ]
  },
  {
   "cell_type": "markdown",
   "id": "8fd00a4e",
   "metadata": {},
   "source": [
    "Let's unpack the dummy classifier result, and assess what we're looking for when we look at the confusion matrix. \n",
    " \n",
    "\n",
    "Ideally, we should predict less false negatives and more true positives since that's impactful. \n",
    "\n",
    "On the other hand, false positives aren't that bad compared to missing out true positives since it's just a nuisance for the student involved if he/she is falsely predicted to have suicide ideation."
   ]
  },
  {
   "cell_type": "code",
   "execution_count": 29,
   "id": "9884227a",
   "metadata": {},
   "outputs": [
    {
     "name": "stdout",
     "output_type": "stream",
     "text": [
      "0.45133546692422\n",
      "0.4761904761904762\n",
      "[[38  4]\n",
      " [ 7  5]]\n"
     ]
    },
    {
     "data": {
      "text/plain": [
       "<matplotlib.collections.PathCollection at 0x167e6c9fe50>"
      ]
     },
     "execution_count": 29,
     "metadata": {},
     "output_type": "execute_result"
    },
    {
     "data": {
      "image/png": "[encoded data removed]",
      "text/plain": [
       "<Figure size 1152x576 with 1 Axes>"
      ]
     },
     "metadata": {
      "needs_background": "light"
     },
     "output_type": "display_data"
    }
   ],
   "source": [
    "# Step 25: Train and test a DecisionTreeClassifier\n",
    "tree = DecisionTreeClassifier()\n",
    "\n",
    "tree.fit(X_train, y_train)\n",
    "\n",
    "y_hat_tree = tree.predict(X_test)\n",
    "\n",
    "print(np.sqrt(mean_squared_error(y_test, y_hat_tree)))\n",
    "\n",
    "print(f1_score(y_test, y_hat_tree))\n",
    "print(confusion_matrix(y_test, y_hat_tree))\n",
    "plt.figure(figsize = (16,8))\n",
    "plt.scatter(y_test, y_hat_tree)"
   ]
  },
  {
   "cell_type": "code",
   "execution_count": 30,
   "id": "512dce14",
   "metadata": {},
   "outputs": [
    {
     "name": "stdout",
     "output_type": "stream",
     "text": [
      "0.408248290463863\n",
      "0.47058823529411764\n",
      "[[41  1]\n",
      " [ 8  4]]\n"
     ]
    },
    {
     "data": {
      "text/plain": [
       "<matplotlib.collections.PathCollection at 0x167e70f1f10>"
      ]
     },
     "execution_count": 30,
     "metadata": {},
     "output_type": "execute_result"
    },
    {
     "data": {
      "image/png": "[encoded data removed]",
      "text/plain": [
       "<Figure size 1152x576 with 1 Axes>"
      ]
     },
     "metadata": {
      "needs_background": "light"
     },
     "output_type": "display_data"
    }
   ],
   "source": [
    "# Step 26: Train and test a RandomForestClassifier\n",
    "forest = RandomForestClassifier()\n",
    "\n",
    "forest.fit(X_train, y_train)\n",
    "\n",
    "y_hat_forest = forest.predict(X_test)\n",
    "\n",
    "print(np.sqrt(mean_squared_error(y_test, y_hat_forest)))\n",
    "\n",
    "print(f1_score(y_test, y_hat_forest))\n",
    "print(confusion_matrix(y_test, y_hat_forest))\n",
    "plt.figure(figsize = (16,8))\n",
    "plt.scatter(y_test, y_hat_forest)"
   ]
  }
 ],
 "metadata": {
  "kernelspec": {
   "display_name": "Python 3 (ipykernel)",
   "language": "python",
   "name": "python3"
  },
  "language_info": {
   "codemirror_mode": {
    "name": "ipython",
    "version": 3
   },
   "file_extension": ".py",
   "mimetype": "text/x-python",
   "name": "python",
   "nbconvert_exporter": "python",
   "pygments_lexer": "ipython3",
   "version": "3.8.10"
  }
 },
 "nbformat": 4,
 "nbformat_minor": 5
}
