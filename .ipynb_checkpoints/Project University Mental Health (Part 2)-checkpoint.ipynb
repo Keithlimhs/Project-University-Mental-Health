{
 "cells": [
  {
   "cell_type": "markdown",
   "id": "68737fff",
   "metadata": {},
   "source": [
    "# Project University Mental Health"
   ]
  },
  {
   "cell_type": "markdown",
   "id": "8f70082c",
   "metadata": {},
   "source": [
    "## Part 2: Data visualization and statistics"
   ]
  },
  {
   "cell_type": "code",
   "execution_count": 1,
   "id": "d2b8915c",
   "metadata": {},
   "outputs": [],
   "source": [
    "# Step 1: Import libraries\n",
    "import pandas as pd\n",
    "import matplotlib.pyplot as plt\n",
    "import seaborn as sns"
   ]
  },
  {
   "cell_type": "code",
   "execution_count": 3,
   "id": "ae48065c",
   "metadata": {},
   "outputs": [
    {
     "data": {
      "text/html": [
       "<div>\n",
       "<style scoped>\n",
       "    .dataframe tbody tr th:only-of-type {\n",
       "        vertical-align: middle;\n",
       "    }\n",
       "\n",
       "    .dataframe tbody tr th {\n",
       "        vertical-align: top;\n",
       "    }\n",
       "\n",
       "    .dataframe thead th {\n",
       "        text-align: right;\n",
       "    }\n",
       "</style>\n",
       "<table border=\"1\" class=\"dataframe\">\n",
       "  <thead>\n",
       "    <tr style=\"text-align: right;\">\n",
       "      <th></th>\n",
       "      <th>inter_dom</th>\n",
       "      <th>Region</th>\n",
       "      <th>Gender</th>\n",
       "      <th>Academic</th>\n",
       "      <th>Age</th>\n",
       "      <th>Age_cate</th>\n",
       "      <th>Stay</th>\n",
       "      <th>Stay_Cate</th>\n",
       "      <th>Japanese</th>\n",
       "      <th>Japanese_cate</th>\n",
       "      <th>...</th>\n",
       "      <th>Friends_bi</th>\n",
       "      <th>Parents_bi</th>\n",
       "      <th>Relative_bi</th>\n",
       "      <th>Professional_bi</th>\n",
       "      <th>Phone_bi</th>\n",
       "      <th>Doctor_bi</th>\n",
       "      <th>religion_bi</th>\n",
       "      <th>Alone_bi</th>\n",
       "      <th>Others_bi</th>\n",
       "      <th>Internet_bi</th>\n",
       "    </tr>\n",
       "  </thead>\n",
       "  <tbody>\n",
       "    <tr>\n",
       "      <th>0</th>\n",
       "      <td>Inter</td>\n",
       "      <td>SEA</td>\n",
       "      <td>Male</td>\n",
       "      <td>Grad</td>\n",
       "      <td>24.0</td>\n",
       "      <td>4.0</td>\n",
       "      <td>5.0</td>\n",
       "      <td>Long</td>\n",
       "      <td>3.0</td>\n",
       "      <td>Average</td>\n",
       "      <td>...</td>\n",
       "      <td>Yes</td>\n",
       "      <td>Yes</td>\n",
       "      <td>No</td>\n",
       "      <td>No</td>\n",
       "      <td>No</td>\n",
       "      <td>No</td>\n",
       "      <td>No</td>\n",
       "      <td>No</td>\n",
       "      <td>No</td>\n",
       "      <td>No</td>\n",
       "    </tr>\n",
       "    <tr>\n",
       "      <th>1</th>\n",
       "      <td>Inter</td>\n",
       "      <td>SEA</td>\n",
       "      <td>Male</td>\n",
       "      <td>Grad</td>\n",
       "      <td>28.0</td>\n",
       "      <td>5.0</td>\n",
       "      <td>1.0</td>\n",
       "      <td>Short</td>\n",
       "      <td>4.0</td>\n",
       "      <td>High</td>\n",
       "      <td>...</td>\n",
       "      <td>Yes</td>\n",
       "      <td>Yes</td>\n",
       "      <td>No</td>\n",
       "      <td>No</td>\n",
       "      <td>No</td>\n",
       "      <td>No</td>\n",
       "      <td>No</td>\n",
       "      <td>No</td>\n",
       "      <td>No</td>\n",
       "      <td>No</td>\n",
       "    </tr>\n",
       "    <tr>\n",
       "      <th>2</th>\n",
       "      <td>Inter</td>\n",
       "      <td>SEA</td>\n",
       "      <td>Male</td>\n",
       "      <td>Grad</td>\n",
       "      <td>25.0</td>\n",
       "      <td>4.0</td>\n",
       "      <td>6.0</td>\n",
       "      <td>Long</td>\n",
       "      <td>4.0</td>\n",
       "      <td>High</td>\n",
       "      <td>...</td>\n",
       "      <td>No</td>\n",
       "      <td>No</td>\n",
       "      <td>No</td>\n",
       "      <td>No</td>\n",
       "      <td>No</td>\n",
       "      <td>No</td>\n",
       "      <td>No</td>\n",
       "      <td>No</td>\n",
       "      <td>No</td>\n",
       "      <td>No</td>\n",
       "    </tr>\n",
       "    <tr>\n",
       "      <th>3</th>\n",
       "      <td>Inter</td>\n",
       "      <td>EA</td>\n",
       "      <td>Female</td>\n",
       "      <td>Grad</td>\n",
       "      <td>29.0</td>\n",
       "      <td>5.0</td>\n",
       "      <td>1.0</td>\n",
       "      <td>Short</td>\n",
       "      <td>2.0</td>\n",
       "      <td>Low</td>\n",
       "      <td>...</td>\n",
       "      <td>Yes</td>\n",
       "      <td>Yes</td>\n",
       "      <td>Yes</td>\n",
       "      <td>Yes</td>\n",
       "      <td>No</td>\n",
       "      <td>No</td>\n",
       "      <td>No</td>\n",
       "      <td>No</td>\n",
       "      <td>No</td>\n",
       "      <td>No</td>\n",
       "    </tr>\n",
       "    <tr>\n",
       "      <th>4</th>\n",
       "      <td>Inter</td>\n",
       "      <td>EA</td>\n",
       "      <td>Female</td>\n",
       "      <td>Grad</td>\n",
       "      <td>28.0</td>\n",
       "      <td>5.0</td>\n",
       "      <td>1.0</td>\n",
       "      <td>Short</td>\n",
       "      <td>1.0</td>\n",
       "      <td>Low</td>\n",
       "      <td>...</td>\n",
       "      <td>Yes</td>\n",
       "      <td>Yes</td>\n",
       "      <td>No</td>\n",
       "      <td>Yes</td>\n",
       "      <td>No</td>\n",
       "      <td>Yes</td>\n",
       "      <td>Yes</td>\n",
       "      <td>No</td>\n",
       "      <td>No</td>\n",
       "      <td>No</td>\n",
       "    </tr>\n",
       "    <tr>\n",
       "      <th>...</th>\n",
       "      <td>...</td>\n",
       "      <td>...</td>\n",
       "      <td>...</td>\n",
       "      <td>...</td>\n",
       "      <td>...</td>\n",
       "      <td>...</td>\n",
       "      <td>...</td>\n",
       "      <td>...</td>\n",
       "      <td>...</td>\n",
       "      <td>...</td>\n",
       "      <td>...</td>\n",
       "      <td>...</td>\n",
       "      <td>...</td>\n",
       "      <td>...</td>\n",
       "      <td>...</td>\n",
       "      <td>...</td>\n",
       "      <td>...</td>\n",
       "      <td>...</td>\n",
       "      <td>...</td>\n",
       "      <td>...</td>\n",
       "      <td>...</td>\n",
       "    </tr>\n",
       "    <tr>\n",
       "      <th>263</th>\n",
       "      <td>Dom</td>\n",
       "      <td>JAP</td>\n",
       "      <td>Female</td>\n",
       "      <td>Under</td>\n",
       "      <td>21.0</td>\n",
       "      <td>3.0</td>\n",
       "      <td>4.0</td>\n",
       "      <td>Long</td>\n",
       "      <td>5.0</td>\n",
       "      <td>High</td>\n",
       "      <td>...</td>\n",
       "      <td>Yes</td>\n",
       "      <td>Yes</td>\n",
       "      <td>No</td>\n",
       "      <td>No</td>\n",
       "      <td>No</td>\n",
       "      <td>No</td>\n",
       "      <td>No</td>\n",
       "      <td>No</td>\n",
       "      <td>No</td>\n",
       "      <td>Yes</td>\n",
       "    </tr>\n",
       "    <tr>\n",
       "      <th>264</th>\n",
       "      <td>Dom</td>\n",
       "      <td>JAP</td>\n",
       "      <td>Female</td>\n",
       "      <td>Under</td>\n",
       "      <td>22.0</td>\n",
       "      <td>3.0</td>\n",
       "      <td>3.0</td>\n",
       "      <td>Medium</td>\n",
       "      <td>3.0</td>\n",
       "      <td>Average</td>\n",
       "      <td>...</td>\n",
       "      <td>Yes</td>\n",
       "      <td>Yes</td>\n",
       "      <td>Yes</td>\n",
       "      <td>No</td>\n",
       "      <td>No</td>\n",
       "      <td>No</td>\n",
       "      <td>No</td>\n",
       "      <td>No</td>\n",
       "      <td>No</td>\n",
       "      <td>No</td>\n",
       "    </tr>\n",
       "    <tr>\n",
       "      <th>265</th>\n",
       "      <td>Dom</td>\n",
       "      <td>JAP</td>\n",
       "      <td>Female</td>\n",
       "      <td>Under</td>\n",
       "      <td>19.0</td>\n",
       "      <td>2.0</td>\n",
       "      <td>1.0</td>\n",
       "      <td>Short</td>\n",
       "      <td>5.0</td>\n",
       "      <td>High</td>\n",
       "      <td>...</td>\n",
       "      <td>Yes</td>\n",
       "      <td>Yes</td>\n",
       "      <td>Yes</td>\n",
       "      <td>Yes</td>\n",
       "      <td>Yes</td>\n",
       "      <td>Yes</td>\n",
       "      <td>No</td>\n",
       "      <td>No</td>\n",
       "      <td>No</td>\n",
       "      <td>No</td>\n",
       "    </tr>\n",
       "    <tr>\n",
       "      <th>266</th>\n",
       "      <td>Dom</td>\n",
       "      <td>JAP</td>\n",
       "      <td>Male</td>\n",
       "      <td>Under</td>\n",
       "      <td>19.0</td>\n",
       "      <td>2.0</td>\n",
       "      <td>1.0</td>\n",
       "      <td>Short</td>\n",
       "      <td>5.0</td>\n",
       "      <td>High</td>\n",
       "      <td>...</td>\n",
       "      <td>Yes</td>\n",
       "      <td>Yes</td>\n",
       "      <td>Yes</td>\n",
       "      <td>Yes</td>\n",
       "      <td>Yes</td>\n",
       "      <td>Yes</td>\n",
       "      <td>No</td>\n",
       "      <td>No</td>\n",
       "      <td>No</td>\n",
       "      <td>No</td>\n",
       "    </tr>\n",
       "    <tr>\n",
       "      <th>267</th>\n",
       "      <td>Dom</td>\n",
       "      <td>JAP</td>\n",
       "      <td>Male</td>\n",
       "      <td>Under</td>\n",
       "      <td>20.0</td>\n",
       "      <td>2.0</td>\n",
       "      <td>2.0</td>\n",
       "      <td>Medium</td>\n",
       "      <td>5.0</td>\n",
       "      <td>High</td>\n",
       "      <td>...</td>\n",
       "      <td>Yes</td>\n",
       "      <td>No</td>\n",
       "      <td>No</td>\n",
       "      <td>No</td>\n",
       "      <td>No</td>\n",
       "      <td>No</td>\n",
       "      <td>No</td>\n",
       "      <td>Yes</td>\n",
       "      <td>No</td>\n",
       "      <td>No</td>\n",
       "    </tr>\n",
       "  </tbody>\n",
       "</table>\n",
       "<p>268 rows × 50 columns</p>\n",
       "</div>"
      ],
      "text/plain": [
       "    inter_dom Region  Gender Academic   Age  Age_cate  Stay Stay_Cate  \\\n",
       "0       Inter    SEA    Male     Grad  24.0       4.0   5.0      Long   \n",
       "1       Inter    SEA    Male     Grad  28.0       5.0   1.0     Short   \n",
       "2       Inter    SEA    Male     Grad  25.0       4.0   6.0      Long   \n",
       "3       Inter     EA  Female     Grad  29.0       5.0   1.0     Short   \n",
       "4       Inter     EA  Female     Grad  28.0       5.0   1.0     Short   \n",
       "..        ...    ...     ...      ...   ...       ...   ...       ...   \n",
       "263       Dom    JAP  Female    Under  21.0       3.0   4.0      Long   \n",
       "264       Dom    JAP  Female    Under  22.0       3.0   3.0    Medium   \n",
       "265       Dom    JAP  Female    Under  19.0       2.0   1.0     Short   \n",
       "266       Dom    JAP    Male    Under  19.0       2.0   1.0     Short   \n",
       "267       Dom    JAP    Male    Under  20.0       2.0   2.0    Medium   \n",
       "\n",
       "     Japanese Japanese_cate  ...  Friends_bi Parents_bi Relative_bi  \\\n",
       "0         3.0       Average  ...         Yes        Yes          No   \n",
       "1         4.0          High  ...         Yes        Yes          No   \n",
       "2         4.0          High  ...          No         No          No   \n",
       "3         2.0           Low  ...         Yes        Yes         Yes   \n",
       "4         1.0           Low  ...         Yes        Yes          No   \n",
       "..        ...           ...  ...         ...        ...         ...   \n",
       "263       5.0          High  ...         Yes        Yes          No   \n",
       "264       3.0       Average  ...         Yes        Yes         Yes   \n",
       "265       5.0          High  ...         Yes        Yes         Yes   \n",
       "266       5.0          High  ...         Yes        Yes         Yes   \n",
       "267       5.0          High  ...         Yes         No          No   \n",
       "\n",
       "    Professional_bi Phone_bi Doctor_bi religion_bi  Alone_bi Others_bi  \\\n",
       "0                No       No        No          No        No        No   \n",
       "1                No       No        No          No        No        No   \n",
       "2                No       No        No          No        No        No   \n",
       "3               Yes       No        No          No        No        No   \n",
       "4               Yes       No       Yes         Yes        No        No   \n",
       "..              ...      ...       ...         ...       ...       ...   \n",
       "263              No       No        No          No        No        No   \n",
       "264              No       No        No          No        No        No   \n",
       "265             Yes      Yes       Yes          No        No        No   \n",
       "266             Yes      Yes       Yes          No        No        No   \n",
       "267              No       No        No          No       Yes        No   \n",
       "\n",
       "     Internet_bi  \n",
       "0             No  \n",
       "1             No  \n",
       "2             No  \n",
       "3             No  \n",
       "4             No  \n",
       "..           ...  \n",
       "263          Yes  \n",
       "264           No  \n",
       "265           No  \n",
       "266           No  \n",
       "267           No  \n",
       "\n",
       "[268 rows x 50 columns]"
      ]
     },
     "execution_count": 3,
     "metadata": {},
     "output_type": "execute_result"
    }
   ],
   "source": [
    "# Step 2: Read the CSV from Part I\n",
    "df = pd.read_csv('data_cleaned.csv')\n",
    "df"
   ]
  },
  {
   "cell_type": "code",
   "execution_count": 4,
   "id": "3c8dfdf4",
   "metadata": {},
   "outputs": [
    {
     "data": {
      "text/plain": [
       "inter_dom           object\n",
       "Region              object\n",
       "Gender              object\n",
       "Academic            object\n",
       "Age                float64\n",
       "Age_cate           float64\n",
       "Stay               float64\n",
       "Stay_Cate           object\n",
       "Japanese           float64\n",
       "Japanese_cate       object\n",
       "English            float64\n",
       "English_cate        object\n",
       "Intimate            object\n",
       "Religion            object\n",
       "Suicide             object\n",
       "Dep                 object\n",
       "DepType             object\n",
       "ToDep              float64\n",
       "DepSev              object\n",
       "ToSC               float64\n",
       "APD                float64\n",
       "AHome              float64\n",
       "APH                float64\n",
       "Afear              float64\n",
       "ACS                float64\n",
       "AGuilt             float64\n",
       "AMiscell           float64\n",
       "ToAS               float64\n",
       "Partner            float64\n",
       "Friends            float64\n",
       "Parents            float64\n",
       "Relative           float64\n",
       "Profess            float64\n",
       " Phone             float64\n",
       "Doctor             float64\n",
       "Reli               float64\n",
       "Alone              float64\n",
       "Others             float64\n",
       "Internet           float64\n",
       "Partner_bi          object\n",
       "Friends_bi          object\n",
       "Parents_bi          object\n",
       "Relative_bi         object\n",
       "Professional_bi     object\n",
       "Phone_bi            object\n",
       "Doctor_bi           object\n",
       "religion_bi         object\n",
       "Alone_bi            object\n",
       "Others_bi           object\n",
       "Internet_bi         object\n",
       "dtype: object"
      ]
     },
     "execution_count": 4,
     "metadata": {},
     "output_type": "execute_result"
    }
   ],
   "source": [
    "# Step 3: Use dtypes to check out the type of data is found in each column\n",
    "df.dtypes"
   ]
  },
  {
   "cell_type": "markdown",
   "id": "6554ebc9",
   "metadata": {},
   "source": [
    "### Step 4: Split main DataFrame into two separate ones\n",
    "Since there are many columns and we have two kinds of data types in all columns, we can consider splitting the DataFrame into two separate DataFrames:\n",
    "1. with only dtype of float64 (float)\n",
    "2. with only dtype of object (string)"
   ]
  },
  {
   "cell_type": "code",
   "execution_count": 5,
   "id": "fda6f10d",
   "metadata": {},
   "outputs": [
    {
     "data": {
      "text/html": [
       "<div>\n",
       "<style scoped>\n",
       "    .dataframe tbody tr th:only-of-type {\n",
       "        vertical-align: middle;\n",
       "    }\n",
       "\n",
       "    .dataframe tbody tr th {\n",
       "        vertical-align: top;\n",
       "    }\n",
       "\n",
       "    .dataframe thead th {\n",
       "        text-align: right;\n",
       "    }\n",
       "</style>\n",
       "<table border=\"1\" class=\"dataframe\">\n",
       "  <thead>\n",
       "    <tr style=\"text-align: right;\">\n",
       "      <th></th>\n",
       "      <th>Age</th>\n",
       "      <th>Age_cate</th>\n",
       "      <th>Stay</th>\n",
       "      <th>Japanese</th>\n",
       "      <th>English</th>\n",
       "      <th>ToDep</th>\n",
       "      <th>ToSC</th>\n",
       "      <th>APD</th>\n",
       "      <th>AHome</th>\n",
       "      <th>APH</th>\n",
       "      <th>...</th>\n",
       "      <th>Friends</th>\n",
       "      <th>Parents</th>\n",
       "      <th>Relative</th>\n",
       "      <th>Profess</th>\n",
       "      <th>Phone</th>\n",
       "      <th>Doctor</th>\n",
       "      <th>Reli</th>\n",
       "      <th>Alone</th>\n",
       "      <th>Others</th>\n",
       "      <th>Internet</th>\n",
       "    </tr>\n",
       "  </thead>\n",
       "  <tbody>\n",
       "    <tr>\n",
       "      <th>0</th>\n",
       "      <td>24.0</td>\n",
       "      <td>4.0</td>\n",
       "      <td>5.0</td>\n",
       "      <td>3.0</td>\n",
       "      <td>5.0</td>\n",
       "      <td>0.0</td>\n",
       "      <td>34.0</td>\n",
       "      <td>23.0</td>\n",
       "      <td>9.0</td>\n",
       "      <td>11.0</td>\n",
       "      <td>...</td>\n",
       "      <td>5.0</td>\n",
       "      <td>6.0</td>\n",
       "      <td>3.0</td>\n",
       "      <td>2.0</td>\n",
       "      <td>1.0</td>\n",
       "      <td>4.0</td>\n",
       "      <td>1.0</td>\n",
       "      <td>3.0</td>\n",
       "      <td>4.0</td>\n",
       "      <td>3.0</td>\n",
       "    </tr>\n",
       "    <tr>\n",
       "      <th>1</th>\n",
       "      <td>28.0</td>\n",
       "      <td>5.0</td>\n",
       "      <td>1.0</td>\n",
       "      <td>4.0</td>\n",
       "      <td>4.0</td>\n",
       "      <td>2.0</td>\n",
       "      <td>48.0</td>\n",
       "      <td>8.0</td>\n",
       "      <td>7.0</td>\n",
       "      <td>5.0</td>\n",
       "      <td>...</td>\n",
       "      <td>7.0</td>\n",
       "      <td>7.0</td>\n",
       "      <td>4.0</td>\n",
       "      <td>4.0</td>\n",
       "      <td>4.0</td>\n",
       "      <td>4.0</td>\n",
       "      <td>1.0</td>\n",
       "      <td>1.0</td>\n",
       "      <td>1.0</td>\n",
       "      <td>3.0</td>\n",
       "    </tr>\n",
       "    <tr>\n",
       "      <th>2</th>\n",
       "      <td>25.0</td>\n",
       "      <td>4.0</td>\n",
       "      <td>6.0</td>\n",
       "      <td>4.0</td>\n",
       "      <td>4.0</td>\n",
       "      <td>2.0</td>\n",
       "      <td>41.0</td>\n",
       "      <td>13.0</td>\n",
       "      <td>4.0</td>\n",
       "      <td>7.0</td>\n",
       "      <td>...</td>\n",
       "      <td>3.0</td>\n",
       "      <td>3.0</td>\n",
       "      <td>1.0</td>\n",
       "      <td>1.0</td>\n",
       "      <td>2.0</td>\n",
       "      <td>1.0</td>\n",
       "      <td>1.0</td>\n",
       "      <td>1.0</td>\n",
       "      <td>1.0</td>\n",
       "      <td>3.0</td>\n",
       "    </tr>\n",
       "    <tr>\n",
       "      <th>3</th>\n",
       "      <td>29.0</td>\n",
       "      <td>5.0</td>\n",
       "      <td>1.0</td>\n",
       "      <td>2.0</td>\n",
       "      <td>3.0</td>\n",
       "      <td>3.0</td>\n",
       "      <td>37.0</td>\n",
       "      <td>16.0</td>\n",
       "      <td>10.0</td>\n",
       "      <td>10.0</td>\n",
       "      <td>...</td>\n",
       "      <td>5.0</td>\n",
       "      <td>5.0</td>\n",
       "      <td>5.0</td>\n",
       "      <td>5.0</td>\n",
       "      <td>2.0</td>\n",
       "      <td>2.0</td>\n",
       "      <td>2.0</td>\n",
       "      <td>4.0</td>\n",
       "      <td>4.0</td>\n",
       "      <td>3.0</td>\n",
       "    </tr>\n",
       "    <tr>\n",
       "      <th>4</th>\n",
       "      <td>28.0</td>\n",
       "      <td>5.0</td>\n",
       "      <td>1.0</td>\n",
       "      <td>1.0</td>\n",
       "      <td>3.0</td>\n",
       "      <td>3.0</td>\n",
       "      <td>37.0</td>\n",
       "      <td>15.0</td>\n",
       "      <td>12.0</td>\n",
       "      <td>5.0</td>\n",
       "      <td>...</td>\n",
       "      <td>5.0</td>\n",
       "      <td>5.0</td>\n",
       "      <td>2.0</td>\n",
       "      <td>5.0</td>\n",
       "      <td>2.0</td>\n",
       "      <td>5.0</td>\n",
       "      <td>5.0</td>\n",
       "      <td>4.0</td>\n",
       "      <td>4.0</td>\n",
       "      <td>3.0</td>\n",
       "    </tr>\n",
       "    <tr>\n",
       "      <th>...</th>\n",
       "      <td>...</td>\n",
       "      <td>...</td>\n",
       "      <td>...</td>\n",
       "      <td>...</td>\n",
       "      <td>...</td>\n",
       "      <td>...</td>\n",
       "      <td>...</td>\n",
       "      <td>...</td>\n",
       "      <td>...</td>\n",
       "      <td>...</td>\n",
       "      <td>...</td>\n",
       "      <td>...</td>\n",
       "      <td>...</td>\n",
       "      <td>...</td>\n",
       "      <td>...</td>\n",
       "      <td>...</td>\n",
       "      <td>...</td>\n",
       "      <td>...</td>\n",
       "      <td>...</td>\n",
       "      <td>...</td>\n",
       "      <td>...</td>\n",
       "    </tr>\n",
       "    <tr>\n",
       "      <th>263</th>\n",
       "      <td>21.0</td>\n",
       "      <td>3.0</td>\n",
       "      <td>4.0</td>\n",
       "      <td>5.0</td>\n",
       "      <td>4.0</td>\n",
       "      <td>8.0</td>\n",
       "      <td>27.0</td>\n",
       "      <td>16.0</td>\n",
       "      <td>9.0</td>\n",
       "      <td>10.0</td>\n",
       "      <td>...</td>\n",
       "      <td>7.0</td>\n",
       "      <td>5.0</td>\n",
       "      <td>1.0</td>\n",
       "      <td>3.0</td>\n",
       "      <td>3.0</td>\n",
       "      <td>3.0</td>\n",
       "      <td>1.0</td>\n",
       "      <td>1.0</td>\n",
       "      <td>1.0</td>\n",
       "      <td>6.0</td>\n",
       "    </tr>\n",
       "    <tr>\n",
       "      <th>264</th>\n",
       "      <td>22.0</td>\n",
       "      <td>3.0</td>\n",
       "      <td>3.0</td>\n",
       "      <td>3.0</td>\n",
       "      <td>4.0</td>\n",
       "      <td>2.0</td>\n",
       "      <td>48.0</td>\n",
       "      <td>8.0</td>\n",
       "      <td>10.0</td>\n",
       "      <td>5.0</td>\n",
       "      <td>...</td>\n",
       "      <td>7.0</td>\n",
       "      <td>7.0</td>\n",
       "      <td>7.0</td>\n",
       "      <td>2.0</td>\n",
       "      <td>2.0</td>\n",
       "      <td>2.0</td>\n",
       "      <td>2.0</td>\n",
       "      <td>2.0</td>\n",
       "      <td>1.0</td>\n",
       "      <td>3.0</td>\n",
       "    </tr>\n",
       "    <tr>\n",
       "      <th>265</th>\n",
       "      <td>19.0</td>\n",
       "      <td>2.0</td>\n",
       "      <td>1.0</td>\n",
       "      <td>5.0</td>\n",
       "      <td>3.0</td>\n",
       "      <td>9.0</td>\n",
       "      <td>47.0</td>\n",
       "      <td>8.0</td>\n",
       "      <td>7.0</td>\n",
       "      <td>5.0</td>\n",
       "      <td>...</td>\n",
       "      <td>7.0</td>\n",
       "      <td>7.0</td>\n",
       "      <td>6.0</td>\n",
       "      <td>7.0</td>\n",
       "      <td>7.0</td>\n",
       "      <td>7.0</td>\n",
       "      <td>1.0</td>\n",
       "      <td>1.0</td>\n",
       "      <td>1.0</td>\n",
       "      <td>2.0</td>\n",
       "    </tr>\n",
       "    <tr>\n",
       "      <th>266</th>\n",
       "      <td>19.0</td>\n",
       "      <td>2.0</td>\n",
       "      <td>1.0</td>\n",
       "      <td>5.0</td>\n",
       "      <td>3.0</td>\n",
       "      <td>1.0</td>\n",
       "      <td>43.0</td>\n",
       "      <td>8.0</td>\n",
       "      <td>12.0</td>\n",
       "      <td>5.0</td>\n",
       "      <td>...</td>\n",
       "      <td>5.0</td>\n",
       "      <td>7.0</td>\n",
       "      <td>5.0</td>\n",
       "      <td>5.0</td>\n",
       "      <td>5.0</td>\n",
       "      <td>5.0</td>\n",
       "      <td>4.0</td>\n",
       "      <td>4.0</td>\n",
       "      <td>4.0</td>\n",
       "      <td>2.0</td>\n",
       "    </tr>\n",
       "    <tr>\n",
       "      <th>267</th>\n",
       "      <td>20.0</td>\n",
       "      <td>2.0</td>\n",
       "      <td>2.0</td>\n",
       "      <td>5.0</td>\n",
       "      <td>3.0</td>\n",
       "      <td>7.0</td>\n",
       "      <td>41.0</td>\n",
       "      <td>14.0</td>\n",
       "      <td>4.0</td>\n",
       "      <td>10.0</td>\n",
       "      <td>...</td>\n",
       "      <td>6.0</td>\n",
       "      <td>4.0</td>\n",
       "      <td>4.0</td>\n",
       "      <td>4.0</td>\n",
       "      <td>4.0</td>\n",
       "      <td>4.0</td>\n",
       "      <td>4.0</td>\n",
       "      <td>6.0</td>\n",
       "      <td>1.0</td>\n",
       "      <td>3.0</td>\n",
       "    </tr>\n",
       "  </tbody>\n",
       "</table>\n",
       "<p>268 rows × 26 columns</p>\n",
       "</div>"
      ],
      "text/plain": [
       "      Age  Age_cate  Stay  Japanese  English  ToDep  ToSC   APD  AHome   APH  \\\n",
       "0    24.0       4.0   5.0       3.0      5.0    0.0  34.0  23.0    9.0  11.0   \n",
       "1    28.0       5.0   1.0       4.0      4.0    2.0  48.0   8.0    7.0   5.0   \n",
       "2    25.0       4.0   6.0       4.0      4.0    2.0  41.0  13.0    4.0   7.0   \n",
       "3    29.0       5.0   1.0       2.0      3.0    3.0  37.0  16.0   10.0  10.0   \n",
       "4    28.0       5.0   1.0       1.0      3.0    3.0  37.0  15.0   12.0   5.0   \n",
       "..    ...       ...   ...       ...      ...    ...   ...   ...    ...   ...   \n",
       "263  21.0       3.0   4.0       5.0      4.0    8.0  27.0  16.0    9.0  10.0   \n",
       "264  22.0       3.0   3.0       3.0      4.0    2.0  48.0   8.0   10.0   5.0   \n",
       "265  19.0       2.0   1.0       5.0      3.0    9.0  47.0   8.0    7.0   5.0   \n",
       "266  19.0       2.0   1.0       5.0      3.0    1.0  43.0   8.0   12.0   5.0   \n",
       "267  20.0       2.0   2.0       5.0      3.0    7.0  41.0  14.0    4.0  10.0   \n",
       "\n",
       "     ...  Friends  Parents  Relative  Profess   Phone  Doctor  Reli  Alone  \\\n",
       "0    ...      5.0      6.0       3.0      2.0     1.0     4.0   1.0    3.0   \n",
       "1    ...      7.0      7.0       4.0      4.0     4.0     4.0   1.0    1.0   \n",
       "2    ...      3.0      3.0       1.0      1.0     2.0     1.0   1.0    1.0   \n",
       "3    ...      5.0      5.0       5.0      5.0     2.0     2.0   2.0    4.0   \n",
       "4    ...      5.0      5.0       2.0      5.0     2.0     5.0   5.0    4.0   \n",
       "..   ...      ...      ...       ...      ...     ...     ...   ...    ...   \n",
       "263  ...      7.0      5.0       1.0      3.0     3.0     3.0   1.0    1.0   \n",
       "264  ...      7.0      7.0       7.0      2.0     2.0     2.0   2.0    2.0   \n",
       "265  ...      7.0      7.0       6.0      7.0     7.0     7.0   1.0    1.0   \n",
       "266  ...      5.0      7.0       5.0      5.0     5.0     5.0   4.0    4.0   \n",
       "267  ...      6.0      4.0       4.0      4.0     4.0     4.0   4.0    6.0   \n",
       "\n",
       "     Others  Internet  \n",
       "0       4.0       3.0  \n",
       "1       1.0       3.0  \n",
       "2       1.0       3.0  \n",
       "3       4.0       3.0  \n",
       "4       4.0       3.0  \n",
       "..      ...       ...  \n",
       "263     1.0       6.0  \n",
       "264     1.0       3.0  \n",
       "265     1.0       2.0  \n",
       "266     4.0       2.0  \n",
       "267     1.0       3.0  \n",
       "\n",
       "[268 rows x 26 columns]"
      ]
     },
     "execution_count": 5,
     "metadata": {},
     "output_type": "execute_result"
    }
   ],
   "source": [
    "# Step 4a: Get your float-only DataFrame\n",
    "df_float = df.select_dtypes(include = 'number')\n",
    "df_float"
   ]
  },
  {
   "cell_type": "code",
   "execution_count": 6,
   "id": "3378cc02",
   "metadata": {},
   "outputs": [
    {
     "data": {
      "text/html": [
       "<div>\n",
       "<style scoped>\n",
       "    .dataframe tbody tr th:only-of-type {\n",
       "        vertical-align: middle;\n",
       "    }\n",
       "\n",
       "    .dataframe tbody tr th {\n",
       "        vertical-align: top;\n",
       "    }\n",
       "\n",
       "    .dataframe thead th {\n",
       "        text-align: right;\n",
       "    }\n",
       "</style>\n",
       "<table border=\"1\" class=\"dataframe\">\n",
       "  <thead>\n",
       "    <tr style=\"text-align: right;\">\n",
       "      <th></th>\n",
       "      <th>inter_dom</th>\n",
       "      <th>Region</th>\n",
       "      <th>Gender</th>\n",
       "      <th>Academic</th>\n",
       "      <th>Stay_Cate</th>\n",
       "      <th>Japanese_cate</th>\n",
       "      <th>English_cate</th>\n",
       "      <th>Intimate</th>\n",
       "      <th>Religion</th>\n",
       "      <th>Suicide</th>\n",
       "      <th>...</th>\n",
       "      <th>Friends_bi</th>\n",
       "      <th>Parents_bi</th>\n",
       "      <th>Relative_bi</th>\n",
       "      <th>Professional_bi</th>\n",
       "      <th>Phone_bi</th>\n",
       "      <th>Doctor_bi</th>\n",
       "      <th>religion_bi</th>\n",
       "      <th>Alone_bi</th>\n",
       "      <th>Others_bi</th>\n",
       "      <th>Internet_bi</th>\n",
       "    </tr>\n",
       "  </thead>\n",
       "  <tbody>\n",
       "    <tr>\n",
       "      <th>0</th>\n",
       "      <td>Inter</td>\n",
       "      <td>SEA</td>\n",
       "      <td>Male</td>\n",
       "      <td>Grad</td>\n",
       "      <td>Long</td>\n",
       "      <td>Average</td>\n",
       "      <td>High</td>\n",
       "      <td>NaN</td>\n",
       "      <td>Yes</td>\n",
       "      <td>No</td>\n",
       "      <td>...</td>\n",
       "      <td>Yes</td>\n",
       "      <td>Yes</td>\n",
       "      <td>No</td>\n",
       "      <td>No</td>\n",
       "      <td>No</td>\n",
       "      <td>No</td>\n",
       "      <td>No</td>\n",
       "      <td>No</td>\n",
       "      <td>No</td>\n",
       "      <td>No</td>\n",
       "    </tr>\n",
       "    <tr>\n",
       "      <th>1</th>\n",
       "      <td>Inter</td>\n",
       "      <td>SEA</td>\n",
       "      <td>Male</td>\n",
       "      <td>Grad</td>\n",
       "      <td>Short</td>\n",
       "      <td>High</td>\n",
       "      <td>High</td>\n",
       "      <td>NaN</td>\n",
       "      <td>No</td>\n",
       "      <td>No</td>\n",
       "      <td>...</td>\n",
       "      <td>Yes</td>\n",
       "      <td>Yes</td>\n",
       "      <td>No</td>\n",
       "      <td>No</td>\n",
       "      <td>No</td>\n",
       "      <td>No</td>\n",
       "      <td>No</td>\n",
       "      <td>No</td>\n",
       "      <td>No</td>\n",
       "      <td>No</td>\n",
       "    </tr>\n",
       "    <tr>\n",
       "      <th>2</th>\n",
       "      <td>Inter</td>\n",
       "      <td>SEA</td>\n",
       "      <td>Male</td>\n",
       "      <td>Grad</td>\n",
       "      <td>Long</td>\n",
       "      <td>High</td>\n",
       "      <td>High</td>\n",
       "      <td>Yes</td>\n",
       "      <td>Yes</td>\n",
       "      <td>No</td>\n",
       "      <td>...</td>\n",
       "      <td>No</td>\n",
       "      <td>No</td>\n",
       "      <td>No</td>\n",
       "      <td>No</td>\n",
       "      <td>No</td>\n",
       "      <td>No</td>\n",
       "      <td>No</td>\n",
       "      <td>No</td>\n",
       "      <td>No</td>\n",
       "      <td>No</td>\n",
       "    </tr>\n",
       "    <tr>\n",
       "      <th>3</th>\n",
       "      <td>Inter</td>\n",
       "      <td>EA</td>\n",
       "      <td>Female</td>\n",
       "      <td>Grad</td>\n",
       "      <td>Short</td>\n",
       "      <td>Low</td>\n",
       "      <td>Average</td>\n",
       "      <td>No</td>\n",
       "      <td>No</td>\n",
       "      <td>No</td>\n",
       "      <td>...</td>\n",
       "      <td>Yes</td>\n",
       "      <td>Yes</td>\n",
       "      <td>Yes</td>\n",
       "      <td>Yes</td>\n",
       "      <td>No</td>\n",
       "      <td>No</td>\n",
       "      <td>No</td>\n",
       "      <td>No</td>\n",
       "      <td>No</td>\n",
       "      <td>No</td>\n",
       "    </tr>\n",
       "    <tr>\n",
       "      <th>4</th>\n",
       "      <td>Inter</td>\n",
       "      <td>EA</td>\n",
       "      <td>Female</td>\n",
       "      <td>Grad</td>\n",
       "      <td>Short</td>\n",
       "      <td>Low</td>\n",
       "      <td>Average</td>\n",
       "      <td>Yes</td>\n",
       "      <td>No</td>\n",
       "      <td>No</td>\n",
       "      <td>...</td>\n",
       "      <td>Yes</td>\n",
       "      <td>Yes</td>\n",
       "      <td>No</td>\n",
       "      <td>Yes</td>\n",
       "      <td>No</td>\n",
       "      <td>Yes</td>\n",
       "      <td>Yes</td>\n",
       "      <td>No</td>\n",
       "      <td>No</td>\n",
       "      <td>No</td>\n",
       "    </tr>\n",
       "    <tr>\n",
       "      <th>...</th>\n",
       "      <td>...</td>\n",
       "      <td>...</td>\n",
       "      <td>...</td>\n",
       "      <td>...</td>\n",
       "      <td>...</td>\n",
       "      <td>...</td>\n",
       "      <td>...</td>\n",
       "      <td>...</td>\n",
       "      <td>...</td>\n",
       "      <td>...</td>\n",
       "      <td>...</td>\n",
       "      <td>...</td>\n",
       "      <td>...</td>\n",
       "      <td>...</td>\n",
       "      <td>...</td>\n",
       "      <td>...</td>\n",
       "      <td>...</td>\n",
       "      <td>...</td>\n",
       "      <td>...</td>\n",
       "      <td>...</td>\n",
       "      <td>...</td>\n",
       "    </tr>\n",
       "    <tr>\n",
       "      <th>263</th>\n",
       "      <td>Dom</td>\n",
       "      <td>JAP</td>\n",
       "      <td>Female</td>\n",
       "      <td>Under</td>\n",
       "      <td>Long</td>\n",
       "      <td>High</td>\n",
       "      <td>High</td>\n",
       "      <td>No</td>\n",
       "      <td>Yes</td>\n",
       "      <td>No</td>\n",
       "      <td>...</td>\n",
       "      <td>Yes</td>\n",
       "      <td>Yes</td>\n",
       "      <td>No</td>\n",
       "      <td>No</td>\n",
       "      <td>No</td>\n",
       "      <td>No</td>\n",
       "      <td>No</td>\n",
       "      <td>No</td>\n",
       "      <td>No</td>\n",
       "      <td>Yes</td>\n",
       "    </tr>\n",
       "    <tr>\n",
       "      <th>264</th>\n",
       "      <td>Dom</td>\n",
       "      <td>JAP</td>\n",
       "      <td>Female</td>\n",
       "      <td>Under</td>\n",
       "      <td>Medium</td>\n",
       "      <td>Average</td>\n",
       "      <td>High</td>\n",
       "      <td>Yes</td>\n",
       "      <td>Yes</td>\n",
       "      <td>No</td>\n",
       "      <td>...</td>\n",
       "      <td>Yes</td>\n",
       "      <td>Yes</td>\n",
       "      <td>Yes</td>\n",
       "      <td>No</td>\n",
       "      <td>No</td>\n",
       "      <td>No</td>\n",
       "      <td>No</td>\n",
       "      <td>No</td>\n",
       "      <td>No</td>\n",
       "      <td>No</td>\n",
       "    </tr>\n",
       "    <tr>\n",
       "      <th>265</th>\n",
       "      <td>Dom</td>\n",
       "      <td>JAP</td>\n",
       "      <td>Female</td>\n",
       "      <td>Under</td>\n",
       "      <td>Short</td>\n",
       "      <td>High</td>\n",
       "      <td>Average</td>\n",
       "      <td>No</td>\n",
       "      <td>No</td>\n",
       "      <td>No</td>\n",
       "      <td>...</td>\n",
       "      <td>Yes</td>\n",
       "      <td>Yes</td>\n",
       "      <td>Yes</td>\n",
       "      <td>Yes</td>\n",
       "      <td>Yes</td>\n",
       "      <td>Yes</td>\n",
       "      <td>No</td>\n",
       "      <td>No</td>\n",
       "      <td>No</td>\n",
       "      <td>No</td>\n",
       "    </tr>\n",
       "    <tr>\n",
       "      <th>266</th>\n",
       "      <td>Dom</td>\n",
       "      <td>JAP</td>\n",
       "      <td>Male</td>\n",
       "      <td>Under</td>\n",
       "      <td>Short</td>\n",
       "      <td>High</td>\n",
       "      <td>Average</td>\n",
       "      <td>No</td>\n",
       "      <td>No</td>\n",
       "      <td>No</td>\n",
       "      <td>...</td>\n",
       "      <td>Yes</td>\n",
       "      <td>Yes</td>\n",
       "      <td>Yes</td>\n",
       "      <td>Yes</td>\n",
       "      <td>Yes</td>\n",
       "      <td>Yes</td>\n",
       "      <td>No</td>\n",
       "      <td>No</td>\n",
       "      <td>No</td>\n",
       "      <td>No</td>\n",
       "    </tr>\n",
       "    <tr>\n",
       "      <th>267</th>\n",
       "      <td>Dom</td>\n",
       "      <td>JAP</td>\n",
       "      <td>Male</td>\n",
       "      <td>Under</td>\n",
       "      <td>Medium</td>\n",
       "      <td>High</td>\n",
       "      <td>Average</td>\n",
       "      <td>No</td>\n",
       "      <td>No</td>\n",
       "      <td>Yes</td>\n",
       "      <td>...</td>\n",
       "      <td>Yes</td>\n",
       "      <td>No</td>\n",
       "      <td>No</td>\n",
       "      <td>No</td>\n",
       "      <td>No</td>\n",
       "      <td>No</td>\n",
       "      <td>No</td>\n",
       "      <td>Yes</td>\n",
       "      <td>No</td>\n",
       "      <td>No</td>\n",
       "    </tr>\n",
       "  </tbody>\n",
       "</table>\n",
       "<p>268 rows × 24 columns</p>\n",
       "</div>"
      ],
      "text/plain": [
       "    inter_dom Region  Gender Academic Stay_Cate Japanese_cate English_cate  \\\n",
       "0       Inter    SEA    Male     Grad      Long       Average         High   \n",
       "1       Inter    SEA    Male     Grad     Short          High         High   \n",
       "2       Inter    SEA    Male     Grad      Long          High         High   \n",
       "3       Inter     EA  Female     Grad     Short           Low      Average   \n",
       "4       Inter     EA  Female     Grad     Short           Low      Average   \n",
       "..        ...    ...     ...      ...       ...           ...          ...   \n",
       "263       Dom    JAP  Female    Under      Long          High         High   \n",
       "264       Dom    JAP  Female    Under    Medium       Average         High   \n",
       "265       Dom    JAP  Female    Under     Short          High      Average   \n",
       "266       Dom    JAP    Male    Under     Short          High      Average   \n",
       "267       Dom    JAP    Male    Under    Medium          High      Average   \n",
       "\n",
       "    Intimate Religion Suicide  ... Friends_bi Parents_bi Relative_bi  \\\n",
       "0        NaN      Yes      No  ...        Yes        Yes          No   \n",
       "1        NaN       No      No  ...        Yes        Yes          No   \n",
       "2        Yes      Yes      No  ...         No         No          No   \n",
       "3         No       No      No  ...        Yes        Yes         Yes   \n",
       "4        Yes       No      No  ...        Yes        Yes          No   \n",
       "..       ...      ...     ...  ...        ...        ...         ...   \n",
       "263       No      Yes      No  ...        Yes        Yes          No   \n",
       "264      Yes      Yes      No  ...        Yes        Yes         Yes   \n",
       "265       No       No      No  ...        Yes        Yes         Yes   \n",
       "266       No       No      No  ...        Yes        Yes         Yes   \n",
       "267       No       No     Yes  ...        Yes         No          No   \n",
       "\n",
       "    Professional_bi Phone_bi Doctor_bi religion_bi Alone_bi Others_bi  \\\n",
       "0                No       No        No          No       No        No   \n",
       "1                No       No        No          No       No        No   \n",
       "2                No       No        No          No       No        No   \n",
       "3               Yes       No        No          No       No        No   \n",
       "4               Yes       No       Yes         Yes       No        No   \n",
       "..              ...      ...       ...         ...      ...       ...   \n",
       "263              No       No        No          No       No        No   \n",
       "264              No       No        No          No       No        No   \n",
       "265             Yes      Yes       Yes          No       No        No   \n",
       "266             Yes      Yes       Yes          No       No        No   \n",
       "267              No       No        No          No      Yes        No   \n",
       "\n",
       "    Internet_bi  \n",
       "0            No  \n",
       "1            No  \n",
       "2            No  \n",
       "3            No  \n",
       "4            No  \n",
       "..          ...  \n",
       "263         Yes  \n",
       "264          No  \n",
       "265          No  \n",
       "266          No  \n",
       "267          No  \n",
       "\n",
       "[268 rows x 24 columns]"
      ]
     },
     "execution_count": 6,
     "metadata": {},
     "output_type": "execute_result"
    }
   ],
   "source": [
    "# Step 4b: Get your object-only DataFrame\n",
    "df_object = df.select_dtypes(include=  'object')\n",
    "df_object"
   ]
  },
  {
   "cell_type": "markdown",
   "id": "c9fcef8e",
   "metadata": {},
   "source": [
    "## Univariate analysis \n",
    "Univariate analysis is a form of analysis where we analyze the values in one column, e.g., distribution. \n",
    "\n",
    "With columns with numerical variables, we'll use a histogram. On the other hand, for columns with categorical values, we can use a countplot from seaborn, i.e. a plot that counts the frequency of the categorical values in each column. \n",
    "\n",
    "There are a lot of columns in the DataFrame that we're working with, and everything seems interesting. We will use a for loop to loop through all the columns to plot the values in them."
   ]
  },
  {
   "cell_type": "code",
   "execution_count": 7,
   "id": "fab97320",
   "metadata": {
    "scrolled": false
   },
   "outputs": [
    {
     "data": {
      "image/png": "[encoded data removed]",
      "text/plain": [
       "<Figure size 864x576 with 1 Axes>"
      ]
     },
     "metadata": {
      "needs_background": "light"
     },
     "output_type": "display_data"
    },
    {
     "data": {
      "image/png": "[encoded data removed]",
      "text/plain": [
       "<Figure size 864x576 with 1 Axes>"
      ]
     },
     "metadata": {
      "needs_background": "light"
     },
     "output_type": "display_data"
    },
    {
     "data": {
      "image/png": "[encoded data removed]",
      "text/plain": [
       "<Figure size 864x576 with 1 Axes>"
      ]
     },
     "metadata": {
      "needs_background": "light"
     },
     "output_type": "display_data"
    },
    {
     "data": {
      "image/png": "[encoded data removed]",
      "text/plain": [
       "<Figure size 864x576 with 1 Axes>"
      ]
     },
     "metadata": {
      "needs_background": "light"
     },
     "output_type": "display_data"
    },
    {
     "data": {
      "image/png": "[encoded data removed]",
      "text/plain": [
       "<Figure size 864x576 with 1 Axes>"
      ]
     },
     "metadata": {
      "needs_background": "light"
     },
     "output_type": "display_data"
    },
    {
     "data": {
      "image/png": "[encoded data removed]",
      "text/plain": [
       "<Figure size 864x576 with 1 Axes>"
      ]
     },
     "metadata": {
      "needs_background": "light"
     },
     "output_type": "display_data"
    },
    {
     "data": {
      "image/png": "[encoded data removed]",
      "text/plain": [
       "<Figure size 864x576 with 1 Axes>"
      ]
     },
     "metadata": {
      "needs_background": "light"
     },
     "output_type": "display_data"
    },
    {
     "data": {
      "image/png": "[encoded data removed]",
      "text/plain": [
       "<Figure size 864x576 with 1 Axes>"
      ]
     },
     "metadata": {
      "needs_background": "light"
     },
     "output_type": "display_data"
    },
    {
     "data": {
      "image/png": "[encoded data removed]",
      "text/plain": [
       "<Figure size 864x576 with 1 Axes>"
      ]
     },
     "metadata": {
      "needs_background": "light"
     },
     "output_type": "display_data"
    },
    {
     "data": {
      "image/png": "[encoded data removed]",
      "text/plain": [
       "<Figure size 864x576 with 1 Axes>"
      ]
     },
     "metadata": {
      "needs_background": "light"
     },
     "output_type": "display_data"
    },
    {
     "data": {
      "image/png": "[encoded data removed]",
      "text/plain": [
       "<Figure size 864x576 with 1 Axes>"
      ]
     },
     "metadata": {
      "needs_background": "light"
     },
     "output_type": "display_data"
    },
    {
     "data": {
      "image/png": "[encoded data removed]",
      "text/plain": [
       "<Figure size 864x576 with 1 Axes>"
      ]
     },
     "metadata": {
      "needs_background": "light"
     },
     "output_type": "display_data"
    },
    {
     "data": {
      "image/png": "[encoded data removed]",
      "text/plain": [
       "<Figure size 864x576 with 1 Axes>"
      ]
     },
     "metadata": {
      "needs_background": "light"
     },
     "output_type": "display_data"
    },
    {
     "data": {
      "image/png": "[encoded data removed]",
      "text/plain": [
       "<Figure size 864x576 with 1 Axes>"
      ]
     },
     "metadata": {
      "needs_background": "light"
     },
     "output_type": "display_data"
    },
    {
     "data": {
      "image/png": "[encoded data removed]",
      "text/plain": [
       "<Figure size 864x576 with 1 Axes>"
      ]
     },
     "metadata": {
      "needs_background": "light"
     },
     "output_type": "display_data"
    },
    {
     "data": {
      "image/png": "[encoded data removed]",
      "text/plain": [
       "<Figure size 864x576 with 1 Axes>"
      ]
     },
     "metadata": {
      "needs_background": "light"
     },
     "output_type": "display_data"
    },
    {
     "data": {
      "image/png": "[encoded data removed]",
      "text/plain": [
       "<Figure size 864x576 with 1 Axes>"
      ]
     },
     "metadata": {
      "needs_background": "light"
     },
     "output_type": "display_data"
    },
    {
     "data": {
      "image/png": "[encoded data removed]",
      "text/plain": [
       "<Figure size 864x576 with 1 Axes>"
      ]
     },
     "metadata": {
      "needs_background": "light"
     },
     "output_type": "display_data"
    },
    {
     "data": {
      "image/png": "[encoded data removed]",
      "text/plain": [
       "<Figure size 864x576 with 1 Axes>"
      ]
     },
     "metadata": {
      "needs_background": "light"
     },
     "output_type": "display_data"
    },
    {
     "data": {
      "image/png": "[encoded data removed]",
      "text/plain": [
       "<Figure size 864x576 with 1 Axes>"
      ]
     },
     "metadata": {
      "needs_background": "light"
     },
     "output_type": "display_data"
    },
    {
     "data": {
      "image/png": "[encoded data removed]",
      "text/plain": [
       "<Figure size 864x576 with 1 Axes>"
      ]
     },
     "metadata": {
      "needs_background": "light"
     },
     "output_type": "display_data"
    },
    {
     "data": {
      "image/png": "[encoded data removed]",
      "text/plain": [
       "<Figure size 864x576 with 1 Axes>"
      ]
     },
     "metadata": {
      "needs_background": "light"
     },
     "output_type": "display_data"
    },
    {
     "data": {
      "image/png": "[encoded data removed]",
      "text/plain": [
       "<Figure size 864x576 with 1 Axes>"
      ]
     },
     "metadata": {
      "needs_background": "light"
     },
     "output_type": "display_data"
    },
    {
     "data": {
      "image/png": "[encoded data removed]",
      "text/plain": [
       "<Figure size 864x576 with 1 Axes>"
      ]
     },
     "metadata": {
      "needs_background": "light"
     },
     "output_type": "display_data"
    },
    {
     "data": {
      "image/png": "[encoded data removed]",
      "text/plain": [
       "<Figure size 864x576 with 1 Axes>"
      ]
     },
     "metadata": {
      "needs_background": "light"
     },
     "output_type": "display_data"
    },
    {
     "data": {
      "image/png": "[encoded data removed]",
      "text/plain": [
       "<Figure size 864x576 with 1 Axes>"
      ]
     },
     "metadata": {
      "needs_background": "light"
     },
     "output_type": "display_data"
    }
   ],
   "source": [
    "# Step 5: Plot the numeric column values iteratively\n",
    "for column in df_float.columns:\n",
    "    plt.figure(figsize = (12,8))\n",
    "    df_float[column].hist()\n",
    "    plt.title(column + \" histogram\")\n",
    "    plt.show()"
   ]
  },
  {
   "cell_type": "code",
   "execution_count": 8,
   "id": "42db9e49",
   "metadata": {
    "scrolled": false
   },
   "outputs": [
    {
     "name": "stderr",
     "output_type": "stream",
     "text": [
      "c:\\users\\hslim\\appdata\\local\\programs\\python\\python39\\lib\\site-packages\\seaborn\\_decorators.py:36: FutureWarning: Pass the following variable as a keyword arg: x. From version 0.12, the only valid positional argument will be `data`, and passing other arguments without an explicit keyword will result in an error or misinterpretation.\n",
      "  warnings.warn(\n"
     ]
    },
    {
     "data": {
      "image/png": "[encoded data removed]",
      "text/plain": [
       "<Figure size 864x576 with 1 Axes>"
      ]
     },
     "metadata": {
      "needs_background": "light"
     },
     "output_type": "display_data"
    },
    {
     "name": "stderr",
     "output_type": "stream",
     "text": [
      "c:\\users\\hslim\\appdata\\local\\programs\\python\\python39\\lib\\site-packages\\seaborn\\_decorators.py:36: FutureWarning: Pass the following variable as a keyword arg: x. From version 0.12, the only valid positional argument will be `data`, and passing other arguments without an explicit keyword will result in an error or misinterpretation.\n",
      "  warnings.warn(\n"
     ]
    },
    {
     "data": {
      "image/png": "[encoded data removed]",
      "text/plain": [
       "<Figure size 864x576 with 1 Axes>"
      ]
     },
     "metadata": {
      "needs_background": "light"
     },
     "output_type": "display_data"
    },
    {
     "name": "stderr",
     "output_type": "stream",
     "text": [
      "c:\\users\\hslim\\appdata\\local\\programs\\python\\python39\\lib\\site-packages\\seaborn\\_decorators.py:36: FutureWarning: Pass the following variable as a keyword arg: x. From version 0.12, the only valid positional argument will be `data`, and passing other arguments without an explicit keyword will result in an error or misinterpretation.\n",
      "  warnings.warn(\n"
     ]
    },
    {
     "data": {
      "image/png": "[encoded data removed]",
      "text/plain": [
       "<Figure size 864x576 with 1 Axes>"
      ]
     },
     "metadata": {
      "needs_background": "light"
     },
     "output_type": "display_data"
    },
    {
     "name": "stderr",
     "output_type": "stream",
     "text": [
      "c:\\users\\hslim\\appdata\\local\\programs\\python\\python39\\lib\\site-packages\\seaborn\\_decorators.py:36: FutureWarning: Pass the following variable as a keyword arg: x. From version 0.12, the only valid positional argument will be `data`, and passing other arguments without an explicit keyword will result in an error or misinterpretation.\n",
      "  warnings.warn(\n"
     ]
    },
    {
     "data": {
      "image/png": "[encoded data removed]",
      "text/plain": [
       "<Figure size 864x576 with 1 Axes>"
      ]
     },
     "metadata": {
      "needs_background": "light"
     },
     "output_type": "display_data"
    },
    {
     "name": "stderr",
     "output_type": "stream",
     "text": [
      "c:\\users\\hslim\\appdata\\local\\programs\\python\\python39\\lib\\site-packages\\seaborn\\_decorators.py:36: FutureWarning: Pass the following variable as a keyword arg: x. From version 0.12, the only valid positional argument will be `data`, and passing other arguments without an explicit keyword will result in an error or misinterpretation.\n",
      "  warnings.warn(\n"
     ]
    },
    {
     "data": {
      "image/png": "[encoded data removed]",
      "text/plain": [
       "<Figure size 864x576 with 1 Axes>"
      ]
     },
     "metadata": {
      "needs_background": "light"
     },
     "output_type": "display_data"
    },
    {
     "name": "stderr",
     "output_type": "stream",
     "text": [
      "c:\\users\\hslim\\appdata\\local\\programs\\python\\python39\\lib\\site-packages\\seaborn\\_decorators.py:36: FutureWarning: Pass the following variable as a keyword arg: x. From version 0.12, the only valid positional argument will be `data`, and passing other arguments without an explicit keyword will result in an error or misinterpretation.\n",
      "  warnings.warn(\n"
     ]
    },
    {
     "data": {
      "image/png": "[encoded data removed]",
      "text/plain": [
       "<Figure size 864x576 with 1 Axes>"
      ]
     },
     "metadata": {
      "needs_background": "light"
     },
     "output_type": "display_data"
    },
    {
     "name": "stderr",
     "output_type": "stream",
     "text": [
      "c:\\users\\hslim\\appdata\\local\\programs\\python\\python39\\lib\\site-packages\\seaborn\\_decorators.py:36: FutureWarning: Pass the following variable as a keyword arg: x. From version 0.12, the only valid positional argument will be `data`, and passing other arguments without an explicit keyword will result in an error or misinterpretation.\n",
      "  warnings.warn(\n"
     ]
    },
    {
     "data": {
      "image/png": "[encoded data removed]",
      "text/plain": [
       "<Figure size 864x576 with 1 Axes>"
      ]
     },
     "metadata": {
      "needs_background": "light"
     },
     "output_type": "display_data"
    },
    {
     "name": "stderr",
     "output_type": "stream",
     "text": [
      "c:\\users\\hslim\\appdata\\local\\programs\\python\\python39\\lib\\site-packages\\seaborn\\_decorators.py:36: FutureWarning: Pass the following variable as a keyword arg: x. From version 0.12, the only valid positional argument will be `data`, and passing other arguments without an explicit keyword will result in an error or misinterpretation.\n",
      "  warnings.warn(\n"
     ]
    },
    {
     "data": {
      "image/png": "[encoded data removed]",
      "text/plain": [
       "<Figure size 864x576 with 1 Axes>"
      ]
     },
     "metadata": {
      "needs_background": "light"
     },
     "output_type": "display_data"
    },
    {
     "name": "stderr",
     "output_type": "stream",
     "text": [
      "c:\\users\\hslim\\appdata\\local\\programs\\python\\python39\\lib\\site-packages\\seaborn\\_decorators.py:36: FutureWarning: Pass the following variable as a keyword arg: x. From version 0.12, the only valid positional argument will be `data`, and passing other arguments without an explicit keyword will result in an error or misinterpretation.\n",
      "  warnings.warn(\n"
     ]
    },
    {
     "data": {
      "image/png": "[encoded data removed]",
      "text/plain": [
       "<Figure size 864x576 with 1 Axes>"
      ]
     },
     "metadata": {
      "needs_background": "light"
     },
     "output_type": "display_data"
    },
    {
     "name": "stderr",
     "output_type": "stream",
     "text": [
      "c:\\users\\hslim\\appdata\\local\\programs\\python\\python39\\lib\\site-packages\\seaborn\\_decorators.py:36: FutureWarning: Pass the following variable as a keyword arg: x. From version 0.12, the only valid positional argument will be `data`, and passing other arguments without an explicit keyword will result in an error or misinterpretation.\n",
      "  warnings.warn(\n"
     ]
    },
    {
     "data": {
      "image/png": "[encoded data removed]",
      "text/plain": [
       "<Figure size 864x576 with 1 Axes>"
      ]
     },
     "metadata": {
      "needs_background": "light"
     },
     "output_type": "display_data"
    },
    {
     "name": "stderr",
     "output_type": "stream",
     "text": [
      "c:\\users\\hslim\\appdata\\local\\programs\\python\\python39\\lib\\site-packages\\seaborn\\_decorators.py:36: FutureWarning: Pass the following variable as a keyword arg: x. From version 0.12, the only valid positional argument will be `data`, and passing other arguments without an explicit keyword will result in an error or misinterpretation.\n",
      "  warnings.warn(\n"
     ]
    },
    {
     "data": {
      "image/png": "[encoded data removed]",
      "text/plain": [
       "<Figure size 864x576 with 1 Axes>"
      ]
     },
     "metadata": {
      "needs_background": "light"
     },
     "output_type": "display_data"
    },
    {
     "name": "stderr",
     "output_type": "stream",
     "text": [
      "c:\\users\\hslim\\appdata\\local\\programs\\python\\python39\\lib\\site-packages\\seaborn\\_decorators.py:36: FutureWarning: Pass the following variable as a keyword arg: x. From version 0.12, the only valid positional argument will be `data`, and passing other arguments without an explicit keyword will result in an error or misinterpretation.\n",
      "  warnings.warn(\n"
     ]
    },
    {
     "data": {
      "image/png": "[encoded data removed]",
      "text/plain": [
       "<Figure size 864x576 with 1 Axes>"
      ]
     },
     "metadata": {
      "needs_background": "light"
     },
     "output_type": "display_data"
    },
    {
     "name": "stderr",
     "output_type": "stream",
     "text": [
      "c:\\users\\hslim\\appdata\\local\\programs\\python\\python39\\lib\\site-packages\\seaborn\\_decorators.py:36: FutureWarning: Pass the following variable as a keyword arg: x. From version 0.12, the only valid positional argument will be `data`, and passing other arguments without an explicit keyword will result in an error or misinterpretation.\n",
      "  warnings.warn(\n"
     ]
    },
    {
     "data": {
      "image/png": "[encoded data removed]",
      "text/plain": [
       "<Figure size 864x576 with 1 Axes>"
      ]
     },
     "metadata": {
      "needs_background": "light"
     },
     "output_type": "display_data"
    },
    {
     "name": "stderr",
     "output_type": "stream",
     "text": [
      "c:\\users\\hslim\\appdata\\local\\programs\\python\\python39\\lib\\site-packages\\seaborn\\_decorators.py:36: FutureWarning: Pass the following variable as a keyword arg: x. From version 0.12, the only valid positional argument will be `data`, and passing other arguments without an explicit keyword will result in an error or misinterpretation.\n",
      "  warnings.warn(\n"
     ]
    },
    {
     "data": {
      "image/png": "[encoded data removed]",
      "text/plain": [
       "<Figure size 864x576 with 1 Axes>"
      ]
     },
     "metadata": {
      "needs_background": "light"
     },
     "output_type": "display_data"
    },
    {
     "name": "stderr",
     "output_type": "stream",
     "text": [
      "c:\\users\\hslim\\appdata\\local\\programs\\python\\python39\\lib\\site-packages\\seaborn\\_decorators.py:36: FutureWarning: Pass the following variable as a keyword arg: x. From version 0.12, the only valid positional argument will be `data`, and passing other arguments without an explicit keyword will result in an error or misinterpretation.\n",
      "  warnings.warn(\n"
     ]
    },
    {
     "data": {
      "image/png": "[encoded data removed]",
      "text/plain": [
       "<Figure size 864x576 with 1 Axes>"
      ]
     },
     "metadata": {
      "needs_background": "light"
     },
     "output_type": "display_data"
    },
    {
     "name": "stderr",
     "output_type": "stream",
     "text": [
      "c:\\users\\hslim\\appdata\\local\\programs\\python\\python39\\lib\\site-packages\\seaborn\\_decorators.py:36: FutureWarning: Pass the following variable as a keyword arg: x. From version 0.12, the only valid positional argument will be `data`, and passing other arguments without an explicit keyword will result in an error or misinterpretation.\n",
      "  warnings.warn(\n"
     ]
    },
    {
     "data": {
      "image/png": "[encoded data removed]",
      "text/plain": [
       "<Figure size 864x576 with 1 Axes>"
      ]
     },
     "metadata": {
      "needs_background": "light"
     },
     "output_type": "display_data"
    },
    {
     "name": "stderr",
     "output_type": "stream",
     "text": [
      "c:\\users\\hslim\\appdata\\local\\programs\\python\\python39\\lib\\site-packages\\seaborn\\_decorators.py:36: FutureWarning: Pass the following variable as a keyword arg: x. From version 0.12, the only valid positional argument will be `data`, and passing other arguments without an explicit keyword will result in an error or misinterpretation.\n",
      "  warnings.warn(\n"
     ]
    },
    {
     "data": {
      "image/png": "[encoded data removed]",
      "text/plain": [
       "<Figure size 864x576 with 1 Axes>"
      ]
     },
     "metadata": {
      "needs_background": "light"
     },
     "output_type": "display_data"
    },
    {
     "name": "stderr",
     "output_type": "stream",
     "text": [
      "c:\\users\\hslim\\appdata\\local\\programs\\python\\python39\\lib\\site-packages\\seaborn\\_decorators.py:36: FutureWarning: Pass the following variable as a keyword arg: x. From version 0.12, the only valid positional argument will be `data`, and passing other arguments without an explicit keyword will result in an error or misinterpretation.\n",
      "  warnings.warn(\n"
     ]
    },
    {
     "data": {
      "image/png": "[encoded data removed]",
      "text/plain": [
       "<Figure size 864x576 with 1 Axes>"
      ]
     },
     "metadata": {
      "needs_background": "light"
     },
     "output_type": "display_data"
    },
    {
     "name": "stderr",
     "output_type": "stream",
     "text": [
      "c:\\users\\hslim\\appdata\\local\\programs\\python\\python39\\lib\\site-packages\\seaborn\\_decorators.py:36: FutureWarning: Pass the following variable as a keyword arg: x. From version 0.12, the only valid positional argument will be `data`, and passing other arguments without an explicit keyword will result in an error or misinterpretation.\n",
      "  warnings.warn(\n"
     ]
    },
    {
     "data": {
      "image/png": "[encoded data removed]",
      "text/plain": [
       "<Figure size 864x576 with 1 Axes>"
      ]
     },
     "metadata": {
      "needs_background": "light"
     },
     "output_type": "display_data"
    },
    {
     "name": "stderr",
     "output_type": "stream",
     "text": [
      "c:\\users\\hslim\\appdata\\local\\programs\\python\\python39\\lib\\site-packages\\seaborn\\_decorators.py:36: FutureWarning: Pass the following variable as a keyword arg: x. From version 0.12, the only valid positional argument will be `data`, and passing other arguments without an explicit keyword will result in an error or misinterpretation.\n",
      "  warnings.warn(\n"
     ]
    },
    {
     "data": {
      "image/png": "[encoded data removed]",
      "text/plain": [
       "<Figure size 864x576 with 1 Axes>"
      ]
     },
     "metadata": {
      "needs_background": "light"
     },
     "output_type": "display_data"
    },
    {
     "name": "stderr",
     "output_type": "stream",
     "text": [
      "c:\\users\\hslim\\appdata\\local\\programs\\python\\python39\\lib\\site-packages\\seaborn\\_decorators.py:36: FutureWarning: Pass the following variable as a keyword arg: x. From version 0.12, the only valid positional argument will be `data`, and passing other arguments without an explicit keyword will result in an error or misinterpretation.\n",
      "  warnings.warn(\n"
     ]
    },
    {
     "data": {
      "image/png": "[encoded data removed]",
      "text/plain": [
       "<Figure size 864x576 with 1 Axes>"
      ]
     },
     "metadata": {
      "needs_background": "light"
     },
     "output_type": "display_data"
    },
    {
     "name": "stderr",
     "output_type": "stream",
     "text": [
      "c:\\users\\hslim\\appdata\\local\\programs\\python\\python39\\lib\\site-packages\\seaborn\\_decorators.py:36: FutureWarning: Pass the following variable as a keyword arg: x. From version 0.12, the only valid positional argument will be `data`, and passing other arguments without an explicit keyword will result in an error or misinterpretation.\n",
      "  warnings.warn(\n"
     ]
    },
    {
     "data": {
      "image/png": "[encoded data removed]",
      "text/plain": [
       "<Figure size 864x576 with 1 Axes>"
      ]
     },
     "metadata": {
      "needs_background": "light"
     },
     "output_type": "display_data"
    },
    {
     "name": "stderr",
     "output_type": "stream",
     "text": [
      "c:\\users\\hslim\\appdata\\local\\programs\\python\\python39\\lib\\site-packages\\seaborn\\_decorators.py:36: FutureWarning: Pass the following variable as a keyword arg: x. From version 0.12, the only valid positional argument will be `data`, and passing other arguments without an explicit keyword will result in an error or misinterpretation.\n",
      "  warnings.warn(\n"
     ]
    },
    {
     "data": {
      "image/png": "[encoded data removed]",
      "text/plain": [
       "<Figure size 864x576 with 1 Axes>"
      ]
     },
     "metadata": {
      "needs_background": "light"
     },
     "output_type": "display_data"
    },
    {
     "name": "stderr",
     "output_type": "stream",
     "text": [
      "c:\\users\\hslim\\appdata\\local\\programs\\python\\python39\\lib\\site-packages\\seaborn\\_decorators.py:36: FutureWarning: Pass the following variable as a keyword arg: x. From version 0.12, the only valid positional argument will be `data`, and passing other arguments without an explicit keyword will result in an error or misinterpretation.\n",
      "  warnings.warn(\n"
     ]
    },
    {
     "data": {
      "image/png": "[encoded data removed]",
      "text/plain": [
       "<Figure size 864x576 with 1 Axes>"
      ]
     },
     "metadata": {
      "needs_background": "light"
     },
     "output_type": "display_data"
    }
   ],
   "source": [
    "# Step 6: Plot the categorical column values iteratively\n",
    "for column in df_object.columns:\n",
    "    plt.figure(figsize = (12,8))\n",
    "    sns.countplot(df_object[column])\n",
    "    plt.show()"
   ]
  },
  {
   "cell_type": "markdown",
   "id": "4b098093",
   "metadata": {},
   "source": [
    "## Bivariate analysis\n",
    "We hope you spent time pondering over the univariate analysis performed. In this section, we will perform bivariate analysis, or the analysis between two variables. \n",
    "\n",
    "The aim of bivariate analysis (BA) is to investigate the relationship and correlation between the variables. \n",
    "\n",
    "We will use three kinds of plotting:\n",
    "1. numerical variable vs categorical variable = boxplot\n",
    "2. numerical variable vs numerical variable = scatterplot\n",
    "3. categorical variable vs categorical variable = contingency table"
   ]
  },
  {
   "cell_type": "code",
   "execution_count": 9,
   "id": "1771aabd",
   "metadata": {},
   "outputs": [
    {
     "data": {
      "text/html": [
       "<div>\n",
       "<style scoped>\n",
       "    .dataframe tbody tr th:only-of-type {\n",
       "        vertical-align: middle;\n",
       "    }\n",
       "\n",
       "    .dataframe tbody tr th {\n",
       "        vertical-align: top;\n",
       "    }\n",
       "\n",
       "    .dataframe thead th {\n",
       "        text-align: right;\n",
       "    }\n",
       "</style>\n",
       "<table border=\"1\" class=\"dataframe\">\n",
       "  <thead>\n",
       "    <tr style=\"text-align: right;\">\n",
       "      <th></th>\n",
       "      <th>Age</th>\n",
       "      <th>Age_cate</th>\n",
       "      <th>Stay</th>\n",
       "      <th>Japanese</th>\n",
       "      <th>English</th>\n",
       "      <th>ToDep</th>\n",
       "      <th>ToSC</th>\n",
       "      <th>APD</th>\n",
       "      <th>AHome</th>\n",
       "      <th>APH</th>\n",
       "      <th>...</th>\n",
       "      <th>Friends</th>\n",
       "      <th>Parents</th>\n",
       "      <th>Relative</th>\n",
       "      <th>Profess</th>\n",
       "      <th>Phone</th>\n",
       "      <th>Doctor</th>\n",
       "      <th>Reli</th>\n",
       "      <th>Alone</th>\n",
       "      <th>Others</th>\n",
       "      <th>Internet</th>\n",
       "    </tr>\n",
       "  </thead>\n",
       "  <tbody>\n",
       "    <tr>\n",
       "      <th>Age</th>\n",
       "      <td>1.000000</td>\n",
       "      <td>0.932391</td>\n",
       "      <td>0.302234</td>\n",
       "      <td>-0.133461</td>\n",
       "      <td>0.050873</td>\n",
       "      <td>-0.115263</td>\n",
       "      <td>0.110462</td>\n",
       "      <td>0.057490</td>\n",
       "      <td>-0.022056</td>\n",
       "      <td>-0.013014</td>\n",
       "      <td>...</td>\n",
       "      <td>-0.054481</td>\n",
       "      <td>-0.021119</td>\n",
       "      <td>-0.025270</td>\n",
       "      <td>0.046816</td>\n",
       "      <td>-0.026765</td>\n",
       "      <td>0.047261</td>\n",
       "      <td>0.135979</td>\n",
       "      <td>-0.137415</td>\n",
       "      <td>-0.001961</td>\n",
       "      <td>-0.001132</td>\n",
       "    </tr>\n",
       "    <tr>\n",
       "      <th>Age_cate</th>\n",
       "      <td>0.932391</td>\n",
       "      <td>1.000000</td>\n",
       "      <td>0.420833</td>\n",
       "      <td>-0.047012</td>\n",
       "      <td>0.085859</td>\n",
       "      <td>-0.075536</td>\n",
       "      <td>0.085966</td>\n",
       "      <td>0.076982</td>\n",
       "      <td>-0.070844</td>\n",
       "      <td>-0.029781</td>\n",
       "      <td>...</td>\n",
       "      <td>-0.062392</td>\n",
       "      <td>-0.035399</td>\n",
       "      <td>-0.065354</td>\n",
       "      <td>0.024549</td>\n",
       "      <td>-0.045956</td>\n",
       "      <td>0.053559</td>\n",
       "      <td>0.105242</td>\n",
       "      <td>-0.136169</td>\n",
       "      <td>-0.000625</td>\n",
       "      <td>-0.005991</td>\n",
       "    </tr>\n",
       "    <tr>\n",
       "      <th>Stay</th>\n",
       "      <td>0.302234</td>\n",
       "      <td>0.420833</td>\n",
       "      <td>1.000000</td>\n",
       "      <td>0.307155</td>\n",
       "      <td>-0.015933</td>\n",
       "      <td>0.051581</td>\n",
       "      <td>-0.037587</td>\n",
       "      <td>0.059174</td>\n",
       "      <td>-0.123386</td>\n",
       "      <td>0.021856</td>\n",
       "      <td>...</td>\n",
       "      <td>0.019637</td>\n",
       "      <td>-0.021692</td>\n",
       "      <td>-0.069792</td>\n",
       "      <td>-0.039987</td>\n",
       "      <td>-0.067336</td>\n",
       "      <td>-0.011302</td>\n",
       "      <td>-0.023514</td>\n",
       "      <td>-0.117616</td>\n",
       "      <td>0.000616</td>\n",
       "      <td>-0.004744</td>\n",
       "    </tr>\n",
       "    <tr>\n",
       "      <th>Japanese</th>\n",
       "      <td>-0.133461</td>\n",
       "      <td>-0.047012</td>\n",
       "      <td>0.307155</td>\n",
       "      <td>1.000000</td>\n",
       "      <td>-0.308978</td>\n",
       "      <td>0.036548</td>\n",
       "      <td>0.042755</td>\n",
       "      <td>-0.173587</td>\n",
       "      <td>-0.290113</td>\n",
       "      <td>-0.151483</td>\n",
       "      <td>...</td>\n",
       "      <td>0.110171</td>\n",
       "      <td>0.154005</td>\n",
       "      <td>0.000242</td>\n",
       "      <td>0.063271</td>\n",
       "      <td>0.137827</td>\n",
       "      <td>0.092873</td>\n",
       "      <td>-0.038463</td>\n",
       "      <td>-0.191265</td>\n",
       "      <td>-0.069909</td>\n",
       "      <td>-0.076312</td>\n",
       "    </tr>\n",
       "    <tr>\n",
       "      <th>English</th>\n",
       "      <td>0.050873</td>\n",
       "      <td>0.085859</td>\n",
       "      <td>-0.015933</td>\n",
       "      <td>-0.308978</td>\n",
       "      <td>1.000000</td>\n",
       "      <td>-0.036452</td>\n",
       "      <td>-0.074368</td>\n",
       "      <td>0.155636</td>\n",
       "      <td>0.075468</td>\n",
       "      <td>0.112530</td>\n",
       "      <td>...</td>\n",
       "      <td>0.035084</td>\n",
       "      <td>-0.028580</td>\n",
       "      <td>0.026761</td>\n",
       "      <td>0.083922</td>\n",
       "      <td>-0.050024</td>\n",
       "      <td>0.062343</td>\n",
       "      <td>0.046218</td>\n",
       "      <td>0.105538</td>\n",
       "      <td>0.108334</td>\n",
       "      <td>0.043609</td>\n",
       "    </tr>\n",
       "    <tr>\n",
       "      <th>ToDep</th>\n",
       "      <td>-0.115263</td>\n",
       "      <td>-0.075536</td>\n",
       "      <td>0.051581</td>\n",
       "      <td>0.036548</td>\n",
       "      <td>-0.036452</td>\n",
       "      <td>1.000000</td>\n",
       "      <td>-0.551795</td>\n",
       "      <td>0.340256</td>\n",
       "      <td>0.168587</td>\n",
       "      <td>0.309254</td>\n",
       "      <td>...</td>\n",
       "      <td>-0.115297</td>\n",
       "      <td>-0.170580</td>\n",
       "      <td>-0.146194</td>\n",
       "      <td>0.063483</td>\n",
       "      <td>0.078878</td>\n",
       "      <td>-0.031114</td>\n",
       "      <td>-0.036490</td>\n",
       "      <td>0.309697</td>\n",
       "      <td>0.241072</td>\n",
       "      <td>0.154078</td>\n",
       "    </tr>\n",
       "    <tr>\n",
       "      <th>ToSC</th>\n",
       "      <td>0.110462</td>\n",
       "      <td>0.085966</td>\n",
       "      <td>-0.037587</td>\n",
       "      <td>0.042755</td>\n",
       "      <td>-0.074368</td>\n",
       "      <td>-0.551795</td>\n",
       "      <td>1.000000</td>\n",
       "      <td>-0.529497</td>\n",
       "      <td>-0.237953</td>\n",
       "      <td>-0.424246</td>\n",
       "      <td>...</td>\n",
       "      <td>0.126789</td>\n",
       "      <td>0.176851</td>\n",
       "      <td>0.165179</td>\n",
       "      <td>-0.105633</td>\n",
       "      <td>-0.020279</td>\n",
       "      <td>-0.030819</td>\n",
       "      <td>-0.000166</td>\n",
       "      <td>-0.428907</td>\n",
       "      <td>-0.233147</td>\n",
       "      <td>-0.205616</td>\n",
       "    </tr>\n",
       "    <tr>\n",
       "      <th>APD</th>\n",
       "      <td>0.057490</td>\n",
       "      <td>0.076982</td>\n",
       "      <td>0.059174</td>\n",
       "      <td>-0.173587</td>\n",
       "      <td>0.155636</td>\n",
       "      <td>0.340256</td>\n",
       "      <td>-0.529497</td>\n",
       "      <td>1.000000</td>\n",
       "      <td>0.371330</td>\n",
       "      <td>0.647512</td>\n",
       "      <td>...</td>\n",
       "      <td>-0.045776</td>\n",
       "      <td>-0.126569</td>\n",
       "      <td>-0.063106</td>\n",
       "      <td>0.141540</td>\n",
       "      <td>0.113840</td>\n",
       "      <td>0.123260</td>\n",
       "      <td>0.185495</td>\n",
       "      <td>0.266036</td>\n",
       "      <td>0.235916</td>\n",
       "      <td>0.242380</td>\n",
       "    </tr>\n",
       "    <tr>\n",
       "      <th>AHome</th>\n",
       "      <td>-0.022056</td>\n",
       "      <td>-0.070844</td>\n",
       "      <td>-0.123386</td>\n",
       "      <td>-0.290113</td>\n",
       "      <td>0.075468</td>\n",
       "      <td>0.168587</td>\n",
       "      <td>-0.237953</td>\n",
       "      <td>0.371330</td>\n",
       "      <td>1.000000</td>\n",
       "      <td>0.397227</td>\n",
       "      <td>...</td>\n",
       "      <td>0.086685</td>\n",
       "      <td>0.167689</td>\n",
       "      <td>0.138730</td>\n",
       "      <td>0.127884</td>\n",
       "      <td>0.091044</td>\n",
       "      <td>-0.008428</td>\n",
       "      <td>0.162899</td>\n",
       "      <td>0.110229</td>\n",
       "      <td>0.192904</td>\n",
       "      <td>0.187404</td>\n",
       "    </tr>\n",
       "    <tr>\n",
       "      <th>APH</th>\n",
       "      <td>-0.013014</td>\n",
       "      <td>-0.029781</td>\n",
       "      <td>0.021856</td>\n",
       "      <td>-0.151483</td>\n",
       "      <td>0.112530</td>\n",
       "      <td>0.309254</td>\n",
       "      <td>-0.424246</td>\n",
       "      <td>0.647512</td>\n",
       "      <td>0.397227</td>\n",
       "      <td>1.000000</td>\n",
       "      <td>...</td>\n",
       "      <td>-0.115968</td>\n",
       "      <td>-0.108921</td>\n",
       "      <td>-0.059540</td>\n",
       "      <td>0.081489</td>\n",
       "      <td>0.076090</td>\n",
       "      <td>0.066727</td>\n",
       "      <td>0.143493</td>\n",
       "      <td>0.251594</td>\n",
       "      <td>0.228293</td>\n",
       "      <td>0.121476</td>\n",
       "    </tr>\n",
       "    <tr>\n",
       "      <th>Afear</th>\n",
       "      <td>0.017739</td>\n",
       "      <td>-0.017560</td>\n",
       "      <td>0.016058</td>\n",
       "      <td>-0.136107</td>\n",
       "      <td>0.085023</td>\n",
       "      <td>0.348630</td>\n",
       "      <td>-0.427106</td>\n",
       "      <td>0.572421</td>\n",
       "      <td>0.435714</td>\n",
       "      <td>0.640884</td>\n",
       "      <td>...</td>\n",
       "      <td>-0.090420</td>\n",
       "      <td>-0.075938</td>\n",
       "      <td>-0.023952</td>\n",
       "      <td>0.120163</td>\n",
       "      <td>0.090618</td>\n",
       "      <td>0.043980</td>\n",
       "      <td>0.169154</td>\n",
       "      <td>0.179664</td>\n",
       "      <td>0.256127</td>\n",
       "      <td>0.180256</td>\n",
       "    </tr>\n",
       "    <tr>\n",
       "      <th>ACS</th>\n",
       "      <td>0.119341</td>\n",
       "      <td>0.094810</td>\n",
       "      <td>0.018954</td>\n",
       "      <td>-0.228954</td>\n",
       "      <td>0.153670</td>\n",
       "      <td>0.274327</td>\n",
       "      <td>-0.352779</td>\n",
       "      <td>0.447805</td>\n",
       "      <td>0.460867</td>\n",
       "      <td>0.466109</td>\n",
       "      <td>...</td>\n",
       "      <td>0.040126</td>\n",
       "      <td>0.015049</td>\n",
       "      <td>0.034020</td>\n",
       "      <td>0.131397</td>\n",
       "      <td>0.111189</td>\n",
       "      <td>0.055077</td>\n",
       "      <td>0.118152</td>\n",
       "      <td>0.248219</td>\n",
       "      <td>0.180480</td>\n",
       "      <td>0.171578</td>\n",
       "    </tr>\n",
       "    <tr>\n",
       "      <th>AGuilt</th>\n",
       "      <td>-0.038558</td>\n",
       "      <td>-0.065108</td>\n",
       "      <td>-0.024161</td>\n",
       "      <td>-0.092170</td>\n",
       "      <td>-0.023040</td>\n",
       "      <td>0.305948</td>\n",
       "      <td>-0.368656</td>\n",
       "      <td>0.310699</td>\n",
       "      <td>0.412860</td>\n",
       "      <td>0.341833</td>\n",
       "      <td>...</td>\n",
       "      <td>-0.053032</td>\n",
       "      <td>-0.073220</td>\n",
       "      <td>0.009641</td>\n",
       "      <td>0.088976</td>\n",
       "      <td>0.067525</td>\n",
       "      <td>0.002237</td>\n",
       "      <td>0.201154</td>\n",
       "      <td>0.270011</td>\n",
       "      <td>0.241436</td>\n",
       "      <td>0.133343</td>\n",
       "    </tr>\n",
       "    <tr>\n",
       "      <th>AMiscell</th>\n",
       "      <td>0.046097</td>\n",
       "      <td>0.039060</td>\n",
       "      <td>-0.001383</td>\n",
       "      <td>-0.199898</td>\n",
       "      <td>0.106229</td>\n",
       "      <td>0.333342</td>\n",
       "      <td>-0.490885</td>\n",
       "      <td>0.578559</td>\n",
       "      <td>0.506480</td>\n",
       "      <td>0.546033</td>\n",
       "      <td>...</td>\n",
       "      <td>0.055700</td>\n",
       "      <td>0.028672</td>\n",
       "      <td>0.040339</td>\n",
       "      <td>0.220644</td>\n",
       "      <td>0.121413</td>\n",
       "      <td>0.115720</td>\n",
       "      <td>0.162079</td>\n",
       "      <td>0.307181</td>\n",
       "      <td>0.290378</td>\n",
       "      <td>0.285008</td>\n",
       "    </tr>\n",
       "    <tr>\n",
       "      <th>ToAS</th>\n",
       "      <td>0.037318</td>\n",
       "      <td>0.018679</td>\n",
       "      <td>0.000221</td>\n",
       "      <td>-0.244891</td>\n",
       "      <td>0.138762</td>\n",
       "      <td>0.394095</td>\n",
       "      <td>-0.555860</td>\n",
       "      <td>0.803785</td>\n",
       "      <td>0.665134</td>\n",
       "      <td>0.781058</td>\n",
       "      <td>...</td>\n",
       "      <td>-0.012689</td>\n",
       "      <td>-0.030492</td>\n",
       "      <td>0.010953</td>\n",
       "      <td>0.187569</td>\n",
       "      <td>0.131864</td>\n",
       "      <td>0.094860</td>\n",
       "      <td>0.212768</td>\n",
       "      <td>0.315042</td>\n",
       "      <td>0.311983</td>\n",
       "      <td>0.270667</td>\n",
       "    </tr>\n",
       "    <tr>\n",
       "      <th>Partner</th>\n",
       "      <td>0.119993</td>\n",
       "      <td>0.126635</td>\n",
       "      <td>-0.009902</td>\n",
       "      <td>0.000843</td>\n",
       "      <td>0.175480</td>\n",
       "      <td>-0.050096</td>\n",
       "      <td>0.047433</td>\n",
       "      <td>0.041377</td>\n",
       "      <td>0.019517</td>\n",
       "      <td>-0.065899</td>\n",
       "      <td>...</td>\n",
       "      <td>0.400731</td>\n",
       "      <td>0.388258</td>\n",
       "      <td>0.225099</td>\n",
       "      <td>0.317603</td>\n",
       "      <td>0.175669</td>\n",
       "      <td>0.295508</td>\n",
       "      <td>0.095433</td>\n",
       "      <td>-0.030437</td>\n",
       "      <td>0.015382</td>\n",
       "      <td>0.129687</td>\n",
       "    </tr>\n",
       "    <tr>\n",
       "      <th>Friends</th>\n",
       "      <td>-0.054481</td>\n",
       "      <td>-0.062392</td>\n",
       "      <td>0.019637</td>\n",
       "      <td>0.110171</td>\n",
       "      <td>0.035084</td>\n",
       "      <td>-0.115297</td>\n",
       "      <td>0.126789</td>\n",
       "      <td>-0.045776</td>\n",
       "      <td>0.086685</td>\n",
       "      <td>-0.115968</td>\n",
       "      <td>...</td>\n",
       "      <td>1.000000</td>\n",
       "      <td>0.481565</td>\n",
       "      <td>0.356815</td>\n",
       "      <td>0.276045</td>\n",
       "      <td>0.201295</td>\n",
       "      <td>0.286201</td>\n",
       "      <td>0.158785</td>\n",
       "      <td>-0.083854</td>\n",
       "      <td>0.045772</td>\n",
       "      <td>0.248350</td>\n",
       "    </tr>\n",
       "    <tr>\n",
       "      <th>Parents</th>\n",
       "      <td>-0.021119</td>\n",
       "      <td>-0.035399</td>\n",
       "      <td>-0.021692</td>\n",
       "      <td>0.154005</td>\n",
       "      <td>-0.028580</td>\n",
       "      <td>-0.170580</td>\n",
       "      <td>0.176851</td>\n",
       "      <td>-0.126569</td>\n",
       "      <td>0.167689</td>\n",
       "      <td>-0.108921</td>\n",
       "      <td>...</td>\n",
       "      <td>0.481565</td>\n",
       "      <td>1.000000</td>\n",
       "      <td>0.613094</td>\n",
       "      <td>0.276880</td>\n",
       "      <td>0.229500</td>\n",
       "      <td>0.309684</td>\n",
       "      <td>0.184014</td>\n",
       "      <td>-0.194930</td>\n",
       "      <td>0.031011</td>\n",
       "      <td>0.146143</td>\n",
       "    </tr>\n",
       "    <tr>\n",
       "      <th>Relative</th>\n",
       "      <td>-0.025270</td>\n",
       "      <td>-0.065354</td>\n",
       "      <td>-0.069792</td>\n",
       "      <td>0.000242</td>\n",
       "      <td>0.026761</td>\n",
       "      <td>-0.146194</td>\n",
       "      <td>0.165179</td>\n",
       "      <td>-0.063106</td>\n",
       "      <td>0.138730</td>\n",
       "      <td>-0.059540</td>\n",
       "      <td>...</td>\n",
       "      <td>0.356815</td>\n",
       "      <td>0.613094</td>\n",
       "      <td>1.000000</td>\n",
       "      <td>0.328031</td>\n",
       "      <td>0.329538</td>\n",
       "      <td>0.317201</td>\n",
       "      <td>0.321113</td>\n",
       "      <td>-0.124223</td>\n",
       "      <td>0.115868</td>\n",
       "      <td>0.136798</td>\n",
       "    </tr>\n",
       "    <tr>\n",
       "      <th>Profess</th>\n",
       "      <td>0.046816</td>\n",
       "      <td>0.024549</td>\n",
       "      <td>-0.039987</td>\n",
       "      <td>0.063271</td>\n",
       "      <td>0.083922</td>\n",
       "      <td>0.063483</td>\n",
       "      <td>-0.105633</td>\n",
       "      <td>0.141540</td>\n",
       "      <td>0.127884</td>\n",
       "      <td>0.081489</td>\n",
       "      <td>...</td>\n",
       "      <td>0.276045</td>\n",
       "      <td>0.276880</td>\n",
       "      <td>0.328031</td>\n",
       "      <td>1.000000</td>\n",
       "      <td>0.638485</td>\n",
       "      <td>0.696649</td>\n",
       "      <td>0.324434</td>\n",
       "      <td>-0.034118</td>\n",
       "      <td>0.221778</td>\n",
       "      <td>0.272254</td>\n",
       "    </tr>\n",
       "    <tr>\n",
       "      <th>Phone</th>\n",
       "      <td>-0.026765</td>\n",
       "      <td>-0.045956</td>\n",
       "      <td>-0.067336</td>\n",
       "      <td>0.137827</td>\n",
       "      <td>-0.050024</td>\n",
       "      <td>0.078878</td>\n",
       "      <td>-0.020279</td>\n",
       "      <td>0.113840</td>\n",
       "      <td>0.091044</td>\n",
       "      <td>0.076090</td>\n",
       "      <td>...</td>\n",
       "      <td>0.201295</td>\n",
       "      <td>0.229500</td>\n",
       "      <td>0.329538</td>\n",
       "      <td>0.638485</td>\n",
       "      <td>1.000000</td>\n",
       "      <td>0.635734</td>\n",
       "      <td>0.487934</td>\n",
       "      <td>0.064616</td>\n",
       "      <td>0.260440</td>\n",
       "      <td>0.381402</td>\n",
       "    </tr>\n",
       "    <tr>\n",
       "      <th>Doctor</th>\n",
       "      <td>0.047261</td>\n",
       "      <td>0.053559</td>\n",
       "      <td>-0.011302</td>\n",
       "      <td>0.092873</td>\n",
       "      <td>0.062343</td>\n",
       "      <td>-0.031114</td>\n",
       "      <td>-0.030819</td>\n",
       "      <td>0.123260</td>\n",
       "      <td>-0.008428</td>\n",
       "      <td>0.066727</td>\n",
       "      <td>...</td>\n",
       "      <td>0.286201</td>\n",
       "      <td>0.309684</td>\n",
       "      <td>0.317201</td>\n",
       "      <td>0.696649</td>\n",
       "      <td>0.635734</td>\n",
       "      <td>1.000000</td>\n",
       "      <td>0.338181</td>\n",
       "      <td>-0.023935</td>\n",
       "      <td>0.269209</td>\n",
       "      <td>0.284229</td>\n",
       "    </tr>\n",
       "    <tr>\n",
       "      <th>Reli</th>\n",
       "      <td>0.135979</td>\n",
       "      <td>0.105242</td>\n",
       "      <td>-0.023514</td>\n",
       "      <td>-0.038463</td>\n",
       "      <td>0.046218</td>\n",
       "      <td>-0.036490</td>\n",
       "      <td>-0.000166</td>\n",
       "      <td>0.185495</td>\n",
       "      <td>0.162899</td>\n",
       "      <td>0.143493</td>\n",
       "      <td>...</td>\n",
       "      <td>0.158785</td>\n",
       "      <td>0.184014</td>\n",
       "      <td>0.321113</td>\n",
       "      <td>0.324434</td>\n",
       "      <td>0.487934</td>\n",
       "      <td>0.338181</td>\n",
       "      <td>1.000000</td>\n",
       "      <td>0.113672</td>\n",
       "      <td>0.295728</td>\n",
       "      <td>0.253260</td>\n",
       "    </tr>\n",
       "    <tr>\n",
       "      <th>Alone</th>\n",
       "      <td>-0.137415</td>\n",
       "      <td>-0.136169</td>\n",
       "      <td>-0.117616</td>\n",
       "      <td>-0.191265</td>\n",
       "      <td>0.105538</td>\n",
       "      <td>0.309697</td>\n",
       "      <td>-0.428907</td>\n",
       "      <td>0.266036</td>\n",
       "      <td>0.110229</td>\n",
       "      <td>0.251594</td>\n",
       "      <td>...</td>\n",
       "      <td>-0.083854</td>\n",
       "      <td>-0.194930</td>\n",
       "      <td>-0.124223</td>\n",
       "      <td>-0.034118</td>\n",
       "      <td>0.064616</td>\n",
       "      <td>-0.023935</td>\n",
       "      <td>0.113672</td>\n",
       "      <td>1.000000</td>\n",
       "      <td>0.354536</td>\n",
       "      <td>0.224950</td>\n",
       "    </tr>\n",
       "    <tr>\n",
       "      <th>Others</th>\n",
       "      <td>-0.001961</td>\n",
       "      <td>-0.000625</td>\n",
       "      <td>0.000616</td>\n",
       "      <td>-0.069909</td>\n",
       "      <td>0.108334</td>\n",
       "      <td>0.241072</td>\n",
       "      <td>-0.233147</td>\n",
       "      <td>0.235916</td>\n",
       "      <td>0.192904</td>\n",
       "      <td>0.228293</td>\n",
       "      <td>...</td>\n",
       "      <td>0.045772</td>\n",
       "      <td>0.031011</td>\n",
       "      <td>0.115868</td>\n",
       "      <td>0.221778</td>\n",
       "      <td>0.260440</td>\n",
       "      <td>0.269209</td>\n",
       "      <td>0.295728</td>\n",
       "      <td>0.354536</td>\n",
       "      <td>1.000000</td>\n",
       "      <td>0.273089</td>\n",
       "    </tr>\n",
       "    <tr>\n",
       "      <th>Internet</th>\n",
       "      <td>-0.001132</td>\n",
       "      <td>-0.005991</td>\n",
       "      <td>-0.004744</td>\n",
       "      <td>-0.076312</td>\n",
       "      <td>0.043609</td>\n",
       "      <td>0.154078</td>\n",
       "      <td>-0.205616</td>\n",
       "      <td>0.242380</td>\n",
       "      <td>0.187404</td>\n",
       "      <td>0.121476</td>\n",
       "      <td>...</td>\n",
       "      <td>0.248350</td>\n",
       "      <td>0.146143</td>\n",
       "      <td>0.136798</td>\n",
       "      <td>0.272254</td>\n",
       "      <td>0.381402</td>\n",
       "      <td>0.284229</td>\n",
       "      <td>0.253260</td>\n",
       "      <td>0.224950</td>\n",
       "      <td>0.273089</td>\n",
       "      <td>1.000000</td>\n",
       "    </tr>\n",
       "  </tbody>\n",
       "</table>\n",
       "<p>26 rows × 26 columns</p>\n",
       "</div>"
      ],
      "text/plain": [
       "               Age  Age_cate      Stay  Japanese   English     ToDep  \\\n",
       "Age       1.000000  0.932391  0.302234 -0.133461  0.050873 -0.115263   \n",
       "Age_cate  0.932391  1.000000  0.420833 -0.047012  0.085859 -0.075536   \n",
       "Stay      0.302234  0.420833  1.000000  0.307155 -0.015933  0.051581   \n",
       "Japanese -0.133461 -0.047012  0.307155  1.000000 -0.308978  0.036548   \n",
       "English   0.050873  0.085859 -0.015933 -0.308978  1.000000 -0.036452   \n",
       "ToDep    -0.115263 -0.075536  0.051581  0.036548 -0.036452  1.000000   \n",
       "ToSC      0.110462  0.085966 -0.037587  0.042755 -0.074368 -0.551795   \n",
       "APD       0.057490  0.076982  0.059174 -0.173587  0.155636  0.340256   \n",
       "AHome    -0.022056 -0.070844 -0.123386 -0.290113  0.075468  0.168587   \n",
       "APH      -0.013014 -0.029781  0.021856 -0.151483  0.112530  0.309254   \n",
       "Afear     0.017739 -0.017560  0.016058 -0.136107  0.085023  0.348630   \n",
       "ACS       0.119341  0.094810  0.018954 -0.228954  0.153670  0.274327   \n",
       "AGuilt   -0.038558 -0.065108 -0.024161 -0.092170 -0.023040  0.305948   \n",
       "AMiscell  0.046097  0.039060 -0.001383 -0.199898  0.106229  0.333342   \n",
       "ToAS      0.037318  0.018679  0.000221 -0.244891  0.138762  0.394095   \n",
       "Partner   0.119993  0.126635 -0.009902  0.000843  0.175480 -0.050096   \n",
       "Friends  -0.054481 -0.062392  0.019637  0.110171  0.035084 -0.115297   \n",
       "Parents  -0.021119 -0.035399 -0.021692  0.154005 -0.028580 -0.170580   \n",
       "Relative -0.025270 -0.065354 -0.069792  0.000242  0.026761 -0.146194   \n",
       "Profess   0.046816  0.024549 -0.039987  0.063271  0.083922  0.063483   \n",
       " Phone   -0.026765 -0.045956 -0.067336  0.137827 -0.050024  0.078878   \n",
       "Doctor    0.047261  0.053559 -0.011302  0.092873  0.062343 -0.031114   \n",
       "Reli      0.135979  0.105242 -0.023514 -0.038463  0.046218 -0.036490   \n",
       "Alone    -0.137415 -0.136169 -0.117616 -0.191265  0.105538  0.309697   \n",
       "Others   -0.001961 -0.000625  0.000616 -0.069909  0.108334  0.241072   \n",
       "Internet -0.001132 -0.005991 -0.004744 -0.076312  0.043609  0.154078   \n",
       "\n",
       "              ToSC       APD     AHome       APH  ...   Friends   Parents  \\\n",
       "Age       0.110462  0.057490 -0.022056 -0.013014  ... -0.054481 -0.021119   \n",
       "Age_cate  0.085966  0.076982 -0.070844 -0.029781  ... -0.062392 -0.035399   \n",
       "Stay     -0.037587  0.059174 -0.123386  0.021856  ...  0.019637 -0.021692   \n",
       "Japanese  0.042755 -0.173587 -0.290113 -0.151483  ...  0.110171  0.154005   \n",
       "English  -0.074368  0.155636  0.075468  0.112530  ...  0.035084 -0.028580   \n",
       "ToDep    -0.551795  0.340256  0.168587  0.309254  ... -0.115297 -0.170580   \n",
       "ToSC      1.000000 -0.529497 -0.237953 -0.424246  ...  0.126789  0.176851   \n",
       "APD      -0.529497  1.000000  0.371330  0.647512  ... -0.045776 -0.126569   \n",
       "AHome    -0.237953  0.371330  1.000000  0.397227  ...  0.086685  0.167689   \n",
       "APH      -0.424246  0.647512  0.397227  1.000000  ... -0.115968 -0.108921   \n",
       "Afear    -0.427106  0.572421  0.435714  0.640884  ... -0.090420 -0.075938   \n",
       "ACS      -0.352779  0.447805  0.460867  0.466109  ...  0.040126  0.015049   \n",
       "AGuilt   -0.368656  0.310699  0.412860  0.341833  ... -0.053032 -0.073220   \n",
       "AMiscell -0.490885  0.578559  0.506480  0.546033  ...  0.055700  0.028672   \n",
       "ToAS     -0.555860  0.803785  0.665134  0.781058  ... -0.012689 -0.030492   \n",
       "Partner   0.047433  0.041377  0.019517 -0.065899  ...  0.400731  0.388258   \n",
       "Friends   0.126789 -0.045776  0.086685 -0.115968  ...  1.000000  0.481565   \n",
       "Parents   0.176851 -0.126569  0.167689 -0.108921  ...  0.481565  1.000000   \n",
       "Relative  0.165179 -0.063106  0.138730 -0.059540  ...  0.356815  0.613094   \n",
       "Profess  -0.105633  0.141540  0.127884  0.081489  ...  0.276045  0.276880   \n",
       " Phone   -0.020279  0.113840  0.091044  0.076090  ...  0.201295  0.229500   \n",
       "Doctor   -0.030819  0.123260 -0.008428  0.066727  ...  0.286201  0.309684   \n",
       "Reli     -0.000166  0.185495  0.162899  0.143493  ...  0.158785  0.184014   \n",
       "Alone    -0.428907  0.266036  0.110229  0.251594  ... -0.083854 -0.194930   \n",
       "Others   -0.233147  0.235916  0.192904  0.228293  ...  0.045772  0.031011   \n",
       "Internet -0.205616  0.242380  0.187404  0.121476  ...  0.248350  0.146143   \n",
       "\n",
       "          Relative   Profess     Phone    Doctor      Reli     Alone  \\\n",
       "Age      -0.025270  0.046816 -0.026765  0.047261  0.135979 -0.137415   \n",
       "Age_cate -0.065354  0.024549 -0.045956  0.053559  0.105242 -0.136169   \n",
       "Stay     -0.069792 -0.039987 -0.067336 -0.011302 -0.023514 -0.117616   \n",
       "Japanese  0.000242  0.063271  0.137827  0.092873 -0.038463 -0.191265   \n",
       "English   0.026761  0.083922 -0.050024  0.062343  0.046218  0.105538   \n",
       "ToDep    -0.146194  0.063483  0.078878 -0.031114 -0.036490  0.309697   \n",
       "ToSC      0.165179 -0.105633 -0.020279 -0.030819 -0.000166 -0.428907   \n",
       "APD      -0.063106  0.141540  0.113840  0.123260  0.185495  0.266036   \n",
       "AHome     0.138730  0.127884  0.091044 -0.008428  0.162899  0.110229   \n",
       "APH      -0.059540  0.081489  0.076090  0.066727  0.143493  0.251594   \n",
       "Afear    -0.023952  0.120163  0.090618  0.043980  0.169154  0.179664   \n",
       "ACS       0.034020  0.131397  0.111189  0.055077  0.118152  0.248219   \n",
       "AGuilt    0.009641  0.088976  0.067525  0.002237  0.201154  0.270011   \n",
       "AMiscell  0.040339  0.220644  0.121413  0.115720  0.162079  0.307181   \n",
       "ToAS      0.010953  0.187569  0.131864  0.094860  0.212768  0.315042   \n",
       "Partner   0.225099  0.317603  0.175669  0.295508  0.095433 -0.030437   \n",
       "Friends   0.356815  0.276045  0.201295  0.286201  0.158785 -0.083854   \n",
       "Parents   0.613094  0.276880  0.229500  0.309684  0.184014 -0.194930   \n",
       "Relative  1.000000  0.328031  0.329538  0.317201  0.321113 -0.124223   \n",
       "Profess   0.328031  1.000000  0.638485  0.696649  0.324434 -0.034118   \n",
       " Phone    0.329538  0.638485  1.000000  0.635734  0.487934  0.064616   \n",
       "Doctor    0.317201  0.696649  0.635734  1.000000  0.338181 -0.023935   \n",
       "Reli      0.321113  0.324434  0.487934  0.338181  1.000000  0.113672   \n",
       "Alone    -0.124223 -0.034118  0.064616 -0.023935  0.113672  1.000000   \n",
       "Others    0.115868  0.221778  0.260440  0.269209  0.295728  0.354536   \n",
       "Internet  0.136798  0.272254  0.381402  0.284229  0.253260  0.224950   \n",
       "\n",
       "            Others  Internet  \n",
       "Age      -0.001961 -0.001132  \n",
       "Age_cate -0.000625 -0.005991  \n",
       "Stay      0.000616 -0.004744  \n",
       "Japanese -0.069909 -0.076312  \n",
       "English   0.108334  0.043609  \n",
       "ToDep     0.241072  0.154078  \n",
       "ToSC     -0.233147 -0.205616  \n",
       "APD       0.235916  0.242380  \n",
       "AHome     0.192904  0.187404  \n",
       "APH       0.228293  0.121476  \n",
       "Afear     0.256127  0.180256  \n",
       "ACS       0.180480  0.171578  \n",
       "AGuilt    0.241436  0.133343  \n",
       "AMiscell  0.290378  0.285008  \n",
       "ToAS      0.311983  0.270667  \n",
       "Partner   0.015382  0.129687  \n",
       "Friends   0.045772  0.248350  \n",
       "Parents   0.031011  0.146143  \n",
       "Relative  0.115868  0.136798  \n",
       "Profess   0.221778  0.272254  \n",
       " Phone    0.260440  0.381402  \n",
       "Doctor    0.269209  0.284229  \n",
       "Reli      0.295728  0.253260  \n",
       "Alone     0.354536  0.224950  \n",
       "Others    1.000000  0.273089  \n",
       "Internet  0.273089  1.000000  \n",
       "\n",
       "[26 rows x 26 columns]"
      ]
     },
     "execution_count": 9,
     "metadata": {},
     "output_type": "execute_result"
    }
   ],
   "source": [
    "# Step 7: Get the correlation matrix of your DataFrame\n",
    "df.corr()"
   ]
  },
  {
   "cell_type": "markdown",
   "id": "90d4720d",
   "metadata": {},
   "source": [
    "### Step 8: Perform BA on ToDep vs ToSC with a scatterplot\n",
    "From the correlation matrix, we see that there's a negative correlation between ToDep and ToSC (Total social connectedness). \n",
    "\n",
    "It makes sense since the more socially connected one is, the lower the depression score. \n",
    "\n",
    "Plot a scatterplot between the two variables with either matplotlib.pyplot or seaborn. "
   ]
  },
  {
   "cell_type": "code",
   "execution_count": 10,
   "id": "5bb53e5a",
   "metadata": {},
   "outputs": [
    {
     "name": "stderr",
     "output_type": "stream",
     "text": [
      "c:\\users\\hslim\\appdata\\local\\programs\\python\\python39\\lib\\site-packages\\seaborn\\_decorators.py:36: FutureWarning: Pass the following variables as keyword args: x, y. From version 0.12, the only valid positional argument will be `data`, and passing other arguments without an explicit keyword will result in an error or misinterpretation.\n",
      "  warnings.warn(\n"
     ]
    },
    {
     "data": {
      "text/plain": [
       "<AxesSubplot:xlabel='ToDep', ylabel='ToSC'>"
      ]
     },
     "execution_count": 10,
     "metadata": {},
     "output_type": "execute_result"
    },
    {
     "data": {
      "image/png": "[encoded data removed]",
      "text/plain": [
       "<Figure size 1152x576 with 1 Axes>"
      ]
     },
     "metadata": {
      "needs_background": "light"
     },
     "output_type": "display_data"
    }
   ],
   "source": [
    "# Step 8: Plot a scatterplot between ToDep vs ToSC \n",
    "plt.figure(figsize = (16,8))\n",
    "sns.scatterplot(df['ToDep'], df['ToSC'])"
   ]
  },
  {
   "cell_type": "markdown",
   "id": "34a39861",
   "metadata": {},
   "source": [
    "### Step 9: Perform BA on ToDep vs APD with a scatterplot\n",
    "Another interesting correlation that we see is a relatively high score between ToDep and APD (perceived discrimination score). \n",
    "\n",
    "We can hypothesize that the more discriminated a student feels, the higher the depression score. \n",
    "\n",
    "Plot a scatterplot between the two variables."
   ]
  },
  {
   "cell_type": "code",
   "execution_count": 11,
   "id": "5bb50ab0",
   "metadata": {},
   "outputs": [
    {
     "name": "stderr",
     "output_type": "stream",
     "text": [
      "c:\\users\\hslim\\appdata\\local\\programs\\python\\python39\\lib\\site-packages\\seaborn\\_decorators.py:36: FutureWarning: Pass the following variables as keyword args: x, y. From version 0.12, the only valid positional argument will be `data`, and passing other arguments without an explicit keyword will result in an error or misinterpretation.\n",
      "  warnings.warn(\n"
     ]
    },
    {
     "data": {
      "text/plain": [
       "<AxesSubplot:xlabel='ToDep', ylabel='APD'>"
      ]
     },
     "execution_count": 11,
     "metadata": {},
     "output_type": "execute_result"
    },
    {
     "data": {
      "image/png": "[encoded data removed]",
      "text/plain": [
       "<Figure size 1152x576 with 1 Axes>"
      ]
     },
     "metadata": {
      "needs_background": "light"
     },
     "output_type": "display_data"
    }
   ],
   "source": [
    "# Step 9: Plot a scatterplot between ToDep and APD\n",
    "plt.figure(figsize = (16,8))\n",
    "sns.scatterplot(df['ToDep'], df['APD'])"
   ]
  },
  {
   "cell_type": "markdown",
   "id": "fd817882",
   "metadata": {},
   "source": [
    "### Step 10: Perform BA on ToDep vs inter_dom with a boxplot\n",
    "Let's take a look at whether foreign students experience a higher depression score compared to domestic students. \n",
    "\n",
    "We can do this using a boxplot. "
   ]
  },
  {
   "cell_type": "code",
   "execution_count": 12,
   "id": "e1a7019f",
   "metadata": {},
   "outputs": [
    {
     "name": "stderr",
     "output_type": "stream",
     "text": [
      "c:\\users\\hslim\\appdata\\local\\programs\\python\\python39\\lib\\site-packages\\seaborn\\_decorators.py:36: FutureWarning: Pass the following variables as keyword args: x, y. From version 0.12, the only valid positional argument will be `data`, and passing other arguments without an explicit keyword will result in an error or misinterpretation.\n",
      "  warnings.warn(\n"
     ]
    },
    {
     "data": {
      "text/plain": [
       "<AxesSubplot:xlabel='inter_dom', ylabel='ToDep'>"
      ]
     },
     "execution_count": 12,
     "metadata": {},
     "output_type": "execute_result"
    },
    {
     "data": {
      "image/png": "[encoded data removed]",
      "text/plain": [
       "<Figure size 1152x576 with 1 Axes>"
      ]
     },
     "metadata": {
      "needs_background": "light"
     },
     "output_type": "display_data"
    }
   ],
   "source": [
    "# Step 10: Plot a boxplot between inter_dom and ToDep\n",
    "plt.figure(figsize = (16,8))\n",
    "sns.boxplot(df['inter_dom'], df['ToDep'])"
   ]
  },
  {
   "cell_type": "markdown",
   "id": "1eb5326e",
   "metadata": {},
   "source": [
    "### Step 11: Perform an independent t-test between Inter and Dom\n",
    "The boxes in the boxplot do look the same, but how do we tell that it's different? \n",
    "\n",
    "In this case, we can use <strong>STATS</strong>. More specicifically, an independent t-test. A t-test helps to determine whether there is a statistically significant difference between the means in two unrelated groups."
   ]
  },
  {
   "cell_type": "code",
   "execution_count": 13,
   "id": "991488f7",
   "metadata": {},
   "outputs": [
    {
     "data": {
      "text/plain": [
       "Ttest_indResult(statistic=0.8109206006749218, pvalue=0.41813622602092027)"
      ]
     },
     "execution_count": 13,
     "metadata": {},
     "output_type": "execute_result"
    }
   ],
   "source": [
    "# Step 11a: Import ttest_ind from scipy.stats\n",
    "from scipy.stats import ttest_ind\n",
    "\n",
    "# Step 11b: Get a list containing ToDep from 'Inter', and a list containing ToDep from 'Dom'\n",
    "ToDep_inter = df[df['inter_dom'] == 'Inter']['ToDep']\n",
    "\n",
    "ToDep_dom = df[df['inter_dom'] == 'Dom']['ToDep']\n",
    "\n",
    "# Step 11c: Use ttest_ind on the two lists and print the results\n",
    "ttest_ind(ToDep_dom, ToDep_inter)"
   ]
  },
  {
   "cell_type": "markdown",
   "id": "479ea6b2",
   "metadata": {},
   "source": [
    "If you do this right, you'll see that the pvalue is larger than 0.05, which means the means of the two groups are the same.\n",
    "\n",
    "### Step 12: Perform BA on ToDep vs Suicide with a boxplot\n",
    "For comparison that's very obvious, let's do ToDep vs Suicide. \n",
    "\n",
    "In the dataset, Suicide refers to whether the students as had suicide ideation in the past two weeks."
   ]
  },
  {
   "cell_type": "code",
   "execution_count": 14,
   "id": "f0530801",
   "metadata": {},
   "outputs": [
    {
     "name": "stderr",
     "output_type": "stream",
     "text": [
      "c:\\users\\hslim\\appdata\\local\\programs\\python\\python39\\lib\\site-packages\\seaborn\\_decorators.py:36: FutureWarning: Pass the following variables as keyword args: x, y. From version 0.12, the only valid positional argument will be `data`, and passing other arguments without an explicit keyword will result in an error or misinterpretation.\n",
      "  warnings.warn(\n"
     ]
    },
    {
     "data": {
      "text/plain": [
       "<AxesSubplot:xlabel='Suicide', ylabel='ToDep'>"
      ]
     },
     "execution_count": 14,
     "metadata": {},
     "output_type": "execute_result"
    },
    {
     "data": {
      "image/png": "[encoded data removed]",
      "text/plain": [
       "<Figure size 1152x576 with 1 Axes>"
      ]
     },
     "metadata": {
      "needs_background": "light"
     },
     "output_type": "display_data"
    }
   ],
   "source": [
    "# Step 12: Plot boxplot between Suicide and ToDep\n",
    "plt.figure(figsize = (16,8))\n",
    "sns.boxplot(df['Suicide'], df['ToDep'])"
   ]
  },
  {
   "cell_type": "markdown",
   "id": "bfda2dc1",
   "metadata": {},
   "source": [
    "### Step 13: Repeat Step 11 on ToDep vs Suicide\n",
    "The boxplot result should be very obvious in answering whether there is a difference between suicide ideation and the total depressions score. \n",
    "\n",
    "However, for confirmation let's perform another independent t-test between the Yes and No groups. "
   ]
  },
  {
   "cell_type": "code",
   "execution_count": 15,
   "id": "d4827546",
   "metadata": {},
   "outputs": [
    {
     "data": {
      "text/plain": [
       "Ttest_indResult(statistic=-10.589085179497475, pvalue=4.290131684472933e-22)"
      ]
     },
     "execution_count": 15,
     "metadata": {},
     "output_type": "execute_result"
    }
   ],
   "source": [
    "# Step 13: Repeat the t-test\n",
    "ToDep_yes = df[df['Suicide'] == 'Yes']['ToDep']\n",
    "\n",
    "ToDep_no = df[df['Suicide'] == 'No']['ToDep']\n",
    "\n",
    "ttest_ind(ToDep_no, ToDep_yes)\n"
   ]
  },
  {
   "cell_type": "markdown",
   "id": "a604fc25",
   "metadata": {},
   "source": [
    "### Step 14: Perform BA on ToDep vs Gender with a boxplot\n",
    "You got this - plot the boxplot for ToDep vs Gender and then do a t-test."
   ]
  },
  {
   "cell_type": "code",
   "execution_count": 16,
   "id": "1044f39d",
   "metadata": {},
   "outputs": [
    {
     "name": "stderr",
     "output_type": "stream",
     "text": [
      "c:\\users\\hslim\\appdata\\local\\programs\\python\\python39\\lib\\site-packages\\seaborn\\_decorators.py:36: FutureWarning: Pass the following variables as keyword args: x, y. From version 0.12, the only valid positional argument will be `data`, and passing other arguments without an explicit keyword will result in an error or misinterpretation.\n",
      "  warnings.warn(\n"
     ]
    },
    {
     "data": {
      "text/plain": [
       "Ttest_indResult(statistic=-0.9285560600922729, pvalue=0.3539610264273153)"
      ]
     },
     "execution_count": 16,
     "metadata": {},
     "output_type": "execute_result"
    },
    {
     "data": {
      "image/png": "[encoded data removed]",
      "text/plain": [
       "<Figure size 1152x576 with 1 Axes>"
      ]
     },
     "metadata": {
      "needs_background": "light"
     },
     "output_type": "display_data"
    }
   ],
   "source": [
    "# Step 14a: Plot a boxplot on ToDep vs Gender\n",
    "plt.figure(figsize = (16,8))\n",
    "sns.boxplot(df['Gender'], df['ToDep'])\n",
    "\n",
    "# Step 14b: Print the results of the t-test of ToDep between Male and Female\n",
    "ToDep_male = df[df['Gender'] == 'Male']['ToDep']\n",
    "\n",
    "ToDep_female = df[df['Gender'] == 'Female']['ToDep']\n",
    "\n",
    "ttest_ind(ToDep_male, ToDep_female)"
   ]
  },
  {
   "cell_type": "markdown",
   "id": "52e45513",
   "metadata": {},
   "source": [
    "### Step 15: Perform BA on Suicide vs Religion with a contingency table\n",
    "One of the proposed questions in the article that you can try testing is whether having a religion affects suicide ideation. \n",
    "\n",
    "Both 'Religion' and 'Suicide' are categorical values, so let's plot a contingency table first. "
   ]
  },
  {
   "cell_type": "code",
   "execution_count": 17,
   "id": "bde2a958",
   "metadata": {},
   "outputs": [
    {
     "data": {
      "text/html": [
       "<div>\n",
       "<style scoped>\n",
       "    .dataframe tbody tr th:only-of-type {\n",
       "        vertical-align: middle;\n",
       "    }\n",
       "\n",
       "    .dataframe tbody tr th {\n",
       "        vertical-align: top;\n",
       "    }\n",
       "\n",
       "    .dataframe thead th {\n",
       "        text-align: right;\n",
       "    }\n",
       "</style>\n",
       "<table border=\"1\" class=\"dataframe\">\n",
       "  <thead>\n",
       "    <tr style=\"text-align: right;\">\n",
       "      <th>Suicide</th>\n",
       "      <th>No</th>\n",
       "      <th>Yes</th>\n",
       "    </tr>\n",
       "    <tr>\n",
       "      <th>Religion</th>\n",
       "      <th></th>\n",
       "      <th></th>\n",
       "    </tr>\n",
       "  </thead>\n",
       "  <tbody>\n",
       "    <tr>\n",
       "      <th>No</th>\n",
       "      <td>136</td>\n",
       "      <td>41</td>\n",
       "    </tr>\n",
       "    <tr>\n",
       "      <th>Yes</th>\n",
       "      <td>71</td>\n",
       "      <td>20</td>\n",
       "    </tr>\n",
       "  </tbody>\n",
       "</table>\n",
       "</div>"
      ],
      "text/plain": [
       "Suicide    No  Yes\n",
       "Religion          \n",
       "No        136   41\n",
       "Yes        71   20"
      ]
     },
     "execution_count": 17,
     "metadata": {},
     "output_type": "execute_result"
    }
   ],
   "source": [
    "# Step 15: Create a contingency table between Religion and Suicide\n",
    "contin_table = pd.crosstab(df['Religion'], df['Suicide'])\n",
    "contin_table"
   ]
  },
  {
   "cell_type": "markdown",
   "id": "3ec8cdc5",
   "metadata": {},
   "source": [
    "### Step 16: Perform chi-squared test of independence on the contingency table from Step 15\n",
    "\n",
    "After we get the contingency table, we will perform a chi-squared test of independence between the two variables. "
   ]
  },
  {
   "cell_type": "code",
   "execution_count": 18,
   "id": "ff215d09",
   "metadata": {},
   "outputs": [
    {
     "data": {
      "text/plain": [
       "(0.004281240904940765,\n",
       " 0.9478306895469024,\n",
       " 1,\n",
       " array([[136.71268657,  40.28731343],\n",
       "        [ 70.28731343,  20.71268657]]))"
      ]
     },
     "execution_count": 18,
     "metadata": {},
     "output_type": "execute_result"
    }
   ],
   "source": [
    "# Step 16a: Import chi2_contingency from scipy.stats\n",
    "from scipy.stats import chi2_contingency\n",
    "# Step 16b: Calculate chi-square statistics iwth chi2_contingecy\n",
    "chi2_contingency(contin_table)\n",
    "# Step 16b: Print the results from 16b"
   ]
  },
  {
   "cell_type": "code",
   "execution_count": 19,
   "id": "1a6fee7d",
   "metadata": {},
   "outputs": [
    {
     "data": {
      "text/html": [
       "<div>\n",
       "<style scoped>\n",
       "    .dataframe tbody tr th:only-of-type {\n",
       "        vertical-align: middle;\n",
       "    }\n",
       "\n",
       "    .dataframe tbody tr th {\n",
       "        vertical-align: top;\n",
       "    }\n",
       "\n",
       "    .dataframe thead th {\n",
       "        text-align: right;\n",
       "    }\n",
       "</style>\n",
       "<table border=\"1\" class=\"dataframe\">\n",
       "  <thead>\n",
       "    <tr style=\"text-align: right;\">\n",
       "      <th>Suicide</th>\n",
       "      <th>No</th>\n",
       "      <th>Yes</th>\n",
       "    </tr>\n",
       "    <tr>\n",
       "      <th>Intimate</th>\n",
       "      <th></th>\n",
       "      <th></th>\n",
       "    </tr>\n",
       "  </thead>\n",
       "  <tbody>\n",
       "    <tr>\n",
       "      <th>No</th>\n",
       "      <td>121</td>\n",
       "      <td>36</td>\n",
       "    </tr>\n",
       "    <tr>\n",
       "      <th>Yes</th>\n",
       "      <td>79</td>\n",
       "      <td>24</td>\n",
       "    </tr>\n",
       "  </tbody>\n",
       "</table>\n",
       "</div>"
      ],
      "text/plain": [
       "Suicide    No  Yes\n",
       "Intimate          \n",
       "No        121   36\n",
       "Yes        79   24"
      ]
     },
     "execution_count": 19,
     "metadata": {},
     "output_type": "execute_result"
    }
   ],
   "source": [
    "# Step 16: Try different chi-square analyses\n",
    "contin_table_intimate = pd.crosstab(df['Intimate'], df['Suicide'])\n",
    "contin_table_intimate"
   ]
  },
  {
   "cell_type": "code",
   "execution_count": 20,
   "id": "ab60c905",
   "metadata": {},
   "outputs": [
    {
     "data": {
      "text/plain": [
       "(0.0,\n",
       " 1.0,\n",
       " 1,\n",
       " array([[120.76923077,  36.23076923],\n",
       "        [ 79.23076923,  23.76923077]]))"
      ]
     },
     "execution_count": 20,
     "metadata": {},
     "output_type": "execute_result"
    }
   ],
   "source": [
    "chi2_contingency(contin_table_intimate)"
   ]
  },
  {
   "cell_type": "code",
   "execution_count": 21,
   "id": "81bdacfa",
   "metadata": {},
   "outputs": [
    {
     "data": {
      "text/html": [
       "<div>\n",
       "<style scoped>\n",
       "    .dataframe tbody tr th:only-of-type {\n",
       "        vertical-align: middle;\n",
       "    }\n",
       "\n",
       "    .dataframe tbody tr th {\n",
       "        vertical-align: top;\n",
       "    }\n",
       "\n",
       "    .dataframe thead th {\n",
       "        text-align: right;\n",
       "    }\n",
       "</style>\n",
       "<table border=\"1\" class=\"dataframe\">\n",
       "  <thead>\n",
       "    <tr style=\"text-align: right;\">\n",
       "      <th>Suicide</th>\n",
       "      <th>No</th>\n",
       "      <th>Yes</th>\n",
       "    </tr>\n",
       "    <tr>\n",
       "      <th>Dep</th>\n",
       "      <th></th>\n",
       "      <th></th>\n",
       "    </tr>\n",
       "  </thead>\n",
       "  <tbody>\n",
       "    <tr>\n",
       "      <th>No</th>\n",
       "      <td>151</td>\n",
       "      <td>21</td>\n",
       "    </tr>\n",
       "    <tr>\n",
       "      <th>Yes</th>\n",
       "      <td>56</td>\n",
       "      <td>40</td>\n",
       "    </tr>\n",
       "  </tbody>\n",
       "</table>\n",
       "</div>"
      ],
      "text/plain": [
       "Suicide   No  Yes\n",
       "Dep              \n",
       "No       151   21\n",
       "Yes       56   40"
      ]
     },
     "execution_count": 21,
     "metadata": {},
     "output_type": "execute_result"
    }
   ],
   "source": [
    "contin_table_dep = pd.crosstab(df['Dep'], df['Suicide'])\n",
    "contin_table_dep"
   ]
  },
  {
   "cell_type": "code",
   "execution_count": 22,
   "id": "4e0f9b8e",
   "metadata": {},
   "outputs": [
    {
     "data": {
      "text/plain": [
       "(28.75790303846256,\n",
       " 8.201455806276997e-08,\n",
       " 1,\n",
       " array([[132.85074627,  39.14925373],\n",
       "        [ 74.14925373,  21.85074627]]))"
      ]
     },
     "execution_count": 22,
     "metadata": {},
     "output_type": "execute_result"
    }
   ],
   "source": [
    "chi2_contingency(contin_table_dep)"
   ]
  },
  {
   "cell_type": "code",
   "execution_count": 23,
   "id": "690a16e0",
   "metadata": {},
   "outputs": [
    {
     "data": {
      "text/html": [
       "<div>\n",
       "<style scoped>\n",
       "    .dataframe tbody tr th:only-of-type {\n",
       "        vertical-align: middle;\n",
       "    }\n",
       "\n",
       "    .dataframe tbody tr th {\n",
       "        vertical-align: top;\n",
       "    }\n",
       "\n",
       "    .dataframe thead th {\n",
       "        text-align: right;\n",
       "    }\n",
       "</style>\n",
       "<table border=\"1\" class=\"dataframe\">\n",
       "  <thead>\n",
       "    <tr style=\"text-align: right;\">\n",
       "      <th>Suicide</th>\n",
       "      <th>No</th>\n",
       "      <th>Yes</th>\n",
       "    </tr>\n",
       "    <tr>\n",
       "      <th>Alone_bi</th>\n",
       "      <th></th>\n",
       "      <th></th>\n",
       "    </tr>\n",
       "  </thead>\n",
       "  <tbody>\n",
       "    <tr>\n",
       "      <th>No</th>\n",
       "      <td>169</td>\n",
       "      <td>34</td>\n",
       "    </tr>\n",
       "    <tr>\n",
       "      <th>Yes</th>\n",
       "      <td>38</td>\n",
       "      <td>27</td>\n",
       "    </tr>\n",
       "  </tbody>\n",
       "</table>\n",
       "</div>"
      ],
      "text/plain": [
       "Suicide    No  Yes\n",
       "Alone_bi          \n",
       "No        169   34\n",
       "Yes        38   27"
      ]
     },
     "execution_count": 23,
     "metadata": {},
     "output_type": "execute_result"
    }
   ],
   "source": [
    "contin_table_alone = pd.crosstab(df['Alone_bi'], df['Suicide'])\n",
    "contin_table_alone"
   ]
  },
  {
   "cell_type": "code",
   "execution_count": 24,
   "id": "2801e1d5",
   "metadata": {},
   "outputs": [
    {
     "data": {
      "text/plain": [
       "(15.829028330967525,\n",
       " 6.933066712472443e-05,\n",
       " 1,\n",
       " array([[156.79477612,  46.20522388],\n",
       "        [ 50.20522388,  14.79477612]]))"
      ]
     },
     "execution_count": 24,
     "metadata": {},
     "output_type": "execute_result"
    }
   ],
   "source": [
    "chi2_contingency(contin_table_alone)"
   ]
  }
 ],
 "metadata": {
  "kernelspec": {
   "display_name": "Python 3",
   "language": "python",
   "name": "python3"
  },
  "language_info": {
   "codemirror_mode": {
    "name": "ipython",
    "version": 3
   },
   "file_extension": ".py",
   "mimetype": "text/x-python",
   "name": "python",
   "nbconvert_exporter": "python",
   "pygments_lexer": "ipython3",
   "version": "3.9.5"
  }
 },
 "nbformat": 4,
 "nbformat_minor": 5
}
